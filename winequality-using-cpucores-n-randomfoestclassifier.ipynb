{
 "cells": [
  {
   "cell_type": "code",
   "execution_count": 1,
   "id": "5f844a76",
   "metadata": {
    "_cell_guid": "b1076dfc-b9ad-4769-8c92-a6c4dae69d19",
    "_uuid": "8f2839f25d086af736a60e9eeb907d3b93b6e0e5",
    "execution": {
     "iopub.execute_input": "2024-02-13T07:08:33.016967Z",
     "iopub.status.busy": "2024-02-13T07:08:33.015906Z",
     "iopub.status.idle": "2024-02-13T07:08:33.037709Z",
     "shell.execute_reply": "2024-02-13T07:08:33.036591Z"
    },
    "papermill": {
     "duration": 0.043342,
     "end_time": "2024-02-13T07:08:33.040663",
     "exception": false,
     "start_time": "2024-02-13T07:08:32.997321",
     "status": "completed"
    },
    "tags": []
   },
   "outputs": [
    {
     "name": "stdout",
     "output_type": "stream",
     "text": [
      "/kaggle/input/winequality-datset/winequality-white.csv\n",
      "/kaggle/input/winequality-datset/winequality-red.csv\n"
     ]
    }
   ],
   "source": [
    "import os\n",
    "for dirname, _, filenames in os.walk('/kaggle/input'):\n",
    "    for filename in filenames:\n",
    "        print(os.path.join(dirname, filename))"
   ]
  },
  {
   "cell_type": "code",
   "execution_count": 2,
   "id": "46f11251",
   "metadata": {
    "execution": {
     "iopub.execute_input": "2024-02-13T07:08:33.069474Z",
     "iopub.status.busy": "2024-02-13T07:08:33.068612Z",
     "iopub.status.idle": "2024-02-13T07:08:33.073993Z",
     "shell.execute_reply": "2024-02-13T07:08:33.073001Z"
    },
    "papermill": {
     "duration": 0.022431,
     "end_time": "2024-02-13T07:08:33.076375",
     "exception": false,
     "start_time": "2024-02-13T07:08:33.053944",
     "status": "completed"
    },
    "tags": []
   },
   "outputs": [],
   "source": [
    "import warnings\n",
    "warnings.filterwarnings(\"ignore\")"
   ]
  },
  {
   "cell_type": "markdown",
   "id": "ae976f1e",
   "metadata": {
    "papermill": {
     "duration": 0.013062,
     "end_time": "2024-02-13T07:08:33.102873",
     "exception": false,
     "start_time": "2024-02-13T07:08:33.089811",
     "status": "completed"
    },
    "tags": []
   },
   "source": [
    "#### importing Libraries"
   ]
  },
  {
   "cell_type": "code",
   "execution_count": 3,
   "id": "128dc5af",
   "metadata": {
    "execution": {
     "iopub.execute_input": "2024-02-13T07:08:33.134103Z",
     "iopub.status.busy": "2024-02-13T07:08:33.132919Z",
     "iopub.status.idle": "2024-02-13T07:08:33.995061Z",
     "shell.execute_reply": "2024-02-13T07:08:33.993791Z"
    },
    "papermill": {
     "duration": 0.881205,
     "end_time": "2024-02-13T07:08:33.998153",
     "exception": false,
     "start_time": "2024-02-13T07:08:33.116948",
     "status": "completed"
    },
    "tags": []
   },
   "outputs": [],
   "source": [
    "import pandas as pd"
   ]
  },
  {
   "cell_type": "markdown",
   "id": "0089fa89",
   "metadata": {
    "papermill": {
     "duration": 0.012789,
     "end_time": "2024-02-13T07:08:34.023955",
     "exception": false,
     "start_time": "2024-02-13T07:08:34.011166",
     "status": "completed"
    },
    "tags": []
   },
   "source": [
    "#### Reading dataset"
   ]
  },
  {
   "cell_type": "code",
   "execution_count": 4,
   "id": "dedf690a",
   "metadata": {
    "execution": {
     "iopub.execute_input": "2024-02-13T07:08:34.052255Z",
     "iopub.status.busy": "2024-02-13T07:08:34.051035Z",
     "iopub.status.idle": "2024-02-13T07:08:34.083353Z",
     "shell.execute_reply": "2024-02-13T07:08:34.082320Z"
    },
    "papermill": {
     "duration": 0.049363,
     "end_time": "2024-02-13T07:08:34.086236",
     "exception": false,
     "start_time": "2024-02-13T07:08:34.036873",
     "status": "completed"
    },
    "tags": []
   },
   "outputs": [],
   "source": [
    "df = pd.read_csv(\"/kaggle/input/winequality-datset/winequality-white.csv\")"
   ]
  },
  {
   "cell_type": "markdown",
   "id": "e419e655",
   "metadata": {
    "papermill": {
     "duration": 0.01246,
     "end_time": "2024-02-13T07:08:34.111938",
     "exception": false,
     "start_time": "2024-02-13T07:08:34.099478",
     "status": "completed"
    },
    "tags": []
   },
   "source": [
    "#### Printing first 5 rows of dataset"
   ]
  },
  {
   "cell_type": "code",
   "execution_count": 5,
   "id": "c0253301",
   "metadata": {
    "execution": {
     "iopub.execute_input": "2024-02-13T07:08:34.140064Z",
     "iopub.status.busy": "2024-02-13T07:08:34.138931Z",
     "iopub.status.idle": "2024-02-13T07:08:34.168991Z",
     "shell.execute_reply": "2024-02-13T07:08:34.167796Z"
    },
    "papermill": {
     "duration": 0.046884,
     "end_time": "2024-02-13T07:08:34.171528",
     "exception": false,
     "start_time": "2024-02-13T07:08:34.124644",
     "status": "completed"
    },
    "tags": []
   },
   "outputs": [
    {
     "data": {
      "text/html": [
       "<div>\n",
       "<style scoped>\n",
       "    .dataframe tbody tr th:only-of-type {\n",
       "        vertical-align: middle;\n",
       "    }\n",
       "\n",
       "    .dataframe tbody tr th {\n",
       "        vertical-align: top;\n",
       "    }\n",
       "\n",
       "    .dataframe thead th {\n",
       "        text-align: right;\n",
       "    }\n",
       "</style>\n",
       "<table border=\"1\" class=\"dataframe\">\n",
       "  <thead>\n",
       "    <tr style=\"text-align: right;\">\n",
       "      <th></th>\n",
       "      <th>Unnamed: 0</th>\n",
       "      <th>fixed acidity</th>\n",
       "      <th>volatile acidity</th>\n",
       "      <th>citric acid</th>\n",
       "      <th>residual sugar</th>\n",
       "      <th>chlorides</th>\n",
       "      <th>free sulfur dioxide</th>\n",
       "      <th>total sulfur dioxide</th>\n",
       "      <th>density</th>\n",
       "      <th>pH</th>\n",
       "      <th>sulphates</th>\n",
       "      <th>alcohol</th>\n",
       "      <th>quality</th>\n",
       "    </tr>\n",
       "  </thead>\n",
       "  <tbody>\n",
       "    <tr>\n",
       "      <th>0</th>\n",
       "      <td>0</td>\n",
       "      <td>7.0</td>\n",
       "      <td>0.27</td>\n",
       "      <td>0.36</td>\n",
       "      <td>20.7</td>\n",
       "      <td>0.045</td>\n",
       "      <td>45.0</td>\n",
       "      <td>170.0</td>\n",
       "      <td>1.0010</td>\n",
       "      <td>3.00</td>\n",
       "      <td>0.45</td>\n",
       "      <td>8.8</td>\n",
       "      <td>6</td>\n",
       "    </tr>\n",
       "    <tr>\n",
       "      <th>1</th>\n",
       "      <td>1</td>\n",
       "      <td>6.3</td>\n",
       "      <td>0.30</td>\n",
       "      <td>0.34</td>\n",
       "      <td>1.6</td>\n",
       "      <td>0.049</td>\n",
       "      <td>14.0</td>\n",
       "      <td>132.0</td>\n",
       "      <td>0.9940</td>\n",
       "      <td>3.30</td>\n",
       "      <td>0.49</td>\n",
       "      <td>9.5</td>\n",
       "      <td>6</td>\n",
       "    </tr>\n",
       "    <tr>\n",
       "      <th>2</th>\n",
       "      <td>2</td>\n",
       "      <td>8.1</td>\n",
       "      <td>0.28</td>\n",
       "      <td>0.40</td>\n",
       "      <td>6.9</td>\n",
       "      <td>0.050</td>\n",
       "      <td>30.0</td>\n",
       "      <td>97.0</td>\n",
       "      <td>0.9951</td>\n",
       "      <td>3.26</td>\n",
       "      <td>0.44</td>\n",
       "      <td>10.1</td>\n",
       "      <td>6</td>\n",
       "    </tr>\n",
       "    <tr>\n",
       "      <th>3</th>\n",
       "      <td>3</td>\n",
       "      <td>7.2</td>\n",
       "      <td>0.23</td>\n",
       "      <td>0.32</td>\n",
       "      <td>8.5</td>\n",
       "      <td>0.058</td>\n",
       "      <td>47.0</td>\n",
       "      <td>186.0</td>\n",
       "      <td>0.9956</td>\n",
       "      <td>3.19</td>\n",
       "      <td>0.40</td>\n",
       "      <td>9.9</td>\n",
       "      <td>6</td>\n",
       "    </tr>\n",
       "    <tr>\n",
       "      <th>4</th>\n",
       "      <td>4</td>\n",
       "      <td>7.2</td>\n",
       "      <td>0.23</td>\n",
       "      <td>0.32</td>\n",
       "      <td>8.5</td>\n",
       "      <td>0.058</td>\n",
       "      <td>47.0</td>\n",
       "      <td>186.0</td>\n",
       "      <td>0.9956</td>\n",
       "      <td>3.19</td>\n",
       "      <td>0.40</td>\n",
       "      <td>9.9</td>\n",
       "      <td>6</td>\n",
       "    </tr>\n",
       "  </tbody>\n",
       "</table>\n",
       "</div>"
      ],
      "text/plain": [
       "   Unnamed: 0  fixed acidity  volatile acidity  citric acid  residual sugar  \\\n",
       "0           0            7.0              0.27         0.36            20.7   \n",
       "1           1            6.3              0.30         0.34             1.6   \n",
       "2           2            8.1              0.28         0.40             6.9   \n",
       "3           3            7.2              0.23         0.32             8.5   \n",
       "4           4            7.2              0.23         0.32             8.5   \n",
       "\n",
       "   chlorides  free sulfur dioxide  total sulfur dioxide  density    pH  \\\n",
       "0      0.045                 45.0                 170.0   1.0010  3.00   \n",
       "1      0.049                 14.0                 132.0   0.9940  3.30   \n",
       "2      0.050                 30.0                  97.0   0.9951  3.26   \n",
       "3      0.058                 47.0                 186.0   0.9956  3.19   \n",
       "4      0.058                 47.0                 186.0   0.9956  3.19   \n",
       "\n",
       "   sulphates  alcohol  quality  \n",
       "0       0.45      8.8        6  \n",
       "1       0.49      9.5        6  \n",
       "2       0.44     10.1        6  \n",
       "3       0.40      9.9        6  \n",
       "4       0.40      9.9        6  "
      ]
     },
     "execution_count": 5,
     "metadata": {},
     "output_type": "execute_result"
    }
   ],
   "source": [
    "df.head()"
   ]
  },
  {
   "cell_type": "markdown",
   "id": "9a7a39f4",
   "metadata": {
    "papermill": {
     "duration": 0.012992,
     "end_time": "2024-02-13T07:08:34.197803",
     "exception": false,
     "start_time": "2024-02-13T07:08:34.184811",
     "status": "completed"
    },
    "tags": []
   },
   "source": [
    "#### Information of dataset"
   ]
  },
  {
   "cell_type": "code",
   "execution_count": 6,
   "id": "48360177",
   "metadata": {
    "execution": {
     "iopub.execute_input": "2024-02-13T07:08:34.226082Z",
     "iopub.status.busy": "2024-02-13T07:08:34.225628Z",
     "iopub.status.idle": "2024-02-13T07:08:34.253139Z",
     "shell.execute_reply": "2024-02-13T07:08:34.251901Z"
    },
    "papermill": {
     "duration": 0.045348,
     "end_time": "2024-02-13T07:08:34.256271",
     "exception": false,
     "start_time": "2024-02-13T07:08:34.210923",
     "status": "completed"
    },
    "tags": []
   },
   "outputs": [
    {
     "name": "stdout",
     "output_type": "stream",
     "text": [
      "<class 'pandas.core.frame.DataFrame'>\n",
      "RangeIndex: 4898 entries, 0 to 4897\n",
      "Data columns (total 13 columns):\n",
      " #   Column                Non-Null Count  Dtype  \n",
      "---  ------                --------------  -----  \n",
      " 0   Unnamed: 0            4898 non-null   int64  \n",
      " 1   fixed acidity         4898 non-null   float64\n",
      " 2   volatile acidity      4898 non-null   float64\n",
      " 3   citric acid           4898 non-null   float64\n",
      " 4   residual sugar        4898 non-null   float64\n",
      " 5   chlorides             4898 non-null   float64\n",
      " 6   free sulfur dioxide   4898 non-null   float64\n",
      " 7   total sulfur dioxide  4898 non-null   float64\n",
      " 8   density               4898 non-null   float64\n",
      " 9   pH                    4898 non-null   float64\n",
      " 10  sulphates             4898 non-null   float64\n",
      " 11  alcohol               4898 non-null   float64\n",
      " 12  quality               4898 non-null   int64  \n",
      "dtypes: float64(11), int64(2)\n",
      "memory usage: 497.6 KB\n"
     ]
    }
   ],
   "source": [
    "df.info()"
   ]
  },
  {
   "cell_type": "markdown",
   "id": "681b059c",
   "metadata": {
    "papermill": {
     "duration": 0.012915,
     "end_time": "2024-02-13T07:08:34.282530",
     "exception": false,
     "start_time": "2024-02-13T07:08:34.269615",
     "status": "completed"
    },
    "tags": []
   },
   "source": [
    "#### Printing columns dataset contains"
   ]
  },
  {
   "cell_type": "code",
   "execution_count": 7,
   "id": "ba95d68a",
   "metadata": {
    "execution": {
     "iopub.execute_input": "2024-02-13T07:08:34.312323Z",
     "iopub.status.busy": "2024-02-13T07:08:34.311512Z",
     "iopub.status.idle": "2024-02-13T07:08:34.317835Z",
     "shell.execute_reply": "2024-02-13T07:08:34.317053Z"
    },
    "papermill": {
     "duration": 0.023904,
     "end_time": "2024-02-13T07:08:34.320071",
     "exception": false,
     "start_time": "2024-02-13T07:08:34.296167",
     "status": "completed"
    },
    "tags": []
   },
   "outputs": [
    {
     "data": {
      "text/plain": [
       "Index(['Unnamed: 0', 'fixed acidity', 'volatile acidity', 'citric acid',\n",
       "       'residual sugar', 'chlorides', 'free sulfur dioxide',\n",
       "       'total sulfur dioxide', 'density', 'pH', 'sulphates', 'alcohol',\n",
       "       'quality'],\n",
       "      dtype='object')"
      ]
     },
     "execution_count": 7,
     "metadata": {},
     "output_type": "execute_result"
    }
   ],
   "source": [
    "df.columns"
   ]
  },
  {
   "cell_type": "markdown",
   "id": "074edba4",
   "metadata": {
    "papermill": {
     "duration": 0.013526,
     "end_time": "2024-02-13T07:08:34.349028",
     "exception": false,
     "start_time": "2024-02-13T07:08:34.335502",
     "status": "completed"
    },
    "tags": []
   },
   "source": [
    "#### EDA and droping columns that not requied "
   ]
  },
  {
   "cell_type": "code",
   "execution_count": 8,
   "id": "5637bcff",
   "metadata": {
    "execution": {
     "iopub.execute_input": "2024-02-13T07:08:34.378583Z",
     "iopub.status.busy": "2024-02-13T07:08:34.377795Z",
     "iopub.status.idle": "2024-02-13T07:08:34.385035Z",
     "shell.execute_reply": "2024-02-13T07:08:34.384127Z"
    },
    "papermill": {
     "duration": 0.024817,
     "end_time": "2024-02-13T07:08:34.387393",
     "exception": false,
     "start_time": "2024-02-13T07:08:34.362576",
     "status": "completed"
    },
    "tags": []
   },
   "outputs": [],
   "source": [
    "df = df.drop(\"Unnamed: 0\", axis=1)"
   ]
  },
  {
   "cell_type": "code",
   "execution_count": 9,
   "id": "f6e04133",
   "metadata": {
    "execution": {
     "iopub.execute_input": "2024-02-13T07:08:34.417131Z",
     "iopub.status.busy": "2024-02-13T07:08:34.416197Z",
     "iopub.status.idle": "2024-02-13T07:08:34.423573Z",
     "shell.execute_reply": "2024-02-13T07:08:34.422639Z"
    },
    "papermill": {
     "duration": 0.024923,
     "end_time": "2024-02-13T07:08:34.425919",
     "exception": false,
     "start_time": "2024-02-13T07:08:34.400996",
     "status": "completed"
    },
    "tags": []
   },
   "outputs": [
    {
     "data": {
      "text/plain": [
       "Index(['fixed acidity', 'volatile acidity', 'citric acid', 'residual sugar',\n",
       "       'chlorides', 'free sulfur dioxide', 'total sulfur dioxide', 'density',\n",
       "       'pH', 'sulphates', 'alcohol', 'quality'],\n",
       "      dtype='object')"
      ]
     },
     "execution_count": 9,
     "metadata": {},
     "output_type": "execute_result"
    }
   ],
   "source": [
    "df.columns"
   ]
  },
  {
   "cell_type": "code",
   "execution_count": 10,
   "id": "2eaecad3",
   "metadata": {
    "execution": {
     "iopub.execute_input": "2024-02-13T07:08:34.455421Z",
     "iopub.status.busy": "2024-02-13T07:08:34.454302Z",
     "iopub.status.idle": "2024-02-13T07:08:34.461499Z",
     "shell.execute_reply": "2024-02-13T07:08:34.460306Z"
    },
    "papermill": {
     "duration": 0.024194,
     "end_time": "2024-02-13T07:08:34.463745",
     "exception": false,
     "start_time": "2024-02-13T07:08:34.439551",
     "status": "completed"
    },
    "tags": []
   },
   "outputs": [
    {
     "data": {
      "text/plain": [
       "(4898, 12)"
      ]
     },
     "execution_count": 10,
     "metadata": {},
     "output_type": "execute_result"
    }
   ],
   "source": [
    "df.shape"
   ]
  },
  {
   "cell_type": "markdown",
   "id": "5eafb9a3",
   "metadata": {
    "papermill": {
     "duration": 0.013565,
     "end_time": "2024-02-13T07:08:34.490644",
     "exception": false,
     "start_time": "2024-02-13T07:08:34.477079",
     "status": "completed"
    },
    "tags": []
   },
   "source": [
    "#### Printing Unique values of Quality"
   ]
  },
  {
   "cell_type": "code",
   "execution_count": 11,
   "id": "29d772ae",
   "metadata": {
    "execution": {
     "iopub.execute_input": "2024-02-13T07:08:34.519924Z",
     "iopub.status.busy": "2024-02-13T07:08:34.519466Z",
     "iopub.status.idle": "2024-02-13T07:08:34.528638Z",
     "shell.execute_reply": "2024-02-13T07:08:34.527755Z"
    },
    "papermill": {
     "duration": 0.026816,
     "end_time": "2024-02-13T07:08:34.531141",
     "exception": false,
     "start_time": "2024-02-13T07:08:34.504325",
     "status": "completed"
    },
    "tags": []
   },
   "outputs": [
    {
     "data": {
      "text/plain": [
       "array([6, 5, 7, 8, 4, 3, 9])"
      ]
     },
     "execution_count": 11,
     "metadata": {},
     "output_type": "execute_result"
    }
   ],
   "source": [
    "df[\"quality\"].unique()"
   ]
  },
  {
   "cell_type": "markdown",
   "id": "7e86162b",
   "metadata": {
    "papermill": {
     "duration": 0.013789,
     "end_time": "2024-02-13T07:08:34.559046",
     "exception": false,
     "start_time": "2024-02-13T07:08:34.545257",
     "status": "completed"
    },
    "tags": []
   },
   "source": [
    "#### Splitting the dataset into Features and Target"
   ]
  },
  {
   "cell_type": "code",
   "execution_count": 12,
   "id": "0e35ee1d",
   "metadata": {
    "execution": {
     "iopub.execute_input": "2024-02-13T07:08:34.589771Z",
     "iopub.status.busy": "2024-02-13T07:08:34.589303Z",
     "iopub.status.idle": "2024-02-13T07:08:34.611272Z",
     "shell.execute_reply": "2024-02-13T07:08:34.610121Z"
    },
    "papermill": {
     "duration": 0.040228,
     "end_time": "2024-02-13T07:08:34.613684",
     "exception": false,
     "start_time": "2024-02-13T07:08:34.573456",
     "status": "completed"
    },
    "tags": []
   },
   "outputs": [
    {
     "data": {
      "text/html": [
       "<div>\n",
       "<style scoped>\n",
       "    .dataframe tbody tr th:only-of-type {\n",
       "        vertical-align: middle;\n",
       "    }\n",
       "\n",
       "    .dataframe tbody tr th {\n",
       "        vertical-align: top;\n",
       "    }\n",
       "\n",
       "    .dataframe thead th {\n",
       "        text-align: right;\n",
       "    }\n",
       "</style>\n",
       "<table border=\"1\" class=\"dataframe\">\n",
       "  <thead>\n",
       "    <tr style=\"text-align: right;\">\n",
       "      <th></th>\n",
       "      <th>fixed acidity</th>\n",
       "      <th>volatile acidity</th>\n",
       "      <th>citric acid</th>\n",
       "      <th>residual sugar</th>\n",
       "      <th>chlorides</th>\n",
       "      <th>free sulfur dioxide</th>\n",
       "      <th>total sulfur dioxide</th>\n",
       "      <th>density</th>\n",
       "      <th>pH</th>\n",
       "      <th>sulphates</th>\n",
       "      <th>alcohol</th>\n",
       "    </tr>\n",
       "  </thead>\n",
       "  <tbody>\n",
       "    <tr>\n",
       "      <th>0</th>\n",
       "      <td>7.0</td>\n",
       "      <td>0.27</td>\n",
       "      <td>0.36</td>\n",
       "      <td>20.7</td>\n",
       "      <td>0.045</td>\n",
       "      <td>45.0</td>\n",
       "      <td>170.0</td>\n",
       "      <td>1.0010</td>\n",
       "      <td>3.00</td>\n",
       "      <td>0.45</td>\n",
       "      <td>8.8</td>\n",
       "    </tr>\n",
       "    <tr>\n",
       "      <th>1</th>\n",
       "      <td>6.3</td>\n",
       "      <td>0.30</td>\n",
       "      <td>0.34</td>\n",
       "      <td>1.6</td>\n",
       "      <td>0.049</td>\n",
       "      <td>14.0</td>\n",
       "      <td>132.0</td>\n",
       "      <td>0.9940</td>\n",
       "      <td>3.30</td>\n",
       "      <td>0.49</td>\n",
       "      <td>9.5</td>\n",
       "    </tr>\n",
       "    <tr>\n",
       "      <th>2</th>\n",
       "      <td>8.1</td>\n",
       "      <td>0.28</td>\n",
       "      <td>0.40</td>\n",
       "      <td>6.9</td>\n",
       "      <td>0.050</td>\n",
       "      <td>30.0</td>\n",
       "      <td>97.0</td>\n",
       "      <td>0.9951</td>\n",
       "      <td>3.26</td>\n",
       "      <td>0.44</td>\n",
       "      <td>10.1</td>\n",
       "    </tr>\n",
       "    <tr>\n",
       "      <th>3</th>\n",
       "      <td>7.2</td>\n",
       "      <td>0.23</td>\n",
       "      <td>0.32</td>\n",
       "      <td>8.5</td>\n",
       "      <td>0.058</td>\n",
       "      <td>47.0</td>\n",
       "      <td>186.0</td>\n",
       "      <td>0.9956</td>\n",
       "      <td>3.19</td>\n",
       "      <td>0.40</td>\n",
       "      <td>9.9</td>\n",
       "    </tr>\n",
       "    <tr>\n",
       "      <th>4</th>\n",
       "      <td>7.2</td>\n",
       "      <td>0.23</td>\n",
       "      <td>0.32</td>\n",
       "      <td>8.5</td>\n",
       "      <td>0.058</td>\n",
       "      <td>47.0</td>\n",
       "      <td>186.0</td>\n",
       "      <td>0.9956</td>\n",
       "      <td>3.19</td>\n",
       "      <td>0.40</td>\n",
       "      <td>9.9</td>\n",
       "    </tr>\n",
       "  </tbody>\n",
       "</table>\n",
       "</div>"
      ],
      "text/plain": [
       "   fixed acidity  volatile acidity  citric acid  residual sugar  chlorides  \\\n",
       "0            7.0              0.27         0.36            20.7      0.045   \n",
       "1            6.3              0.30         0.34             1.6      0.049   \n",
       "2            8.1              0.28         0.40             6.9      0.050   \n",
       "3            7.2              0.23         0.32             8.5      0.058   \n",
       "4            7.2              0.23         0.32             8.5      0.058   \n",
       "\n",
       "   free sulfur dioxide  total sulfur dioxide  density    pH  sulphates  \\\n",
       "0                 45.0                 170.0   1.0010  3.00       0.45   \n",
       "1                 14.0                 132.0   0.9940  3.30       0.49   \n",
       "2                 30.0                  97.0   0.9951  3.26       0.44   \n",
       "3                 47.0                 186.0   0.9956  3.19       0.40   \n",
       "4                 47.0                 186.0   0.9956  3.19       0.40   \n",
       "\n",
       "   alcohol  \n",
       "0      8.8  \n",
       "1      9.5  \n",
       "2     10.1  \n",
       "3      9.9  \n",
       "4      9.9  "
      ]
     },
     "execution_count": 12,
     "metadata": {},
     "output_type": "execute_result"
    }
   ],
   "source": [
    "X = df.iloc[:,:-1]\n",
    "X.head()"
   ]
  },
  {
   "cell_type": "code",
   "execution_count": 13,
   "id": "644ba99f",
   "metadata": {
    "execution": {
     "iopub.execute_input": "2024-02-13T07:08:34.644182Z",
     "iopub.status.busy": "2024-02-13T07:08:34.643443Z",
     "iopub.status.idle": "2024-02-13T07:08:34.651932Z",
     "shell.execute_reply": "2024-02-13T07:08:34.650655Z"
    },
    "papermill": {
     "duration": 0.026663,
     "end_time": "2024-02-13T07:08:34.654313",
     "exception": false,
     "start_time": "2024-02-13T07:08:34.627650",
     "status": "completed"
    },
    "tags": []
   },
   "outputs": [
    {
     "data": {
      "text/plain": [
       "0    6\n",
       "1    6\n",
       "2    6\n",
       "3    6\n",
       "4    6\n",
       "Name: quality, dtype: int64"
      ]
     },
     "execution_count": 13,
     "metadata": {},
     "output_type": "execute_result"
    }
   ],
   "source": [
    "y = df.iloc[:,-1]\n",
    "y.head()"
   ]
  },
  {
   "cell_type": "markdown",
   "id": "6be7d035",
   "metadata": {
    "papermill": {
     "duration": 0.014355,
     "end_time": "2024-02-13T07:08:34.683065",
     "exception": false,
     "start_time": "2024-02-13T07:08:34.668710",
     "status": "completed"
    },
    "tags": []
   },
   "source": [
    "# CPU cores\n",
    "* Machine learning algorithm like random forest\n",
    "* ReapeatedStratifiedKFold\n",
    "* cross val score[]"
   ]
  },
  {
   "cell_type": "code",
   "execution_count": 14,
   "id": "8bc8c616",
   "metadata": {
    "execution": {
     "iopub.execute_input": "2024-02-13T07:08:34.713546Z",
     "iopub.status.busy": "2024-02-13T07:08:34.713120Z",
     "iopub.status.idle": "2024-02-13T07:08:36.322062Z",
     "shell.execute_reply": "2024-02-13T07:08:36.320921Z"
    },
    "papermill": {
     "duration": 1.627808,
     "end_time": "2024-02-13T07:08:36.325121",
     "exception": false,
     "start_time": "2024-02-13T07:08:34.697313",
     "status": "completed"
    },
    "tags": []
   },
   "outputs": [],
   "source": [
    "from time import time\n",
    "from sklearn.model_selection import RepeatedStratifiedKFold\n",
    "from sklearn.ensemble import RandomForestClassifier\n",
    "from sklearn.model_selection import cross_val_score"
   ]
  },
  {
   "cell_type": "code",
   "execution_count": 15,
   "id": "7d3ed53c",
   "metadata": {
    "execution": {
     "iopub.execute_input": "2024-02-13T07:08:36.358164Z",
     "iopub.status.busy": "2024-02-13T07:08:36.357040Z",
     "iopub.status.idle": "2024-02-13T07:08:36.363093Z",
     "shell.execute_reply": "2024-02-13T07:08:36.362198Z"
    },
    "papermill": {
     "duration": 0.024423,
     "end_time": "2024-02-13T07:08:36.365297",
     "exception": false,
     "start_time": "2024-02-13T07:08:36.340874",
     "status": "completed"
    },
    "tags": []
   },
   "outputs": [],
   "source": [
    "model = RandomForestClassifier(n_estimators=100)\n",
    "\n",
    "# Define the evaluation procedure\n",
    "cv = RepeatedStratifiedKFold(n_splits=5, n_repeats=3, random_state=4)"
   ]
  },
  {
   "cell_type": "markdown",
   "id": "3fb0cd74",
   "metadata": {
    "papermill": {
     "duration": 0.013937,
     "end_time": "2024-02-13T07:08:36.393498",
     "exception": false,
     "start_time": "2024-02-13T07:08:36.379561",
     "status": "completed"
    },
    "tags": []
   },
   "source": [
    "#### CPU cores we use n_jobs\n",
    "\n",
    "#### 1 CPU Cores"
   ]
  },
  {
   "cell_type": "code",
   "execution_count": 16,
   "id": "df7dfe03",
   "metadata": {
    "execution": {
     "iopub.execute_input": "2024-02-13T07:08:36.424940Z",
     "iopub.status.busy": "2024-02-13T07:08:36.424030Z",
     "iopub.status.idle": "2024-02-13T07:08:53.659256Z",
     "shell.execute_reply": "2024-02-13T07:08:53.657387Z"
    },
    "papermill": {
     "duration": 17.25384,
     "end_time": "2024-02-13T07:08:53.662011",
     "exception": false,
     "start_time": "2024-02-13T07:08:36.408171",
     "status": "completed"
    },
    "tags": []
   },
   "outputs": [
    {
     "name": "stdout",
     "output_type": "stream",
     "text": [
      "1707808116.428113 \n",
      " 1707808133.65376\n",
      "Time taken :  17.22564697265625\n"
     ]
    }
   ],
   "source": [
    "start_time = time()\n",
    "n_score = cross_val_score(model, df.iloc[:,:-1], df.iloc[:,-1], scoring=\"accuracy\",cv=cv, n_jobs=1)\n",
    "end_time = time()\n",
    "print(start_time ,\"\\n\",end_time)\n",
    "print(\"Time taken : \",end_time-start_time)"
   ]
  },
  {
   "cell_type": "markdown",
   "id": "b598c0ce",
   "metadata": {
    "papermill": {
     "duration": 0.014004,
     "end_time": "2024-02-13T07:08:53.690697",
     "exception": false,
     "start_time": "2024-02-13T07:08:53.676693",
     "status": "completed"
    },
    "tags": []
   },
   "source": [
    "#### 2 CPU Cores"
   ]
  },
  {
   "cell_type": "code",
   "execution_count": 17,
   "id": "f4fa097c",
   "metadata": {
    "execution": {
     "iopub.execute_input": "2024-02-13T07:08:53.721859Z",
     "iopub.status.busy": "2024-02-13T07:08:53.721099Z",
     "iopub.status.idle": "2024-02-13T07:09:04.491671Z",
     "shell.execute_reply": "2024-02-13T07:09:04.490563Z"
    },
    "papermill": {
     "duration": 10.788911,
     "end_time": "2024-02-13T07:09:04.494281",
     "exception": false,
     "start_time": "2024-02-13T07:08:53.705370",
     "status": "completed"
    },
    "tags": []
   },
   "outputs": [
    {
     "name": "stdout",
     "output_type": "stream",
     "text": [
      "1707808133.7243483 \n",
      " 1707808144.4865549\n",
      "Time taken :  10.762206554412842\n"
     ]
    }
   ],
   "source": [
    "start_time = time()\n",
    "n_score = cross_val_score(model, df.iloc[:,:-1], df.iloc[:,-1], scoring=\"accuracy\",cv=cv, n_jobs=2)\n",
    "end_time = time()\n",
    "print(start_time ,\"\\n\",end_time)\n",
    "print(\"Time taken : \",end_time-start_time)"
   ]
  },
  {
   "cell_type": "markdown",
   "id": "f62ac6d1",
   "metadata": {
    "papermill": {
     "duration": 0.013965,
     "end_time": "2024-02-13T07:09:04.523429",
     "exception": false,
     "start_time": "2024-02-13T07:09:04.509464",
     "status": "completed"
    },
    "tags": []
   },
   "source": [
    "#### 4 CPU Cores"
   ]
  },
  {
   "cell_type": "code",
   "execution_count": 18,
   "id": "5cea695e",
   "metadata": {
    "execution": {
     "iopub.execute_input": "2024-02-13T07:09:04.554755Z",
     "iopub.status.busy": "2024-02-13T07:09:04.554282Z",
     "iopub.status.idle": "2024-02-13T07:09:13.043085Z",
     "shell.execute_reply": "2024-02-13T07:09:13.041977Z"
    },
    "papermill": {
     "duration": 8.508202,
     "end_time": "2024-02-13T07:09:13.045815",
     "exception": false,
     "start_time": "2024-02-13T07:09:04.537613",
     "status": "completed"
    },
    "tags": []
   },
   "outputs": [
    {
     "name": "stdout",
     "output_type": "stream",
     "text": [
      "1707808144.5573964 \n",
      " 1707808153.0388248\n",
      "Time taken :  8.481428384780884\n"
     ]
    }
   ],
   "source": [
    "start_time = time()\n",
    "n_score = cross_val_score(model, df.iloc[:,:-1], df.iloc[:,-1], scoring=\"accuracy\",cv=cv, n_jobs=4)\n",
    "end_time = time()\n",
    "print(start_time ,\"\\n\",end_time)\n",
    "print(\"Time taken : \",end_time-start_time)"
   ]
  },
  {
   "cell_type": "markdown",
   "id": "38c9d65e",
   "metadata": {
    "papermill": {
     "duration": 0.01407,
     "end_time": "2024-02-13T07:09:13.075068",
     "exception": false,
     "start_time": "2024-02-13T07:09:13.060998",
     "status": "completed"
    },
    "tags": []
   },
   "source": [
    "#### Lets utilise all the cores"
   ]
  },
  {
   "cell_type": "code",
   "execution_count": 19,
   "id": "da0051d4",
   "metadata": {
    "execution": {
     "iopub.execute_input": "2024-02-13T07:09:13.106921Z",
     "iopub.status.busy": "2024-02-13T07:09:13.106240Z",
     "iopub.status.idle": "2024-02-13T07:09:19.308086Z",
     "shell.execute_reply": "2024-02-13T07:09:19.307084Z"
    },
    "papermill": {
     "duration": 6.22213,
     "end_time": "2024-02-13T07:09:19.311806",
     "exception": false,
     "start_time": "2024-02-13T07:09:13.089676",
     "status": "completed"
    },
    "tags": []
   },
   "outputs": [
    {
     "name": "stdout",
     "output_type": "stream",
     "text": [
      "1707808153.10985 \n",
      " 1707808159.3018367\n",
      "Time taken :  6.191986799240112\n"
     ]
    }
   ],
   "source": [
    "start_time = time()\n",
    "n_score = cross_val_score(model, df.iloc[:,:-1], df.iloc[:,-1], scoring=\"accuracy\",cv=cv, n_jobs=-1)\n",
    "end_time = time()\n",
    "print(start_time ,\"\\n\",end_time)\n",
    "print(\"Time taken : \",end_time-start_time)"
   ]
  },
  {
   "cell_type": "markdown",
   "id": "6aca641e",
   "metadata": {
    "papermill": {
     "duration": 0.014381,
     "end_time": "2024-02-13T07:09:19.341870",
     "exception": false,
     "start_time": "2024-02-13T07:09:19.327489",
     "status": "completed"
    },
    "tags": []
   },
   "source": [
    "#### Cheking how much time it takes with different cores"
   ]
  },
  {
   "cell_type": "code",
   "execution_count": 20,
   "id": "4b52f6e7",
   "metadata": {
    "execution": {
     "iopub.execute_input": "2024-02-13T07:09:19.373088Z",
     "iopub.status.busy": "2024-02-13T07:09:19.372664Z",
     "iopub.status.idle": "2024-02-13T07:10:44.014625Z",
     "shell.execute_reply": "2024-02-13T07:10:44.013010Z"
    },
    "papermill": {
     "duration": 84.661794,
     "end_time": "2024-02-13T07:10:44.018423",
     "exception": false,
     "start_time": "2024-02-13T07:09:19.356629",
     "status": "completed"
    },
    "tags": []
   },
   "outputs": [
    {
     "name": "stdout",
     "output_type": "stream",
     "text": [
      "For cores : 1 Time taken : 16.999249935150146\n",
      "For cores : 2 Time taken : 10.870087146759033\n",
      "For cores : 3 Time taken : 9.462929487228394\n",
      "For cores : 4 Time taken : 6.5206685066223145\n",
      "For cores : 5 Time taken : 7.026848793029785\n",
      "For cores : 6 Time taken : 6.510873079299927\n",
      "For cores : 7 Time taken : 6.784381628036499\n",
      "For cores : 8 Time taken : 7.145739555358887\n",
      "For cores : 9 Time taken : 6.611808776855469\n",
      "For cores : 10 Time taken : 6.697628498077393\n"
     ]
    }
   ],
   "source": [
    "cores = [1,2,3,4,5,6,7,8,9,10]\n",
    "for core in cores:\n",
    "    start_time = time()\n",
    "    n_score = cross_val_score(model, df.iloc[:,:-1], df.iloc[:,-1], scoring=\"accuracy\",cv=cv, n_jobs=core)\n",
    "    end_time = time()\n",
    "    print(f\"For cores : {core} Time taken : {end_time-start_time}\")"
   ]
  },
  {
   "cell_type": "markdown",
   "id": "8c3a5abb",
   "metadata": {
    "papermill": {
     "duration": 0.022975,
     "end_time": "2024-02-13T07:10:44.063361",
     "exception": false,
     "start_time": "2024-02-13T07:10:44.040386",
     "status": "completed"
    },
    "tags": []
   },
   "source": [
    "#### Splitting the dataset into train test"
   ]
  },
  {
   "cell_type": "code",
   "execution_count": 21,
   "id": "a1173d5f",
   "metadata": {
    "execution": {
     "iopub.execute_input": "2024-02-13T07:10:44.197572Z",
     "iopub.status.busy": "2024-02-13T07:10:44.197055Z",
     "iopub.status.idle": "2024-02-13T07:10:44.205787Z",
     "shell.execute_reply": "2024-02-13T07:10:44.204907Z"
    },
    "papermill": {
     "duration": 0.029388,
     "end_time": "2024-02-13T07:10:44.208273",
     "exception": false,
     "start_time": "2024-02-13T07:10:44.178885",
     "status": "completed"
    },
    "tags": []
   },
   "outputs": [],
   "source": [
    "from sklearn.model_selection import train_test_split\n",
    "x_train,x_test, y_train, y_test = train_test_split(X, y ,test_size=0.30)"
   ]
  },
  {
   "cell_type": "code",
   "execution_count": 22,
   "id": "dcf1cc52",
   "metadata": {
    "execution": {
     "iopub.execute_input": "2024-02-13T07:10:44.242144Z",
     "iopub.status.busy": "2024-02-13T07:10:44.241714Z",
     "iopub.status.idle": "2024-02-13T07:10:45.251539Z",
     "shell.execute_reply": "2024-02-13T07:10:45.250314Z"
    },
    "papermill": {
     "duration": 1.02992,
     "end_time": "2024-02-13T07:10:45.254411",
     "exception": false,
     "start_time": "2024-02-13T07:10:44.224491",
     "status": "completed"
    },
    "tags": []
   },
   "outputs": [
    {
     "data": {
      "text/html": [
       "<style>#sk-container-id-1 {color: black;background-color: white;}#sk-container-id-1 pre{padding: 0;}#sk-container-id-1 div.sk-toggleable {background-color: white;}#sk-container-id-1 label.sk-toggleable__label {cursor: pointer;display: block;width: 100%;margin-bottom: 0;padding: 0.3em;box-sizing: border-box;text-align: center;}#sk-container-id-1 label.sk-toggleable__label-arrow:before {content: \"▸\";float: left;margin-right: 0.25em;color: #696969;}#sk-container-id-1 label.sk-toggleable__label-arrow:hover:before {color: black;}#sk-container-id-1 div.sk-estimator:hover label.sk-toggleable__label-arrow:before {color: black;}#sk-container-id-1 div.sk-toggleable__content {max-height: 0;max-width: 0;overflow: hidden;text-align: left;background-color: #f0f8ff;}#sk-container-id-1 div.sk-toggleable__content pre {margin: 0.2em;color: black;border-radius: 0.25em;background-color: #f0f8ff;}#sk-container-id-1 input.sk-toggleable__control:checked~div.sk-toggleable__content {max-height: 200px;max-width: 100%;overflow: auto;}#sk-container-id-1 input.sk-toggleable__control:checked~label.sk-toggleable__label-arrow:before {content: \"▾\";}#sk-container-id-1 div.sk-estimator input.sk-toggleable__control:checked~label.sk-toggleable__label {background-color: #d4ebff;}#sk-container-id-1 div.sk-label input.sk-toggleable__control:checked~label.sk-toggleable__label {background-color: #d4ebff;}#sk-container-id-1 input.sk-hidden--visually {border: 0;clip: rect(1px 1px 1px 1px);clip: rect(1px, 1px, 1px, 1px);height: 1px;margin: -1px;overflow: hidden;padding: 0;position: absolute;width: 1px;}#sk-container-id-1 div.sk-estimator {font-family: monospace;background-color: #f0f8ff;border: 1px dotted black;border-radius: 0.25em;box-sizing: border-box;margin-bottom: 0.5em;}#sk-container-id-1 div.sk-estimator:hover {background-color: #d4ebff;}#sk-container-id-1 div.sk-parallel-item::after {content: \"\";width: 100%;border-bottom: 1px solid gray;flex-grow: 1;}#sk-container-id-1 div.sk-label:hover label.sk-toggleable__label {background-color: #d4ebff;}#sk-container-id-1 div.sk-serial::before {content: \"\";position: absolute;border-left: 1px solid gray;box-sizing: border-box;top: 0;bottom: 0;left: 50%;z-index: 0;}#sk-container-id-1 div.sk-serial {display: flex;flex-direction: column;align-items: center;background-color: white;padding-right: 0.2em;padding-left: 0.2em;position: relative;}#sk-container-id-1 div.sk-item {position: relative;z-index: 1;}#sk-container-id-1 div.sk-parallel {display: flex;align-items: stretch;justify-content: center;background-color: white;position: relative;}#sk-container-id-1 div.sk-item::before, #sk-container-id-1 div.sk-parallel-item::before {content: \"\";position: absolute;border-left: 1px solid gray;box-sizing: border-box;top: 0;bottom: 0;left: 50%;z-index: -1;}#sk-container-id-1 div.sk-parallel-item {display: flex;flex-direction: column;z-index: 1;position: relative;background-color: white;}#sk-container-id-1 div.sk-parallel-item:first-child::after {align-self: flex-end;width: 50%;}#sk-container-id-1 div.sk-parallel-item:last-child::after {align-self: flex-start;width: 50%;}#sk-container-id-1 div.sk-parallel-item:only-child::after {width: 0;}#sk-container-id-1 div.sk-dashed-wrapped {border: 1px dashed gray;margin: 0 0.4em 0.5em 0.4em;box-sizing: border-box;padding-bottom: 0.4em;background-color: white;}#sk-container-id-1 div.sk-label label {font-family: monospace;font-weight: bold;display: inline-block;line-height: 1.2em;}#sk-container-id-1 div.sk-label-container {text-align: center;}#sk-container-id-1 div.sk-container {/* jupyter's `normalize.less` sets `[hidden] { display: none; }` but bootstrap.min.css set `[hidden] { display: none !important; }` so we also need the `!important` here to be able to override the default hidden behavior on the sphinx rendered scikit-learn.org. See: https://github.com/scikit-learn/scikit-learn/issues/21755 */display: inline-block !important;position: relative;}#sk-container-id-1 div.sk-text-repr-fallback {display: none;}</style><div id=\"sk-container-id-1\" class=\"sk-top-container\"><div class=\"sk-text-repr-fallback\"><pre>RandomForestClassifier()</pre><b>In a Jupyter environment, please rerun this cell to show the HTML representation or trust the notebook. <br />On GitHub, the HTML representation is unable to render, please try loading this page with nbviewer.org.</b></div><div class=\"sk-container\" hidden><div class=\"sk-item\"><div class=\"sk-estimator sk-toggleable\"><input class=\"sk-toggleable__control sk-hidden--visually\" id=\"sk-estimator-id-1\" type=\"checkbox\" checked><label for=\"sk-estimator-id-1\" class=\"sk-toggleable__label sk-toggleable__label-arrow\">RandomForestClassifier</label><div class=\"sk-toggleable__content\"><pre>RandomForestClassifier()</pre></div></div></div></div></div>"
      ],
      "text/plain": [
       "RandomForestClassifier()"
      ]
     },
     "execution_count": 22,
     "metadata": {},
     "output_type": "execute_result"
    }
   ],
   "source": [
    "model.fit(x_train, y_train)"
   ]
  },
  {
   "cell_type": "markdown",
   "id": "dae0d115",
   "metadata": {
    "papermill": {
     "duration": 0.01562,
     "end_time": "2024-02-13T07:10:45.286195",
     "exception": false,
     "start_time": "2024-02-13T07:10:45.270575",
     "status": "completed"
    },
    "tags": []
   },
   "source": [
    "#### Predicting for x_test"
   ]
  },
  {
   "cell_type": "code",
   "execution_count": 23,
   "id": "47dd8076",
   "metadata": {
    "execution": {
     "iopub.execute_input": "2024-02-13T07:10:45.319907Z",
     "iopub.status.busy": "2024-02-13T07:10:45.319473Z",
     "iopub.status.idle": "2024-02-13T07:10:45.365969Z",
     "shell.execute_reply": "2024-02-13T07:10:45.364761Z"
    },
    "papermill": {
     "duration": 0.066754,
     "end_time": "2024-02-13T07:10:45.368991",
     "exception": false,
     "start_time": "2024-02-13T07:10:45.302237",
     "status": "completed"
    },
    "tags": []
   },
   "outputs": [],
   "source": [
    "y_pred = model.predict(x_test)"
   ]
  },
  {
   "cell_type": "markdown",
   "id": "f197e2e6",
   "metadata": {
    "papermill": {
     "duration": 0.015657,
     "end_time": "2024-02-13T07:10:45.400772",
     "exception": false,
     "start_time": "2024-02-13T07:10:45.385115",
     "status": "completed"
    },
    "tags": []
   },
   "source": [
    "#### Checking the accuracy and Classification report"
   ]
  },
  {
   "cell_type": "code",
   "execution_count": 24,
   "id": "0c950acd",
   "metadata": {
    "execution": {
     "iopub.execute_input": "2024-02-13T07:10:45.435607Z",
     "iopub.status.busy": "2024-02-13T07:10:45.435151Z",
     "iopub.status.idle": "2024-02-13T07:10:45.440017Z",
     "shell.execute_reply": "2024-02-13T07:10:45.438902Z"
    },
    "papermill": {
     "duration": 0.025467,
     "end_time": "2024-02-13T07:10:45.442337",
     "exception": false,
     "start_time": "2024-02-13T07:10:45.416870",
     "status": "completed"
    },
    "tags": []
   },
   "outputs": [],
   "source": [
    "from sklearn.metrics import accuracy_score,classification_report"
   ]
  },
  {
   "cell_type": "code",
   "execution_count": 25,
   "id": "fe1df921",
   "metadata": {
    "execution": {
     "iopub.execute_input": "2024-02-13T07:10:45.476527Z",
     "iopub.status.busy": "2024-02-13T07:10:45.475790Z",
     "iopub.status.idle": "2024-02-13T07:10:45.483357Z",
     "shell.execute_reply": "2024-02-13T07:10:45.481743Z"
    },
    "papermill": {
     "duration": 0.027756,
     "end_time": "2024-02-13T07:10:45.485938",
     "exception": false,
     "start_time": "2024-02-13T07:10:45.458182",
     "status": "completed"
    },
    "tags": []
   },
   "outputs": [
    {
     "name": "stdout",
     "output_type": "stream",
     "text": [
      "0.6523809523809524\n"
     ]
    }
   ],
   "source": [
    "print(accuracy_score(y_test, y_pred))"
   ]
  },
  {
   "cell_type": "code",
   "execution_count": 26,
   "id": "2fc8e7f7",
   "metadata": {
    "execution": {
     "iopub.execute_input": "2024-02-13T07:10:45.520162Z",
     "iopub.status.busy": "2024-02-13T07:10:45.519702Z",
     "iopub.status.idle": "2024-02-13T07:10:45.537790Z",
     "shell.execute_reply": "2024-02-13T07:10:45.536560Z"
    },
    "papermill": {
     "duration": 0.038755,
     "end_time": "2024-02-13T07:10:45.540625",
     "exception": false,
     "start_time": "2024-02-13T07:10:45.501870",
     "status": "completed"
    },
    "tags": []
   },
   "outputs": [
    {
     "name": "stdout",
     "output_type": "stream",
     "text": [
      "              precision    recall  f1-score   support\n",
      "\n",
      "           3       0.00      0.00      0.00         7\n",
      "           4       0.67      0.14      0.23        43\n",
      "           5       0.71      0.64      0.67       470\n",
      "           6       0.61      0.79      0.69       632\n",
      "           7       0.67      0.53      0.59       255\n",
      "           8       0.86      0.30      0.44        60\n",
      "           9       0.00      0.00      0.00         3\n",
      "\n",
      "    accuracy                           0.65      1470\n",
      "   macro avg       0.50      0.34      0.38      1470\n",
      "weighted avg       0.66      0.65      0.64      1470\n",
      "\n"
     ]
    }
   ],
   "source": [
    "print(classification_report(y_test, y_pred))"
   ]
  },
  {
   "cell_type": "code",
   "execution_count": null,
   "id": "fe7630ac",
   "metadata": {
    "papermill": {
     "duration": 0.015951,
     "end_time": "2024-02-13T07:10:45.572902",
     "exception": false,
     "start_time": "2024-02-13T07:10:45.556951",
     "status": "completed"
    },
    "tags": []
   },
   "outputs": [],
   "source": []
  },
  {
   "cell_type": "code",
   "execution_count": null,
   "id": "7e4c6f4c",
   "metadata": {
    "papermill": {
     "duration": 0.016359,
     "end_time": "2024-02-13T07:10:45.606041",
     "exception": false,
     "start_time": "2024-02-13T07:10:45.589682",
     "status": "completed"
    },
    "tags": []
   },
   "outputs": [],
   "source": []
  }
 ],
 "metadata": {
  "kaggle": {
   "accelerator": "none",
   "dataSources": [
    {
     "datasetId": 4435246,
     "sourceId": 7615787,
     "sourceType": "datasetVersion"
    }
   ],
   "dockerImageVersionId": 30646,
   "isGpuEnabled": false,
   "isInternetEnabled": true,
   "language": "python",
   "sourceType": "notebook"
  },
  "kernelspec": {
   "display_name": "Python 3",
   "language": "python",
   "name": "python3"
  },
  "language_info": {
   "codemirror_mode": {
    "name": "ipython",
    "version": 3
   },
   "file_extension": ".py",
   "mimetype": "text/x-python",
   "name": "python",
   "nbconvert_exporter": "python",
   "pygments_lexer": "ipython3",
   "version": "3.10.13"
  },
  "papermill": {
   "default_parameters": {},
   "duration": 138.376052,
   "end_time": "2024-02-13T07:10:48.245237",
   "environment_variables": {},
   "exception": null,
   "input_path": "__notebook__.ipynb",
   "output_path": "__notebook__.ipynb",
   "parameters": {},
   "start_time": "2024-02-13T07:08:29.869185",
   "version": "2.5.0"
  }
 },
 "nbformat": 4,
 "nbformat_minor": 5
}
