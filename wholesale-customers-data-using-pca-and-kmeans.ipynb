{
 "cells": [
  {
   "cell_type": "code",
   "execution_count": 1,
   "id": "8f587bfd",
   "metadata": {
    "_cell_guid": "b1076dfc-b9ad-4769-8c92-a6c4dae69d19",
    "_uuid": "8f2839f25d086af736a60e9eeb907d3b93b6e0e5",
    "execution": {
     "iopub.execute_input": "2024-01-22T06:34:55.122104Z",
     "iopub.status.busy": "2024-01-22T06:34:55.121237Z",
     "iopub.status.idle": "2024-01-22T06:34:55.143022Z",
     "shell.execute_reply": "2024-01-22T06:34:55.141353Z"
    },
    "papermill": {
     "duration": 0.040319,
     "end_time": "2024-01-22T06:34:55.146160",
     "exception": false,
     "start_time": "2024-01-22T06:34:55.105841",
     "status": "completed"
    },
    "tags": []
   },
   "outputs": [
    {
     "name": "stdout",
     "output_type": "stream",
     "text": [
      "/kaggle/input/wholesale-customers-data-set/Wholesale customers data.csv\n"
     ]
    }
   ],
   "source": [
    "import os\n",
    "for dirname, _, filenames in os.walk('/kaggle/input'):\n",
    "    for filename in filenames:\n",
    "        print(os.path.join(dirname, filename))"
   ]
  },
  {
   "cell_type": "markdown",
   "id": "67f278cb",
   "metadata": {
    "papermill": {
     "duration": 0.012709,
     "end_time": "2024-01-22T06:34:55.171998",
     "exception": false,
     "start_time": "2024-01-22T06:34:55.159289",
     "status": "completed"
    },
    "tags": []
   },
   "source": [
    "#### Importing Necessary Libraries"
   ]
  },
  {
   "cell_type": "code",
   "execution_count": 2,
   "id": "d4d1de1f",
   "metadata": {
    "execution": {
     "iopub.execute_input": "2024-01-22T06:34:55.198583Z",
     "iopub.status.busy": "2024-01-22T06:34:55.198201Z",
     "iopub.status.idle": "2024-01-22T06:34:56.137002Z",
     "shell.execute_reply": "2024-01-22T06:34:56.135699Z"
    },
    "papermill": {
     "duration": 0.9557,
     "end_time": "2024-01-22T06:34:56.140060",
     "exception": false,
     "start_time": "2024-01-22T06:34:55.184360",
     "status": "completed"
    },
    "tags": []
   },
   "outputs": [],
   "source": [
    "import pandas as pd\n",
    "import numpy as np\n",
    "import matplotlib.pyplot as plt\n",
    "\n",
    "import warnings\n",
    "warnings.filterwarnings(\"ignore\")"
   ]
  },
  {
   "cell_type": "markdown",
   "id": "b00f48c8",
   "metadata": {
    "papermill": {
     "duration": 0.012032,
     "end_time": "2024-01-22T06:34:56.165783",
     "exception": false,
     "start_time": "2024-01-22T06:34:56.153751",
     "status": "completed"
    },
    "tags": []
   },
   "source": [
    "#### Reading the dataset"
   ]
  },
  {
   "cell_type": "code",
   "execution_count": 3,
   "id": "be7fe08f",
   "metadata": {
    "execution": {
     "iopub.execute_input": "2024-01-22T06:34:56.193838Z",
     "iopub.status.busy": "2024-01-22T06:34:56.193307Z",
     "iopub.status.idle": "2024-01-22T06:34:56.232718Z",
     "shell.execute_reply": "2024-01-22T06:34:56.231716Z"
    },
    "papermill": {
     "duration": 0.056119,
     "end_time": "2024-01-22T06:34:56.235159",
     "exception": false,
     "start_time": "2024-01-22T06:34:56.179040",
     "status": "completed"
    },
    "tags": []
   },
   "outputs": [
    {
     "data": {
      "text/html": [
       "<div>\n",
       "<style scoped>\n",
       "    .dataframe tbody tr th:only-of-type {\n",
       "        vertical-align: middle;\n",
       "    }\n",
       "\n",
       "    .dataframe tbody tr th {\n",
       "        vertical-align: top;\n",
       "    }\n",
       "\n",
       "    .dataframe thead th {\n",
       "        text-align: right;\n",
       "    }\n",
       "</style>\n",
       "<table border=\"1\" class=\"dataframe\">\n",
       "  <thead>\n",
       "    <tr style=\"text-align: right;\">\n",
       "      <th></th>\n",
       "      <th>Channel</th>\n",
       "      <th>Region</th>\n",
       "      <th>Fresh</th>\n",
       "      <th>Milk</th>\n",
       "      <th>Grocery</th>\n",
       "      <th>Frozen</th>\n",
       "      <th>Detergents_Paper</th>\n",
       "      <th>Delicassen</th>\n",
       "    </tr>\n",
       "  </thead>\n",
       "  <tbody>\n",
       "    <tr>\n",
       "      <th>0</th>\n",
       "      <td>2</td>\n",
       "      <td>3</td>\n",
       "      <td>12669</td>\n",
       "      <td>9656</td>\n",
       "      <td>7561</td>\n",
       "      <td>214</td>\n",
       "      <td>2674</td>\n",
       "      <td>1338</td>\n",
       "    </tr>\n",
       "    <tr>\n",
       "      <th>1</th>\n",
       "      <td>2</td>\n",
       "      <td>3</td>\n",
       "      <td>7057</td>\n",
       "      <td>9810</td>\n",
       "      <td>9568</td>\n",
       "      <td>1762</td>\n",
       "      <td>3293</td>\n",
       "      <td>1776</td>\n",
       "    </tr>\n",
       "    <tr>\n",
       "      <th>2</th>\n",
       "      <td>2</td>\n",
       "      <td>3</td>\n",
       "      <td>6353</td>\n",
       "      <td>8808</td>\n",
       "      <td>7684</td>\n",
       "      <td>2405</td>\n",
       "      <td>3516</td>\n",
       "      <td>7844</td>\n",
       "    </tr>\n",
       "    <tr>\n",
       "      <th>3</th>\n",
       "      <td>1</td>\n",
       "      <td>3</td>\n",
       "      <td>13265</td>\n",
       "      <td>1196</td>\n",
       "      <td>4221</td>\n",
       "      <td>6404</td>\n",
       "      <td>507</td>\n",
       "      <td>1788</td>\n",
       "    </tr>\n",
       "    <tr>\n",
       "      <th>4</th>\n",
       "      <td>2</td>\n",
       "      <td>3</td>\n",
       "      <td>22615</td>\n",
       "      <td>5410</td>\n",
       "      <td>7198</td>\n",
       "      <td>3915</td>\n",
       "      <td>1777</td>\n",
       "      <td>5185</td>\n",
       "    </tr>\n",
       "  </tbody>\n",
       "</table>\n",
       "</div>"
      ],
      "text/plain": [
       "   Channel  Region  Fresh  Milk  Grocery  Frozen  Detergents_Paper  Delicassen\n",
       "0        2       3  12669  9656     7561     214              2674        1338\n",
       "1        2       3   7057  9810     9568    1762              3293        1776\n",
       "2        2       3   6353  8808     7684    2405              3516        7844\n",
       "3        1       3  13265  1196     4221    6404               507        1788\n",
       "4        2       3  22615  5410     7198    3915              1777        5185"
      ]
     },
     "execution_count": 3,
     "metadata": {},
     "output_type": "execute_result"
    }
   ],
   "source": [
    "data = pd.read_csv(\"/kaggle/input/wholesale-customers-data-set/Wholesale customers data.csv\")\n",
    "data.head()"
   ]
  },
  {
   "cell_type": "markdown",
   "id": "9866b538",
   "metadata": {
    "papermill": {
     "duration": 0.012637,
     "end_time": "2024-01-22T06:34:56.263158",
     "exception": false,
     "start_time": "2024-01-22T06:34:56.250521",
     "status": "completed"
    },
    "tags": []
   },
   "source": [
    "### Objective\n",
    "1. Based on Channel,Region,Fresh,Milk,Grocery,Frozen,Detergents_Paper,Delicassen cluster the dataset\n",
    "2. Apply PCA before clustering"
   ]
  },
  {
   "cell_type": "code",
   "execution_count": 4,
   "id": "c5379131",
   "metadata": {
    "execution": {
     "iopub.execute_input": "2024-01-22T06:34:56.291496Z",
     "iopub.status.busy": "2024-01-22T06:34:56.291044Z",
     "iopub.status.idle": "2024-01-22T06:34:56.297862Z",
     "shell.execute_reply": "2024-01-22T06:34:56.297012Z"
    },
    "papermill": {
     "duration": 0.024472,
     "end_time": "2024-01-22T06:34:56.300279",
     "exception": false,
     "start_time": "2024-01-22T06:34:56.275807",
     "status": "completed"
    },
    "tags": []
   },
   "outputs": [
    {
     "data": {
      "text/plain": [
       "(440, 8)"
      ]
     },
     "execution_count": 4,
     "metadata": {},
     "output_type": "execute_result"
    }
   ],
   "source": [
    "data.shape"
   ]
  },
  {
   "cell_type": "markdown",
   "id": "954fdd83",
   "metadata": {
    "papermill": {
     "duration": 0.012906,
     "end_time": "2024-01-22T06:34:56.326437",
     "exception": false,
     "start_time": "2024-01-22T06:34:56.313531",
     "status": "completed"
    },
    "tags": []
   },
   "source": [
    "#### Extracting features"
   ]
  },
  {
   "cell_type": "code",
   "execution_count": 5,
   "id": "b9e86051",
   "metadata": {
    "execution": {
     "iopub.execute_input": "2024-01-22T06:34:56.355717Z",
     "iopub.status.busy": "2024-01-22T06:34:56.354987Z",
     "iopub.status.idle": "2024-01-22T06:34:56.368143Z",
     "shell.execute_reply": "2024-01-22T06:34:56.366836Z"
    },
    "papermill": {
     "duration": 0.030759,
     "end_time": "2024-01-22T06:34:56.370829",
     "exception": false,
     "start_time": "2024-01-22T06:34:56.340070",
     "status": "completed"
    },
    "tags": []
   },
   "outputs": [
    {
     "data": {
      "text/html": [
       "<div>\n",
       "<style scoped>\n",
       "    .dataframe tbody tr th:only-of-type {\n",
       "        vertical-align: middle;\n",
       "    }\n",
       "\n",
       "    .dataframe tbody tr th {\n",
       "        vertical-align: top;\n",
       "    }\n",
       "\n",
       "    .dataframe thead th {\n",
       "        text-align: right;\n",
       "    }\n",
       "</style>\n",
       "<table border=\"1\" class=\"dataframe\">\n",
       "  <thead>\n",
       "    <tr style=\"text-align: right;\">\n",
       "      <th></th>\n",
       "      <th>Fresh</th>\n",
       "      <th>Milk</th>\n",
       "      <th>Grocery</th>\n",
       "      <th>Frozen</th>\n",
       "      <th>Detergents_Paper</th>\n",
       "      <th>Delicassen</th>\n",
       "    </tr>\n",
       "  </thead>\n",
       "  <tbody>\n",
       "    <tr>\n",
       "      <th>0</th>\n",
       "      <td>12669</td>\n",
       "      <td>9656</td>\n",
       "      <td>7561</td>\n",
       "      <td>214</td>\n",
       "      <td>2674</td>\n",
       "      <td>1338</td>\n",
       "    </tr>\n",
       "    <tr>\n",
       "      <th>1</th>\n",
       "      <td>7057</td>\n",
       "      <td>9810</td>\n",
       "      <td>9568</td>\n",
       "      <td>1762</td>\n",
       "      <td>3293</td>\n",
       "      <td>1776</td>\n",
       "    </tr>\n",
       "    <tr>\n",
       "      <th>2</th>\n",
       "      <td>6353</td>\n",
       "      <td>8808</td>\n",
       "      <td>7684</td>\n",
       "      <td>2405</td>\n",
       "      <td>3516</td>\n",
       "      <td>7844</td>\n",
       "    </tr>\n",
       "    <tr>\n",
       "      <th>3</th>\n",
       "      <td>13265</td>\n",
       "      <td>1196</td>\n",
       "      <td>4221</td>\n",
       "      <td>6404</td>\n",
       "      <td>507</td>\n",
       "      <td>1788</td>\n",
       "    </tr>\n",
       "    <tr>\n",
       "      <th>4</th>\n",
       "      <td>22615</td>\n",
       "      <td>5410</td>\n",
       "      <td>7198</td>\n",
       "      <td>3915</td>\n",
       "      <td>1777</td>\n",
       "      <td>5185</td>\n",
       "    </tr>\n",
       "  </tbody>\n",
       "</table>\n",
       "</div>"
      ],
      "text/plain": [
       "   Fresh  Milk  Grocery  Frozen  Detergents_Paper  Delicassen\n",
       "0  12669  9656     7561     214              2674        1338\n",
       "1   7057  9810     9568    1762              3293        1776\n",
       "2   6353  8808     7684    2405              3516        7844\n",
       "3  13265  1196     4221    6404               507        1788\n",
       "4  22615  5410     7198    3915              1777        5185"
      ]
     },
     "execution_count": 5,
     "metadata": {},
     "output_type": "execute_result"
    }
   ],
   "source": [
    "x = data.iloc[:,2:]\n",
    "x.head()"
   ]
  },
  {
   "cell_type": "markdown",
   "id": "22f57940",
   "metadata": {
    "papermill": {
     "duration": 0.012912,
     "end_time": "2024-01-22T06:34:56.397114",
     "exception": false,
     "start_time": "2024-01-22T06:34:56.384202",
     "status": "completed"
    },
    "tags": []
   },
   "source": [
    "## **Standard Scaler**"
   ]
  },
  {
   "cell_type": "code",
   "execution_count": 6,
   "id": "47a6f999",
   "metadata": {
    "execution": {
     "iopub.execute_input": "2024-01-22T06:34:56.426273Z",
     "iopub.status.busy": "2024-01-22T06:34:56.425679Z",
     "iopub.status.idle": "2024-01-22T06:34:57.911228Z",
     "shell.execute_reply": "2024-01-22T06:34:57.909942Z"
    },
    "papermill": {
     "duration": 1.503494,
     "end_time": "2024-01-22T06:34:57.914115",
     "exception": false,
     "start_time": "2024-01-22T06:34:56.410621",
     "status": "completed"
    },
    "tags": []
   },
   "outputs": [
    {
     "data": {
      "text/plain": [
       "(440, 6)"
      ]
     },
     "execution_count": 6,
     "metadata": {},
     "output_type": "execute_result"
    }
   ],
   "source": [
    "from sklearn.preprocessing import StandardScaler\n",
    "sc = StandardScaler()\n",
    "x_stsc = sc.fit_transform(x)\n",
    "x_stsc.shape"
   ]
  },
  {
   "cell_type": "code",
   "execution_count": 7,
   "id": "d849e7e7",
   "metadata": {
    "execution": {
     "iopub.execute_input": "2024-01-22T06:34:57.943494Z",
     "iopub.status.busy": "2024-01-22T06:34:57.943048Z",
     "iopub.status.idle": "2024-01-22T06:34:57.951676Z",
     "shell.execute_reply": "2024-01-22T06:34:57.950230Z"
    },
    "papermill": {
     "duration": 0.025894,
     "end_time": "2024-01-22T06:34:57.954061",
     "exception": false,
     "start_time": "2024-01-22T06:34:57.928167",
     "status": "completed"
    },
    "tags": []
   },
   "outputs": [
    {
     "data": {
      "text/plain": [
       "array([[ 0.05293319,  0.52356777, -0.04111489, -0.58936716, -0.04356873,\n",
       "        -0.06633906],\n",
       "       [-0.39130197,  0.54445767,  0.17031835, -0.27013618,  0.08640684,\n",
       "         0.08915105],\n",
       "       [-0.44702926,  0.40853771, -0.0281571 , -0.13753572,  0.13323164,\n",
       "         2.24329255],\n",
       "       [ 0.10011141, -0.62401993, -0.3929769 ,  0.6871443 , -0.49858822,\n",
       "         0.09341105],\n",
       "       [ 0.84023948, -0.05239645, -0.07935618,  0.17385884, -0.23191782,\n",
       "         1.29934689]])"
      ]
     },
     "execution_count": 7,
     "metadata": {},
     "output_type": "execute_result"
    }
   ],
   "source": [
    "x_stsc[0:5]"
   ]
  },
  {
   "cell_type": "markdown",
   "id": "a7a9ccd9",
   "metadata": {
    "papermill": {
     "duration": 0.013408,
     "end_time": "2024-01-22T06:34:57.981084",
     "exception": false,
     "start_time": "2024-01-22T06:34:57.967676",
     "status": "completed"
    },
    "tags": []
   },
   "source": [
    "#### Converting to dataframe"
   ]
  },
  {
   "cell_type": "code",
   "execution_count": 8,
   "id": "ad411f71",
   "metadata": {
    "execution": {
     "iopub.execute_input": "2024-01-22T06:34:58.010141Z",
     "iopub.status.busy": "2024-01-22T06:34:58.009678Z",
     "iopub.status.idle": "2024-01-22T06:34:58.025396Z",
     "shell.execute_reply": "2024-01-22T06:34:58.024078Z"
    },
    "papermill": {
     "duration": 0.033796,
     "end_time": "2024-01-22T06:34:58.028276",
     "exception": false,
     "start_time": "2024-01-22T06:34:57.994480",
     "status": "completed"
    },
    "tags": []
   },
   "outputs": [
    {
     "data": {
      "text/html": [
       "<div>\n",
       "<style scoped>\n",
       "    .dataframe tbody tr th:only-of-type {\n",
       "        vertical-align: middle;\n",
       "    }\n",
       "\n",
       "    .dataframe tbody tr th {\n",
       "        vertical-align: top;\n",
       "    }\n",
       "\n",
       "    .dataframe thead th {\n",
       "        text-align: right;\n",
       "    }\n",
       "</style>\n",
       "<table border=\"1\" class=\"dataframe\">\n",
       "  <thead>\n",
       "    <tr style=\"text-align: right;\">\n",
       "      <th></th>\n",
       "      <th>Fresh</th>\n",
       "      <th>Milk</th>\n",
       "      <th>Grocery</th>\n",
       "      <th>Frozen</th>\n",
       "      <th>Detergents_Paper</th>\n",
       "      <th>Delicassen</th>\n",
       "    </tr>\n",
       "  </thead>\n",
       "  <tbody>\n",
       "    <tr>\n",
       "      <th>0</th>\n",
       "      <td>0.052933</td>\n",
       "      <td>0.523568</td>\n",
       "      <td>-0.041115</td>\n",
       "      <td>-0.589367</td>\n",
       "      <td>-0.043569</td>\n",
       "      <td>-0.066339</td>\n",
       "    </tr>\n",
       "    <tr>\n",
       "      <th>1</th>\n",
       "      <td>-0.391302</td>\n",
       "      <td>0.544458</td>\n",
       "      <td>0.170318</td>\n",
       "      <td>-0.270136</td>\n",
       "      <td>0.086407</td>\n",
       "      <td>0.089151</td>\n",
       "    </tr>\n",
       "    <tr>\n",
       "      <th>2</th>\n",
       "      <td>-0.447029</td>\n",
       "      <td>0.408538</td>\n",
       "      <td>-0.028157</td>\n",
       "      <td>-0.137536</td>\n",
       "      <td>0.133232</td>\n",
       "      <td>2.243293</td>\n",
       "    </tr>\n",
       "    <tr>\n",
       "      <th>3</th>\n",
       "      <td>0.100111</td>\n",
       "      <td>-0.624020</td>\n",
       "      <td>-0.392977</td>\n",
       "      <td>0.687144</td>\n",
       "      <td>-0.498588</td>\n",
       "      <td>0.093411</td>\n",
       "    </tr>\n",
       "    <tr>\n",
       "      <th>4</th>\n",
       "      <td>0.840239</td>\n",
       "      <td>-0.052396</td>\n",
       "      <td>-0.079356</td>\n",
       "      <td>0.173859</td>\n",
       "      <td>-0.231918</td>\n",
       "      <td>1.299347</td>\n",
       "    </tr>\n",
       "  </tbody>\n",
       "</table>\n",
       "</div>"
      ],
      "text/plain": [
       "      Fresh      Milk   Grocery    Frozen  Detergents_Paper  Delicassen\n",
       "0  0.052933  0.523568 -0.041115 -0.589367         -0.043569   -0.066339\n",
       "1 -0.391302  0.544458  0.170318 -0.270136          0.086407    0.089151\n",
       "2 -0.447029  0.408538 -0.028157 -0.137536          0.133232    2.243293\n",
       "3  0.100111 -0.624020 -0.392977  0.687144         -0.498588    0.093411\n",
       "4  0.840239 -0.052396 -0.079356  0.173859         -0.231918    1.299347"
      ]
     },
     "execution_count": 8,
     "metadata": {},
     "output_type": "execute_result"
    }
   ],
   "source": [
    "x_stsc_dataframe = pd.DataFrame(x_stsc,columns=x.columns)\n",
    "x_stsc_dataframe.head()"
   ]
  },
  {
   "cell_type": "code",
   "execution_count": 9,
   "id": "5e456d9f",
   "metadata": {
    "execution": {
     "iopub.execute_input": "2024-01-22T06:34:58.057918Z",
     "iopub.status.busy": "2024-01-22T06:34:58.057501Z",
     "iopub.status.idle": "2024-01-22T06:34:58.083329Z",
     "shell.execute_reply": "2024-01-22T06:34:58.082083Z"
    },
    "papermill": {
     "duration": 0.043576,
     "end_time": "2024-01-22T06:34:58.085726",
     "exception": false,
     "start_time": "2024-01-22T06:34:58.042150",
     "status": "completed"
    },
    "tags": []
   },
   "outputs": [
    {
     "name": "stdout",
     "output_type": "stream",
     "text": [
      "<class 'pandas.core.frame.DataFrame'>\n",
      "RangeIndex: 440 entries, 0 to 439\n",
      "Data columns (total 6 columns):\n",
      " #   Column            Non-Null Count  Dtype  \n",
      "---  ------            --------------  -----  \n",
      " 0   Fresh             440 non-null    float64\n",
      " 1   Milk              440 non-null    float64\n",
      " 2   Grocery           440 non-null    float64\n",
      " 3   Frozen            440 non-null    float64\n",
      " 4   Detergents_Paper  440 non-null    float64\n",
      " 5   Delicassen        440 non-null    float64\n",
      "dtypes: float64(6)\n",
      "memory usage: 20.8 KB\n"
     ]
    }
   ],
   "source": [
    "x_stsc_dataframe.info()"
   ]
  },
  {
   "cell_type": "markdown",
   "id": "a08e7683",
   "metadata": {
    "papermill": {
     "duration": 0.014861,
     "end_time": "2024-01-22T06:34:58.114648",
     "exception": false,
     "start_time": "2024-01-22T06:34:58.099787",
     "status": "completed"
    },
    "tags": []
   },
   "source": [
    "#### Description of Dataframe"
   ]
  },
  {
   "cell_type": "code",
   "execution_count": 10,
   "id": "bd0510f4",
   "metadata": {
    "execution": {
     "iopub.execute_input": "2024-01-22T06:34:58.147142Z",
     "iopub.status.busy": "2024-01-22T06:34:58.146687Z",
     "iopub.status.idle": "2024-01-22T06:34:58.181577Z",
     "shell.execute_reply": "2024-01-22T06:34:58.180370Z"
    },
    "papermill": {
     "duration": 0.055074,
     "end_time": "2024-01-22T06:34:58.184314",
     "exception": false,
     "start_time": "2024-01-22T06:34:58.129240",
     "status": "completed"
    },
    "tags": []
   },
   "outputs": [
    {
     "data": {
      "text/html": [
       "<div>\n",
       "<style scoped>\n",
       "    .dataframe tbody tr th:only-of-type {\n",
       "        vertical-align: middle;\n",
       "    }\n",
       "\n",
       "    .dataframe tbody tr th {\n",
       "        vertical-align: top;\n",
       "    }\n",
       "\n",
       "    .dataframe thead th {\n",
       "        text-align: right;\n",
       "    }\n",
       "</style>\n",
       "<table border=\"1\" class=\"dataframe\">\n",
       "  <thead>\n",
       "    <tr style=\"text-align: right;\">\n",
       "      <th></th>\n",
       "      <th>Fresh</th>\n",
       "      <th>Milk</th>\n",
       "      <th>Grocery</th>\n",
       "      <th>Frozen</th>\n",
       "      <th>Detergents_Paper</th>\n",
       "      <th>Delicassen</th>\n",
       "    </tr>\n",
       "  </thead>\n",
       "  <tbody>\n",
       "    <tr>\n",
       "      <th>count</th>\n",
       "      <td>4.400000e+02</td>\n",
       "      <td>440.000000</td>\n",
       "      <td>4.400000e+02</td>\n",
       "      <td>4.400000e+02</td>\n",
       "      <td>4.400000e+02</td>\n",
       "      <td>4.400000e+02</td>\n",
       "    </tr>\n",
       "    <tr>\n",
       "      <th>mean</th>\n",
       "      <td>-3.431598e-17</td>\n",
       "      <td>0.000000</td>\n",
       "      <td>-4.037175e-17</td>\n",
       "      <td>3.633457e-17</td>\n",
       "      <td>2.422305e-17</td>\n",
       "      <td>-8.074349e-18</td>\n",
       "    </tr>\n",
       "    <tr>\n",
       "      <th>std</th>\n",
       "      <td>1.001138e+00</td>\n",
       "      <td>1.001138</td>\n",
       "      <td>1.001138e+00</td>\n",
       "      <td>1.001138e+00</td>\n",
       "      <td>1.001138e+00</td>\n",
       "      <td>1.001138e+00</td>\n",
       "    </tr>\n",
       "    <tr>\n",
       "      <th>min</th>\n",
       "      <td>-9.496831e-01</td>\n",
       "      <td>-0.778795</td>\n",
       "      <td>-8.373344e-01</td>\n",
       "      <td>-6.283430e-01</td>\n",
       "      <td>-6.044165e-01</td>\n",
       "      <td>-5.402644e-01</td>\n",
       "    </tr>\n",
       "    <tr>\n",
       "      <th>25%</th>\n",
       "      <td>-7.023339e-01</td>\n",
       "      <td>-0.578306</td>\n",
       "      <td>-6.108364e-01</td>\n",
       "      <td>-4.804306e-01</td>\n",
       "      <td>-5.511349e-01</td>\n",
       "      <td>-3.964005e-01</td>\n",
       "    </tr>\n",
       "    <tr>\n",
       "      <th>50%</th>\n",
       "      <td>-2.767602e-01</td>\n",
       "      <td>-0.294258</td>\n",
       "      <td>-3.366684e-01</td>\n",
       "      <td>-3.188045e-01</td>\n",
       "      <td>-4.336004e-01</td>\n",
       "      <td>-1.985766e-01</td>\n",
       "    </tr>\n",
       "    <tr>\n",
       "      <th>75%</th>\n",
       "      <td>3.905226e-01</td>\n",
       "      <td>0.189092</td>\n",
       "      <td>2.849105e-01</td>\n",
       "      <td>9.946441e-02</td>\n",
       "      <td>2.184822e-01</td>\n",
       "      <td>1.048598e-01</td>\n",
       "    </tr>\n",
       "    <tr>\n",
       "      <th>max</th>\n",
       "      <td>7.927738e+00</td>\n",
       "      <td>9.183650</td>\n",
       "      <td>8.936528e+00</td>\n",
       "      <td>1.191900e+01</td>\n",
       "      <td>7.967672e+00</td>\n",
       "      <td>1.647845e+01</td>\n",
       "    </tr>\n",
       "  </tbody>\n",
       "</table>\n",
       "</div>"
      ],
      "text/plain": [
       "              Fresh        Milk       Grocery        Frozen  Detergents_Paper  \\\n",
       "count  4.400000e+02  440.000000  4.400000e+02  4.400000e+02      4.400000e+02   \n",
       "mean  -3.431598e-17    0.000000 -4.037175e-17  3.633457e-17      2.422305e-17   \n",
       "std    1.001138e+00    1.001138  1.001138e+00  1.001138e+00      1.001138e+00   \n",
       "min   -9.496831e-01   -0.778795 -8.373344e-01 -6.283430e-01     -6.044165e-01   \n",
       "25%   -7.023339e-01   -0.578306 -6.108364e-01 -4.804306e-01     -5.511349e-01   \n",
       "50%   -2.767602e-01   -0.294258 -3.366684e-01 -3.188045e-01     -4.336004e-01   \n",
       "75%    3.905226e-01    0.189092  2.849105e-01  9.946441e-02      2.184822e-01   \n",
       "max    7.927738e+00    9.183650  8.936528e+00  1.191900e+01      7.967672e+00   \n",
       "\n",
       "         Delicassen  \n",
       "count  4.400000e+02  \n",
       "mean  -8.074349e-18  \n",
       "std    1.001138e+00  \n",
       "min   -5.402644e-01  \n",
       "25%   -3.964005e-01  \n",
       "50%   -1.985766e-01  \n",
       "75%    1.048598e-01  \n",
       "max    1.647845e+01  "
      ]
     },
     "execution_count": 10,
     "metadata": {},
     "output_type": "execute_result"
    }
   ],
   "source": [
    "x_stsc_dataframe.describe()"
   ]
  },
  {
   "cell_type": "markdown",
   "id": "10060481",
   "metadata": {
    "papermill": {
     "duration": 0.082981,
     "end_time": "2024-01-22T06:34:58.281638",
     "exception": false,
     "start_time": "2024-01-22T06:34:58.198657",
     "status": "completed"
    },
    "tags": []
   },
   "source": [
    "### **PCA**"
   ]
  },
  {
   "cell_type": "code",
   "execution_count": 11,
   "id": "c2079bb0",
   "metadata": {
    "execution": {
     "iopub.execute_input": "2024-01-22T06:34:58.313716Z",
     "iopub.status.busy": "2024-01-22T06:34:58.313226Z",
     "iopub.status.idle": "2024-01-22T06:34:58.654802Z",
     "shell.execute_reply": "2024-01-22T06:34:58.653582Z"
    },
    "papermill": {
     "duration": 0.36057,
     "end_time": "2024-01-22T06:34:58.657704",
     "exception": false,
     "start_time": "2024-01-22T06:34:58.297134",
     "status": "completed"
    },
    "tags": []
   },
   "outputs": [],
   "source": [
    "from sklearn.decomposition import PCA\n",
    "pca = PCA()"
   ]
  },
  {
   "cell_type": "markdown",
   "id": "0d8a84ae",
   "metadata": {
    "papermill": {
     "duration": 0.014346,
     "end_time": "2024-01-22T06:34:58.686443",
     "exception": false,
     "start_time": "2024-01-22T06:34:58.672097",
     "status": "completed"
    },
    "tags": []
   },
   "source": [
    "#### Model Building"
   ]
  },
  {
   "cell_type": "code",
   "execution_count": 12,
   "id": "737d0c9e",
   "metadata": {
    "execution": {
     "iopub.execute_input": "2024-01-22T06:34:58.716850Z",
     "iopub.status.busy": "2024-01-22T06:34:58.716442Z",
     "iopub.status.idle": "2024-01-22T06:34:58.738305Z",
     "shell.execute_reply": "2024-01-22T06:34:58.737071Z"
    },
    "papermill": {
     "duration": 0.040158,
     "end_time": "2024-01-22T06:34:58.740866",
     "exception": false,
     "start_time": "2024-01-22T06:34:58.700708",
     "status": "completed"
    },
    "tags": []
   },
   "outputs": [
    {
     "data": {
      "text/plain": [
       "(440, 6)"
      ]
     },
     "execution_count": 12,
     "metadata": {},
     "output_type": "execute_result"
    }
   ],
   "source": [
    "pcomps = pca.fit_transform(x_stsc)\n",
    "pcomps.shape"
   ]
  },
  {
   "cell_type": "code",
   "execution_count": 13,
   "id": "74adc289",
   "metadata": {
    "execution": {
     "iopub.execute_input": "2024-01-22T06:34:58.772693Z",
     "iopub.status.busy": "2024-01-22T06:34:58.772266Z",
     "iopub.status.idle": "2024-01-22T06:34:58.780985Z",
     "shell.execute_reply": "2024-01-22T06:34:58.779578Z"
    },
    "papermill": {
     "duration": 0.027665,
     "end_time": "2024-01-22T06:34:58.783704",
     "exception": false,
     "start_time": "2024-01-22T06:34:58.756039",
     "status": "completed"
    },
    "tags": []
   },
   "outputs": [
    {
     "data": {
      "text/plain": [
       "array([[ 0.19329055, -0.30509996, -0.14087845, -0.48643154,  0.49528148,\n",
       "        -0.00741414],\n",
       "       [ 0.4344199 , -0.32841262,  0.31900662, -0.17883036,  0.36557931,\n",
       "         0.05457185],\n",
       "       [ 0.81114323,  0.8150957 ,  1.52341562, -1.25408154, -0.37905353,\n",
       "        -0.27753858],\n",
       "       ...,\n",
       "       [ 3.46570362, -1.03983801, -0.71316141,  0.0334078 , -0.53876786,\n",
       "        -0.08534909],\n",
       "       [-0.91802273, -0.03004659,  0.25840805, -0.52457824, -0.09321487,\n",
       "        -0.028943  ],\n",
       "       [-1.10513709, -0.86133787,  0.30515404, -0.11437678,  0.10990335,\n",
       "         0.02897846]])"
      ]
     },
     "execution_count": 13,
     "metadata": {},
     "output_type": "execute_result"
    }
   ],
   "source": [
    "pcomps"
   ]
  },
  {
   "cell_type": "markdown",
   "id": "6aafda60",
   "metadata": {
    "papermill": {
     "duration": 0.014449,
     "end_time": "2024-01-22T06:34:58.813024",
     "exception": false,
     "start_time": "2024-01-22T06:34:58.798575",
     "status": "completed"
    },
    "tags": []
   },
   "source": [
    "#### EigenValues and EigenVectors"
   ]
  },
  {
   "cell_type": "code",
   "execution_count": 14,
   "id": "557c4ed4",
   "metadata": {
    "execution": {
     "iopub.execute_input": "2024-01-22T06:34:58.844303Z",
     "iopub.status.busy": "2024-01-22T06:34:58.843731Z",
     "iopub.status.idle": "2024-01-22T06:34:58.851723Z",
     "shell.execute_reply": "2024-01-22T06:34:58.850282Z"
    },
    "papermill": {
     "duration": 0.026894,
     "end_time": "2024-01-22T06:34:58.854503",
     "exception": false,
     "start_time": "2024-01-22T06:34:58.827609",
     "status": "completed"
    },
    "tags": []
   },
   "outputs": [
    {
     "name": "stdout",
     "output_type": "stream",
     "text": [
      "Eigen values : \n",
      " [2.65099857 1.70646229 0.74175057 0.56501435 0.28632709 0.06311455]\n",
      "Eigen vector : \n",
      " [[ 0.04288396  0.54511832  0.57925635  0.05118859  0.5486402   0.24868198]\n",
      " [ 0.52793212  0.08316765 -0.14608818  0.61127764 -0.25523316  0.50420705]\n",
      " [-0.81225657  0.06038798 -0.10838401  0.17838615 -0.13619225  0.52390412]\n",
      " [-0.23668559 -0.08718991  0.10598745  0.76868266  0.17174406 -0.55206472]\n",
      " [-0.04868278  0.82657929 -0.31499943 -0.02793224 -0.33964012 -0.31470051]\n",
      " [-0.03602539 -0.03804019  0.72174458 -0.01563715 -0.68589373 -0.07513412]]\n"
     ]
    }
   ],
   "source": [
    "eigen_values = pca.explained_variance_\n",
    "eigen_vector = pca.components_\n",
    "print(\"Eigen values : \\n\",eigen_values)\n",
    "print(\"Eigen vector : \\n\",eigen_vector)"
   ]
  },
  {
   "cell_type": "markdown",
   "id": "df7671a8",
   "metadata": {
    "papermill": {
     "duration": 0.014444,
     "end_time": "2024-01-22T06:34:58.884527",
     "exception": false,
     "start_time": "2024-01-22T06:34:58.870083",
     "status": "completed"
    },
    "tags": []
   },
   "source": [
    "#### Mathematics"
   ]
  },
  {
   "cell_type": "code",
   "execution_count": 15,
   "id": "02c9a07d",
   "metadata": {
    "execution": {
     "iopub.execute_input": "2024-01-22T06:34:58.916249Z",
     "iopub.status.busy": "2024-01-22T06:34:58.915834Z",
     "iopub.status.idle": "2024-01-22T06:34:58.923970Z",
     "shell.execute_reply": "2024-01-22T06:34:58.922699Z"
    },
    "papermill": {
     "duration": 0.027287,
     "end_time": "2024-01-22T06:34:58.926658",
     "exception": false,
     "start_time": "2024-01-22T06:34:58.899371",
     "status": "completed"
    },
    "tags": []
   },
   "outputs": [
    {
     "name": "stdout",
     "output_type": "stream",
     "text": [
      "Sum of Eigen Values :  6.013667425968106\n",
      "Variance Eigen Values : \n",
      " [44.082892881128046, 28.376399526616957, 12.334412896786457, 9.395503752971488, 4.761272400688686, 1.0495185418083766]\n",
      "Cumulative Variance Eigen Value : \n",
      " [ 44.08289288  72.45929241  84.7937053   94.18920906  98.95048146\n",
      " 100.        ]\n"
     ]
    }
   ],
   "source": [
    "total = sum(eigen_values)\n",
    "print(\"Sum of Eigen Values : \",total)\n",
    "variance_eigen_value = [i*100/total for i in eigen_values]\n",
    "print(\"Variance Eigen Values : \\n\",variance_eigen_value)\n",
    "cumulative_variance_eigen_value = np.cumsum(variance_eigen_value)\n",
    "print(\"Cumulative Variance Eigen Value : \\n\",cumulative_variance_eigen_value)"
   ]
  },
  {
   "cell_type": "code",
   "execution_count": 16,
   "id": "6b6ba17f",
   "metadata": {
    "execution": {
     "iopub.execute_input": "2024-01-22T06:34:58.958894Z",
     "iopub.status.busy": "2024-01-22T06:34:58.958470Z",
     "iopub.status.idle": "2024-01-22T06:34:59.211941Z",
     "shell.execute_reply": "2024-01-22T06:34:59.210206Z"
    },
    "papermill": {
     "duration": 0.274928,
     "end_time": "2024-01-22T06:34:59.217118",
     "exception": false,
     "start_time": "2024-01-22T06:34:58.942190",
     "status": "completed"
    },
    "tags": []
   },
   "outputs": [
    {
     "data": {
      "text/plain": [
       "([<matplotlib.patches.Wedge at 0x7a4f124ff190>,\n",
       "  <matplotlib.patches.Wedge at 0x7a4f124fe200>,\n",
       "  <matplotlib.patches.Wedge at 0x7a4f124ffe80>,\n",
       "  <matplotlib.patches.Wedge at 0x7a4f12548550>,\n",
       "  <matplotlib.patches.Wedge at 0x7a4f12548be0>,\n",
       "  <matplotlib.patches.Wedge at 0x7a4f12549270>],\n",
       " [Text(0.20330494935956153, 1.0810490726909239, 'PC1'),\n",
       "  Text(-0.9547716051642884, -0.5462702462810951, 'PC2'),\n",
       "  Text(0.24848211631838274, -1.0715673743960004, 'PC3'),\n",
       "  Text(0.8688083921128747, -0.6746643445404845, 'PC4'),\n",
       "  Text(1.0745511144599853, -0.2352443461866911, 'PC5'),\n",
       "  Text(1.0994021286392857, -0.03626237090163891, 'PC6')],\n",
       " [Text(0.11089360874157901, 0.5896631305586857, '44.08%'),\n",
       "  Text(-0.5207845119077936, -0.2979655888805973, '28.38%'),\n",
       "  Text(0.13553569981002694, -0.584491295125091, '12.33%'),\n",
       "  Text(0.4738954866070225, -0.36799873338571876, '9.40%'),\n",
       "  Text(0.5861187897054465, -0.1283150979200133, '4.76%'),\n",
       "  Text(0.5996738883487012, -0.019779475037257584, '1.05%')])"
      ]
     },
     "execution_count": 16,
     "metadata": {},
     "output_type": "execute_result"
    },
    {
     "data": {
      "image/png": "[encoded data removed]",
      "text/plain": [
       "<Figure size 640x480 with 1 Axes>"
      ]
     },
     "metadata": {},
     "output_type": "display_data"
    }
   ],
   "source": [
    "plt.pie(x =eigen_values,labels=[\"PC1\",\"PC2\",\"PC3\",\"PC4\",\"PC5\",\"PC6\"],autopct=\"%.2f%%\")"
   ]
  },
  {
   "cell_type": "markdown",
   "id": "e3baff75",
   "metadata": {
    "papermill": {
     "duration": 0.015714,
     "end_time": "2024-01-22T06:34:59.263698",
     "exception": false,
     "start_time": "2024-01-22T06:34:59.247984",
     "status": "completed"
    },
    "tags": []
   },
   "source": [
    "#### **Validation**"
   ]
  },
  {
   "cell_type": "code",
   "execution_count": 17,
   "id": "1cda9353",
   "metadata": {
    "execution": {
     "iopub.execute_input": "2024-01-22T06:34:59.298106Z",
     "iopub.status.busy": "2024-01-22T06:34:59.296431Z",
     "iopub.status.idle": "2024-01-22T06:34:59.304941Z",
     "shell.execute_reply": "2024-01-22T06:34:59.304011Z"
    },
    "papermill": {
     "duration": 0.027994,
     "end_time": "2024-01-22T06:34:59.307453",
     "exception": false,
     "start_time": "2024-01-22T06:34:59.279459",
     "status": "completed"
    },
    "tags": []
   },
   "outputs": [
    {
     "data": {
      "text/plain": [
       "array([[ 0.19329055, -0.30509996, -0.14087845, -0.48643154,  0.49528148,\n",
       "        -0.00741414],\n",
       "       [ 0.4344199 , -0.32841262,  0.31900662, -0.17883036,  0.36557931,\n",
       "         0.05457185],\n",
       "       [ 0.81114323,  0.8150957 ,  1.52341562, -1.25408154, -0.37905353,\n",
       "        -0.27753858],\n",
       "       ...,\n",
       "       [ 3.46570362, -1.03983801, -0.71316141,  0.0334078 , -0.53876786,\n",
       "        -0.08534909],\n",
       "       [-0.91802273, -0.03004659,  0.25840805, -0.52457824, -0.09321487,\n",
       "        -0.028943  ],\n",
       "       [-1.10513709, -0.86133787,  0.30515404, -0.11437678,  0.10990335,\n",
       "         0.02897846]])"
      ]
     },
     "execution_count": 17,
     "metadata": {},
     "output_type": "execute_result"
    }
   ],
   "source": [
    "pcomps_res = np.dot(x_stsc,eigen_vector.T)\n",
    "pcomps_res"
   ]
  },
  {
   "cell_type": "code",
   "execution_count": 18,
   "id": "dac95123",
   "metadata": {
    "execution": {
     "iopub.execute_input": "2024-01-22T06:34:59.341923Z",
     "iopub.status.busy": "2024-01-22T06:34:59.340709Z",
     "iopub.status.idle": "2024-01-22T06:34:59.349107Z",
     "shell.execute_reply": "2024-01-22T06:34:59.347956Z"
    },
    "papermill": {
     "duration": 0.028129,
     "end_time": "2024-01-22T06:34:59.351607",
     "exception": false,
     "start_time": "2024-01-22T06:34:59.323478",
     "status": "completed"
    },
    "tags": []
   },
   "outputs": [
    {
     "data": {
      "text/plain": [
       "array([[ 0.19329055, -0.30509996, -0.14087845, -0.48643154,  0.49528148,\n",
       "        -0.00741414],\n",
       "       [ 0.4344199 , -0.32841262,  0.31900662, -0.17883036,  0.36557931,\n",
       "         0.05457185],\n",
       "       [ 0.81114323,  0.8150957 ,  1.52341562, -1.25408154, -0.37905353,\n",
       "        -0.27753858],\n",
       "       ...,\n",
       "       [ 3.46570362, -1.03983801, -0.71316141,  0.0334078 , -0.53876786,\n",
       "        -0.08534909],\n",
       "       [-0.91802273, -0.03004659,  0.25840805, -0.52457824, -0.09321487,\n",
       "        -0.028943  ],\n",
       "       [-1.10513709, -0.86133787,  0.30515404, -0.11437678,  0.10990335,\n",
       "         0.02897846]])"
      ]
     },
     "execution_count": 18,
     "metadata": {},
     "output_type": "execute_result"
    }
   ],
   "source": [
    "pcomps"
   ]
  },
  {
   "cell_type": "code",
   "execution_count": 19,
   "id": "9d966d1d",
   "metadata": {
    "execution": {
     "iopub.execute_input": "2024-01-22T06:34:59.386291Z",
     "iopub.status.busy": "2024-01-22T06:34:59.384965Z",
     "iopub.status.idle": "2024-01-22T06:34:59.402057Z",
     "shell.execute_reply": "2024-01-22T06:34:59.400831Z"
    },
    "papermill": {
     "duration": 0.037042,
     "end_time": "2024-01-22T06:34:59.404558",
     "exception": false,
     "start_time": "2024-01-22T06:34:59.367516",
     "status": "completed"
    },
    "tags": []
   },
   "outputs": [
    {
     "data": {
      "text/html": [
       "<div>\n",
       "<style scoped>\n",
       "    .dataframe tbody tr th:only-of-type {\n",
       "        vertical-align: middle;\n",
       "    }\n",
       "\n",
       "    .dataframe tbody tr th {\n",
       "        vertical-align: top;\n",
       "    }\n",
       "\n",
       "    .dataframe thead th {\n",
       "        text-align: right;\n",
       "    }\n",
       "</style>\n",
       "<table border=\"1\" class=\"dataframe\">\n",
       "  <thead>\n",
       "    <tr style=\"text-align: right;\">\n",
       "      <th></th>\n",
       "      <th>PC1</th>\n",
       "      <th>PC2</th>\n",
       "      <th>PC3</th>\n",
       "      <th>PC4</th>\n",
       "      <th>PC5</th>\n",
       "      <th>PC6</th>\n",
       "    </tr>\n",
       "  </thead>\n",
       "  <tbody>\n",
       "    <tr>\n",
       "      <th>0</th>\n",
       "      <td>0.193291</td>\n",
       "      <td>-0.305100</td>\n",
       "      <td>-0.140878</td>\n",
       "      <td>-0.486432</td>\n",
       "      <td>0.495281</td>\n",
       "      <td>-0.007414</td>\n",
       "    </tr>\n",
       "    <tr>\n",
       "      <th>1</th>\n",
       "      <td>0.434420</td>\n",
       "      <td>-0.328413</td>\n",
       "      <td>0.319007</td>\n",
       "      <td>-0.178830</td>\n",
       "      <td>0.365579</td>\n",
       "      <td>0.054572</td>\n",
       "    </tr>\n",
       "    <tr>\n",
       "      <th>2</th>\n",
       "      <td>0.811143</td>\n",
       "      <td>0.815096</td>\n",
       "      <td>1.523416</td>\n",
       "      <td>-1.254082</td>\n",
       "      <td>-0.379054</td>\n",
       "      <td>-0.277539</td>\n",
       "    </tr>\n",
       "    <tr>\n",
       "      <th>3</th>\n",
       "      <td>-0.778648</td>\n",
       "      <td>0.652754</td>\n",
       "      <td>0.163012</td>\n",
       "      <td>0.380060</td>\n",
       "      <td>-0.276138</td>\n",
       "      <td>0.060718</td>\n",
       "    </tr>\n",
       "    <tr>\n",
       "      <th>4</th>\n",
       "      <td>0.166287</td>\n",
       "      <td>1.271434</td>\n",
       "      <td>0.066279</td>\n",
       "      <td>-0.826227</td>\n",
       "      <td>-0.394211</td>\n",
       "      <td>-0.026825</td>\n",
       "    </tr>\n",
       "  </tbody>\n",
       "</table>\n",
       "</div>"
      ],
      "text/plain": [
       "        PC1       PC2       PC3       PC4       PC5       PC6\n",
       "0  0.193291 -0.305100 -0.140878 -0.486432  0.495281 -0.007414\n",
       "1  0.434420 -0.328413  0.319007 -0.178830  0.365579  0.054572\n",
       "2  0.811143  0.815096  1.523416 -1.254082 -0.379054 -0.277539\n",
       "3 -0.778648  0.652754  0.163012  0.380060 -0.276138  0.060718\n",
       "4  0.166287  1.271434  0.066279 -0.826227 -0.394211 -0.026825"
      ]
     },
     "execution_count": 19,
     "metadata": {},
     "output_type": "execute_result"
    }
   ],
   "source": [
    "pca_df = pd.DataFrame(pcomps,columns=[\"PC1\",\"PC2\",\"PC3\",\"PC4\",\"PC5\",\"PC6\"])\n",
    "pca_df.head()"
   ]
  },
  {
   "cell_type": "markdown",
   "id": "f5675a74",
   "metadata": {
    "papermill": {
     "duration": 0.015949,
     "end_time": "2024-01-22T06:34:59.437612",
     "exception": false,
     "start_time": "2024-01-22T06:34:59.421663",
     "status": "completed"
    },
    "tags": []
   },
   "source": [
    "#### Selecting 3 components for PCA :\n",
    "##### Because it retains more than 75% of variance"
   ]
  },
  {
   "cell_type": "code",
   "execution_count": 20,
   "id": "66e98567",
   "metadata": {
    "execution": {
     "iopub.execute_input": "2024-01-22T06:34:59.471836Z",
     "iopub.status.busy": "2024-01-22T06:34:59.471403Z",
     "iopub.status.idle": "2024-01-22T06:34:59.484734Z",
     "shell.execute_reply": "2024-01-22T06:34:59.483583Z"
    },
    "papermill": {
     "duration": 0.033446,
     "end_time": "2024-01-22T06:34:59.487268",
     "exception": false,
     "start_time": "2024-01-22T06:34:59.453822",
     "status": "completed"
    },
    "tags": []
   },
   "outputs": [
    {
     "data": {
      "text/html": [
       "<div>\n",
       "<style scoped>\n",
       "    .dataframe tbody tr th:only-of-type {\n",
       "        vertical-align: middle;\n",
       "    }\n",
       "\n",
       "    .dataframe tbody tr th {\n",
       "        vertical-align: top;\n",
       "    }\n",
       "\n",
       "    .dataframe thead th {\n",
       "        text-align: right;\n",
       "    }\n",
       "</style>\n",
       "<table border=\"1\" class=\"dataframe\">\n",
       "  <thead>\n",
       "    <tr style=\"text-align: right;\">\n",
       "      <th></th>\n",
       "      <th>PC1</th>\n",
       "      <th>PC2</th>\n",
       "      <th>PC3</th>\n",
       "    </tr>\n",
       "  </thead>\n",
       "  <tbody>\n",
       "    <tr>\n",
       "      <th>0</th>\n",
       "      <td>0.193291</td>\n",
       "      <td>-0.305100</td>\n",
       "      <td>-0.140878</td>\n",
       "    </tr>\n",
       "    <tr>\n",
       "      <th>1</th>\n",
       "      <td>0.434420</td>\n",
       "      <td>-0.328413</td>\n",
       "      <td>0.319007</td>\n",
       "    </tr>\n",
       "    <tr>\n",
       "      <th>2</th>\n",
       "      <td>0.811143</td>\n",
       "      <td>0.815096</td>\n",
       "      <td>1.523416</td>\n",
       "    </tr>\n",
       "    <tr>\n",
       "      <th>3</th>\n",
       "      <td>-0.778648</td>\n",
       "      <td>0.652754</td>\n",
       "      <td>0.163012</td>\n",
       "    </tr>\n",
       "    <tr>\n",
       "      <th>4</th>\n",
       "      <td>0.166287</td>\n",
       "      <td>1.271434</td>\n",
       "      <td>0.066279</td>\n",
       "    </tr>\n",
       "  </tbody>\n",
       "</table>\n",
       "</div>"
      ],
      "text/plain": [
       "        PC1       PC2       PC3\n",
       "0  0.193291 -0.305100 -0.140878\n",
       "1  0.434420 -0.328413  0.319007\n",
       "2  0.811143  0.815096  1.523416\n",
       "3 -0.778648  0.652754  0.163012\n",
       "4  0.166287  1.271434  0.066279"
      ]
     },
     "execution_count": 20,
     "metadata": {},
     "output_type": "execute_result"
    }
   ],
   "source": [
    "final_pca = pca_df.iloc[:,:3]\n",
    "final_pca.head()"
   ]
  },
  {
   "cell_type": "markdown",
   "id": "cbfef886",
   "metadata": {
    "papermill": {
     "duration": 0.016266,
     "end_time": "2024-01-22T06:34:59.520363",
     "exception": false,
     "start_time": "2024-01-22T06:34:59.504097",
     "status": "completed"
    },
    "tags": []
   },
   "source": [
    "#### KMeans model"
   ]
  },
  {
   "cell_type": "code",
   "execution_count": 21,
   "id": "03925dfd",
   "metadata": {
    "execution": {
     "iopub.execute_input": "2024-01-22T06:34:59.555384Z",
     "iopub.status.busy": "2024-01-22T06:34:59.554978Z",
     "iopub.status.idle": "2024-01-22T06:34:59.722576Z",
     "shell.execute_reply": "2024-01-22T06:34:59.721267Z"
    },
    "papermill": {
     "duration": 0.188429,
     "end_time": "2024-01-22T06:34:59.725522",
     "exception": false,
     "start_time": "2024-01-22T06:34:59.537093",
     "status": "completed"
    },
    "tags": []
   },
   "outputs": [],
   "source": [
    "from sklearn.cluster import KMeans"
   ]
  },
  {
   "cell_type": "code",
   "execution_count": 22,
   "id": "056f1f6f",
   "metadata": {
    "execution": {
     "iopub.execute_input": "2024-01-22T06:34:59.761638Z",
     "iopub.status.busy": "2024-01-22T06:34:59.761215Z",
     "iopub.status.idle": "2024-01-22T06:35:00.773105Z",
     "shell.execute_reply": "2024-01-22T06:35:00.772025Z"
    },
    "papermill": {
     "duration": 1.033271,
     "end_time": "2024-01-22T06:35:00.776110",
     "exception": false,
     "start_time": "2024-01-22T06:34:59.742839",
     "status": "completed"
    },
    "tags": []
   },
   "outputs": [
    {
     "name": "stdout",
     "output_type": "stream",
     "text": [
      "WCSS : \n",
      " [2238.553820039629, 1553.586621813053, 1206.0227382338107, 950.1344906467872, 688.6089146785417, 568.811225440377, 484.4677477950217, 428.06024983421014, 375.4942385347244, 344.43485182635936, 318.83019998829633, 300.46625941844735, 272.60778489026075, 252.02578621752792, 232.37310928465695, 218.2024716756161, 201.40091646797433, 182.53485871442444, 169.4218243433728, 160.05877140671362]\n"
     ]
    }
   ],
   "source": [
    "wcss = []\n",
    "for i in range(1,21):\n",
    "    model = KMeans(n_clusters=i)\n",
    "    model.fit(final_pca)\n",
    "    wcss.append(model.inertia_)\n",
    "\n",
    "print(\"WCSS : \\n\",wcss)"
   ]
  },
  {
   "cell_type": "markdown",
   "id": "b7560ad7",
   "metadata": {
    "papermill": {
     "duration": 0.017559,
     "end_time": "2024-01-22T06:35:00.812175",
     "exception": false,
     "start_time": "2024-01-22T06:35:00.794616",
     "status": "completed"
    },
    "tags": []
   },
   "source": [
    "#### TO find the number of clusters"
   ]
  },
  {
   "cell_type": "code",
   "execution_count": 23,
   "id": "953d283f",
   "metadata": {
    "execution": {
     "iopub.execute_input": "2024-01-22T06:35:00.847596Z",
     "iopub.status.busy": "2024-01-22T06:35:00.847184Z",
     "iopub.status.idle": "2024-01-22T06:35:01.152019Z",
     "shell.execute_reply": "2024-01-22T06:35:01.149206Z"
    },
    "papermill": {
     "duration": 0.326656,
     "end_time": "2024-01-22T06:35:01.155651",
     "exception": false,
     "start_time": "2024-01-22T06:35:00.828995",
     "status": "completed"
    },
    "tags": []
   },
   "outputs": [
    {
     "data": {
      "image/png": "[encoded data removed]",
      "text/plain": [
       "<Figure size 640x480 with 1 Axes>"
      ]
     },
     "metadata": {},
     "output_type": "display_data"
    }
   ],
   "source": [
    "plt.plot(list(range(1,21)),wcss,marker=\"o\",color=\"yellow\",linestyle=\"-\",markerfacecolor=\"red\")\n",
    "plt.title(\"Elbow Method\")\n",
    "plt.grid()\n",
    "plt.xlabel(\"Number of Clusters\")\n",
    "plt.ylabel(\"wcss\")\n",
    "plt.show()"
   ]
  },
  {
   "cell_type": "code",
   "execution_count": 24,
   "id": "31c66eb8",
   "metadata": {
    "execution": {
     "iopub.execute_input": "2024-01-22T06:35:01.192717Z",
     "iopub.status.busy": "2024-01-22T06:35:01.191806Z",
     "iopub.status.idle": "2024-01-22T06:35:01.239379Z",
     "shell.execute_reply": "2024-01-22T06:35:01.238307Z"
    },
    "papermill": {
     "duration": 0.069081,
     "end_time": "2024-01-22T06:35:01.242540",
     "exception": false,
     "start_time": "2024-01-22T06:35:01.173459",
     "status": "completed"
    },
    "tags": []
   },
   "outputs": [
    {
     "data": {
      "text/html": [
       "<style>#sk-container-id-1 {color: black;background-color: white;}#sk-container-id-1 pre{padding: 0;}#sk-container-id-1 div.sk-toggleable {background-color: white;}#sk-container-id-1 label.sk-toggleable__label {cursor: pointer;display: block;width: 100%;margin-bottom: 0;padding: 0.3em;box-sizing: border-box;text-align: center;}#sk-container-id-1 label.sk-toggleable__label-arrow:before {content: \"▸\";float: left;margin-right: 0.25em;color: #696969;}#sk-container-id-1 label.sk-toggleable__label-arrow:hover:before {color: black;}#sk-container-id-1 div.sk-estimator:hover label.sk-toggleable__label-arrow:before {color: black;}#sk-container-id-1 div.sk-toggleable__content {max-height: 0;max-width: 0;overflow: hidden;text-align: left;background-color: #f0f8ff;}#sk-container-id-1 div.sk-toggleable__content pre {margin: 0.2em;color: black;border-radius: 0.25em;background-color: #f0f8ff;}#sk-container-id-1 input.sk-toggleable__control:checked~div.sk-toggleable__content {max-height: 200px;max-width: 100%;overflow: auto;}#sk-container-id-1 input.sk-toggleable__control:checked~label.sk-toggleable__label-arrow:before {content: \"▾\";}#sk-container-id-1 div.sk-estimator input.sk-toggleable__control:checked~label.sk-toggleable__label {background-color: #d4ebff;}#sk-container-id-1 div.sk-label input.sk-toggleable__control:checked~label.sk-toggleable__label {background-color: #d4ebff;}#sk-container-id-1 input.sk-hidden--visually {border: 0;clip: rect(1px 1px 1px 1px);clip: rect(1px, 1px, 1px, 1px);height: 1px;margin: -1px;overflow: hidden;padding: 0;position: absolute;width: 1px;}#sk-container-id-1 div.sk-estimator {font-family: monospace;background-color: #f0f8ff;border: 1px dotted black;border-radius: 0.25em;box-sizing: border-box;margin-bottom: 0.5em;}#sk-container-id-1 div.sk-estimator:hover {background-color: #d4ebff;}#sk-container-id-1 div.sk-parallel-item::after {content: \"\";width: 100%;border-bottom: 1px solid gray;flex-grow: 1;}#sk-container-id-1 div.sk-label:hover label.sk-toggleable__label {background-color: #d4ebff;}#sk-container-id-1 div.sk-serial::before {content: \"\";position: absolute;border-left: 1px solid gray;box-sizing: border-box;top: 0;bottom: 0;left: 50%;z-index: 0;}#sk-container-id-1 div.sk-serial {display: flex;flex-direction: column;align-items: center;background-color: white;padding-right: 0.2em;padding-left: 0.2em;position: relative;}#sk-container-id-1 div.sk-item {position: relative;z-index: 1;}#sk-container-id-1 div.sk-parallel {display: flex;align-items: stretch;justify-content: center;background-color: white;position: relative;}#sk-container-id-1 div.sk-item::before, #sk-container-id-1 div.sk-parallel-item::before {content: \"\";position: absolute;border-left: 1px solid gray;box-sizing: border-box;top: 0;bottom: 0;left: 50%;z-index: -1;}#sk-container-id-1 div.sk-parallel-item {display: flex;flex-direction: column;z-index: 1;position: relative;background-color: white;}#sk-container-id-1 div.sk-parallel-item:first-child::after {align-self: flex-end;width: 50%;}#sk-container-id-1 div.sk-parallel-item:last-child::after {align-self: flex-start;width: 50%;}#sk-container-id-1 div.sk-parallel-item:only-child::after {width: 0;}#sk-container-id-1 div.sk-dashed-wrapped {border: 1px dashed gray;margin: 0 0.4em 0.5em 0.4em;box-sizing: border-box;padding-bottom: 0.4em;background-color: white;}#sk-container-id-1 div.sk-label label {font-family: monospace;font-weight: bold;display: inline-block;line-height: 1.2em;}#sk-container-id-1 div.sk-label-container {text-align: center;}#sk-container-id-1 div.sk-container {/* jupyter's `normalize.less` sets `[hidden] { display: none; }` but bootstrap.min.css set `[hidden] { display: none !important; }` so we also need the `!important` here to be able to override the default hidden behavior on the sphinx rendered scikit-learn.org. See: https://github.com/scikit-learn/scikit-learn/issues/21755 */display: inline-block !important;position: relative;}#sk-container-id-1 div.sk-text-repr-fallback {display: none;}</style><div id=\"sk-container-id-1\" class=\"sk-top-container\"><div class=\"sk-text-repr-fallback\"><pre>KMeans(n_clusters=5)</pre><b>In a Jupyter environment, please rerun this cell to show the HTML representation or trust the notebook. <br />On GitHub, the HTML representation is unable to render, please try loading this page with nbviewer.org.</b></div><div class=\"sk-container\" hidden><div class=\"sk-item\"><div class=\"sk-estimator sk-toggleable\"><input class=\"sk-toggleable__control sk-hidden--visually\" id=\"sk-estimator-id-1\" type=\"checkbox\" checked><label for=\"sk-estimator-id-1\" class=\"sk-toggleable__label sk-toggleable__label-arrow\">KMeans</label><div class=\"sk-toggleable__content\"><pre>KMeans(n_clusters=5)</pre></div></div></div></div></div>"
      ],
      "text/plain": [
       "KMeans(n_clusters=5)"
      ]
     },
     "execution_count": 24,
     "metadata": {},
     "output_type": "execute_result"
    }
   ],
   "source": [
    "k5 = KMeans(n_clusters=5)\n",
    "k5.fit(final_pca)"
   ]
  },
  {
   "cell_type": "markdown",
   "id": "816d5269",
   "metadata": {
    "papermill": {
     "duration": 0.01721,
     "end_time": "2024-01-22T06:35:01.277421",
     "exception": false,
     "start_time": "2024-01-22T06:35:01.260211",
     "status": "completed"
    },
    "tags": []
   },
   "source": [
    "#### Prediction"
   ]
  },
  {
   "cell_type": "code",
   "execution_count": 25,
   "id": "03a28164",
   "metadata": {
    "execution": {
     "iopub.execute_input": "2024-01-22T06:35:01.314646Z",
     "iopub.status.busy": "2024-01-22T06:35:01.313836Z",
     "iopub.status.idle": "2024-01-22T06:35:01.325931Z",
     "shell.execute_reply": "2024-01-22T06:35:01.324517Z"
    },
    "papermill": {
     "duration": 0.033549,
     "end_time": "2024-01-22T06:35:01.328422",
     "exception": false,
     "start_time": "2024-01-22T06:35:01.294873",
     "status": "completed"
    },
    "tags": []
   },
   "outputs": [
    {
     "data": {
      "text/plain": [
       "array([1, 2, 2, 1, 0, 1, 1, 1, 1, 2, 2, 1, 0, 2, 2, 1, 2, 1, 1, 1, 1, 1,\n",
       "       0, 2, 2, 1, 1, 1, 2, 0, 1, 1, 1, 0, 1, 2, 0, 2, 2, 0, 0, 1, 2, 2,\n",
       "       2, 2, 2, 3, 2, 2, 1, 1, 0, 2, 0, 1, 3, 2, 1, 1, 1, 3, 1, 2, 1, 3,\n",
       "       1, 2, 1, 1, 0, 0, 1, 0, 1, 1, 1, 2, 1, 1, 1, 2, 2, 1, 1, 3, 3, 0,\n",
       "       1, 0, 1, 1, 3, 0, 2, 1, 1, 1, 1, 1, 2, 2, 1, 0, 1, 1, 2, 2, 1, 2,\n",
       "       1, 2, 0, 1, 1, 1, 1, 1, 1, 1, 1, 1, 1, 1, 0, 0, 1, 1, 1, 0, 1, 1,\n",
       "       1, 1, 1, 1, 1, 1, 1, 1, 1, 0, 0, 1, 1, 2, 1, 1, 1, 0, 1, 1, 1, 1,\n",
       "       1, 2, 2, 1, 2, 2, 2, 1, 1, 2, 1, 2, 2, 1, 1, 1, 2, 2, 1, 2, 1, 2,\n",
       "       0, 1, 1, 1, 1, 0, 2, 4, 1, 1, 1, 1, 2, 2, 1, 1, 1, 2, 1, 1, 0, 2,\n",
       "       1, 1, 2, 2, 0, 1, 1, 2, 1, 1, 1, 2, 1, 3, 1, 1, 2, 2, 2, 1, 2, 1,\n",
       "       1, 2, 1, 1, 1, 1, 1, 1, 1, 1, 1, 1, 1, 1, 1, 1, 1, 1, 1, 0, 0, 1,\n",
       "       1, 1, 2, 2, 1, 1, 1, 1, 1, 3, 1, 0, 2, 0, 1, 1, 0, 0, 1, 1, 1, 1,\n",
       "       2, 2, 2, 1, 2, 1, 1, 1, 1, 0, 1, 1, 0, 0, 1, 1, 1, 1, 0, 0, 0, 0,\n",
       "       1, 1, 1, 0, 1, 1, 1, 2, 1, 1, 1, 1, 1, 1, 1, 2, 2, 2, 2, 2, 2, 1,\n",
       "       1, 2, 1, 0, 2, 1, 1, 2, 1, 1, 1, 2, 1, 1, 1, 1, 1, 0, 1, 1, 1, 1,\n",
       "       1, 2, 1, 3, 0, 0, 1, 1, 1, 1, 2, 2, 1, 2, 1, 1, 2, 0, 1, 2, 1, 2,\n",
       "       1, 2, 1, 1, 1, 2, 1, 1, 1, 1, 1, 1, 1, 1, 1, 1, 1, 1, 0, 0, 1, 1,\n",
       "       1, 1, 2, 0, 1, 1, 0, 0, 0, 1, 2, 1, 1, 1, 1, 1, 1, 1, 1, 0, 1, 1,\n",
       "       2, 1, 1, 1, 1, 0, 1, 1, 1, 1, 0, 2, 1, 1, 1, 1, 1, 0, 1, 1, 2, 1,\n",
       "       2, 1, 2, 1, 1, 1, 1, 0, 2, 0, 1, 1, 1, 1, 1, 1, 1, 0, 0, 2, 1, 1],\n",
       "      dtype=int32)"
      ]
     },
     "execution_count": 25,
     "metadata": {},
     "output_type": "execute_result"
    }
   ],
   "source": [
    "ypred = k5.predict(final_pca)\n",
    "ypred"
   ]
  },
  {
   "cell_type": "markdown",
   "id": "c2a6105c",
   "metadata": {
    "papermill": {
     "duration": 0.01821,
     "end_time": "2024-01-22T06:35:01.365634",
     "exception": false,
     "start_time": "2024-01-22T06:35:01.347424",
     "status": "completed"
    },
    "tags": []
   },
   "source": [
    "#### Centers of each clusters"
   ]
  },
  {
   "cell_type": "code",
   "execution_count": 26,
   "id": "cb5d353e",
   "metadata": {
    "execution": {
     "iopub.execute_input": "2024-01-22T06:35:01.405288Z",
     "iopub.status.busy": "2024-01-22T06:35:01.403061Z",
     "iopub.status.idle": "2024-01-22T06:35:01.410841Z",
     "shell.execute_reply": "2024-01-22T06:35:01.409784Z"
    },
    "papermill": {
     "duration": 0.031066,
     "end_time": "2024-01-22T06:35:01.414551",
     "exception": false,
     "start_time": "2024-01-22T06:35:01.383485",
     "status": "completed"
    },
    "tags": []
   },
   "outputs": [
    {
     "name": "stdout",
     "output_type": "stream",
     "text": [
      "[[-0.19163329  1.86301035 -0.95411732]\n",
      " [-0.74722126 -0.17418796  0.13654349]\n",
      " [ 1.37650756 -0.71947679  0.21810694]\n",
      " [ 7.28674184 -1.05985283 -0.84736335]\n",
      " [ 7.79794031 13.94908418  8.51512994]]\n"
     ]
    }
   ],
   "source": [
    "cluster_centers = k5.cluster_centers_\n",
    "print(cluster_centers)"
   ]
  },
  {
   "cell_type": "code",
   "execution_count": null,
   "id": "c9d48d7b",
   "metadata": {
    "papermill": {
     "duration": 0.01861,
     "end_time": "2024-01-22T06:35:01.452260",
     "exception": false,
     "start_time": "2024-01-22T06:35:01.433650",
     "status": "completed"
    },
    "tags": []
   },
   "outputs": [],
   "source": []
  }
 ],
 "metadata": {
  "kaggle": {
   "accelerator": "none",
   "dataSources": [
    {
     "datasetId": 20922,
     "sourceId": 26985,
     "sourceType": "datasetVersion"
    }
   ],
   "dockerImageVersionId": 30635,
   "isGpuEnabled": false,
   "isInternetEnabled": true,
   "language": "python",
   "sourceType": "notebook"
  },
  "kernelspec": {
   "display_name": "Python 3",
   "language": "python",
   "name": "python3"
  },
  "language_info": {
   "codemirror_mode": {
    "name": "ipython",
    "version": 3
   },
   "file_extension": ".py",
   "mimetype": "text/x-python",
   "name": "python",
   "nbconvert_exporter": "python",
   "pygments_lexer": "ipython3",
   "version": "3.10.12"
  },
  "papermill": {
   "default_parameters": {},
   "duration": 12.213106,
   "end_time": "2024-01-22T06:35:02.192684",
   "environment_variables": {},
   "exception": null,
   "input_path": "__notebook__.ipynb",
   "output_path": "__notebook__.ipynb",
   "parameters": {},
   "start_time": "2024-01-22T06:34:49.979578",
   "version": "2.4.0"
  }
 },
 "nbformat": 4,
 "nbformat_minor": 5
}
