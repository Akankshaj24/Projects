{
 "cells": [
  {
   "cell_type": "code",
   "execution_count": 1,
   "id": "597755cc",
   "metadata": {
    "_cell_guid": "b1076dfc-b9ad-4769-8c92-a6c4dae69d19",
    "_uuid": "8f2839f25d086af736a60e9eeb907d3b93b6e0e5",
    "execution": {
     "iopub.execute_input": "2024-02-20T02:41:32.159283Z",
     "iopub.status.busy": "2024-02-20T02:41:32.158708Z",
     "iopub.status.idle": "2024-02-20T02:41:32.185265Z",
     "shell.execute_reply": "2024-02-20T02:41:32.183930Z"
    },
    "papermill": {
     "duration": 0.045035,
     "end_time": "2024-02-20T02:41:32.188095",
     "exception": false,
     "start_time": "2024-02-20T02:41:32.143060",
     "status": "completed"
    },
    "tags": []
   },
   "outputs": [
    {
     "name": "stdout",
     "output_type": "stream",
     "text": [
      "/kaggle/input/titanic/train_and_test2.csv\n"
     ]
    }
   ],
   "source": [
    "# Environment Setting\n",
    "\n",
    "import os\n",
    "for dirname, _, filenames in os.walk('/kaggle/input'):\n",
    "    for filename in filenames:\n",
    "        print(os.path.join(dirname, filename))"
   ]
  },
  {
   "cell_type": "markdown",
   "id": "3ac913a5",
   "metadata": {
    "papermill": {
     "duration": 0.012747,
     "end_time": "2024-02-20T02:41:32.214109",
     "exception": false,
     "start_time": "2024-02-20T02:41:32.201362",
     "status": "completed"
    },
    "tags": []
   },
   "source": [
    "#### Importing Required Libraries"
   ]
  },
  {
   "cell_type": "code",
   "execution_count": 2,
   "id": "1f3c5f26",
   "metadata": {
    "execution": {
     "iopub.execute_input": "2024-02-20T02:41:32.242511Z",
     "iopub.status.busy": "2024-02-20T02:41:32.241752Z",
     "iopub.status.idle": "2024-02-20T02:41:33.402538Z",
     "shell.execute_reply": "2024-02-20T02:41:33.400948Z"
    },
    "papermill": {
     "duration": 1.178836,
     "end_time": "2024-02-20T02:41:33.405791",
     "exception": false,
     "start_time": "2024-02-20T02:41:32.226955",
     "status": "completed"
    },
    "tags": []
   },
   "outputs": [],
   "source": [
    "import pandas as pd"
   ]
  },
  {
   "cell_type": "markdown",
   "id": "31b54962",
   "metadata": {
    "papermill": {
     "duration": 0.014024,
     "end_time": "2024-02-20T02:41:33.433085",
     "exception": false,
     "start_time": "2024-02-20T02:41:33.419061",
     "status": "completed"
    },
    "tags": []
   },
   "source": [
    "#### Reading dataset"
   ]
  },
  {
   "cell_type": "code",
   "execution_count": 3,
   "id": "0109e10d",
   "metadata": {
    "execution": {
     "iopub.execute_input": "2024-02-20T02:41:33.462068Z",
     "iopub.status.busy": "2024-02-20T02:41:33.461019Z",
     "iopub.status.idle": "2024-02-20T02:41:33.492960Z",
     "shell.execute_reply": "2024-02-20T02:41:33.491671Z"
    },
    "papermill": {
     "duration": 0.049968,
     "end_time": "2024-02-20T02:41:33.496142",
     "exception": false,
     "start_time": "2024-02-20T02:41:33.446174",
     "status": "completed"
    },
    "tags": []
   },
   "outputs": [],
   "source": [
    "df = pd.read_csv(\"/kaggle/input/titanic/train_and_test2.csv\")"
   ]
  },
  {
   "cell_type": "markdown",
   "id": "6b634d33",
   "metadata": {
    "papermill": {
     "duration": 0.012538,
     "end_time": "2024-02-20T02:41:33.521707",
     "exception": false,
     "start_time": "2024-02-20T02:41:33.509169",
     "status": "completed"
    },
    "tags": []
   },
   "source": [
    "#### How data looks like"
   ]
  },
  {
   "cell_type": "code",
   "execution_count": 4,
   "id": "00d874a6",
   "metadata": {
    "execution": {
     "iopub.execute_input": "2024-02-20T02:41:33.549403Z",
     "iopub.status.busy": "2024-02-20T02:41:33.548918Z",
     "iopub.status.idle": "2024-02-20T02:41:33.588472Z",
     "shell.execute_reply": "2024-02-20T02:41:33.587158Z"
    },
    "papermill": {
     "duration": 0.056693,
     "end_time": "2024-02-20T02:41:33.591073",
     "exception": false,
     "start_time": "2024-02-20T02:41:33.534380",
     "status": "completed"
    },
    "tags": []
   },
   "outputs": [
    {
     "data": {
      "text/html": [
       "<div>\n",
       "<style scoped>\n",
       "    .dataframe tbody tr th:only-of-type {\n",
       "        vertical-align: middle;\n",
       "    }\n",
       "\n",
       "    .dataframe tbody tr th {\n",
       "        vertical-align: top;\n",
       "    }\n",
       "\n",
       "    .dataframe thead th {\n",
       "        text-align: right;\n",
       "    }\n",
       "</style>\n",
       "<table border=\"1\" class=\"dataframe\">\n",
       "  <thead>\n",
       "    <tr style=\"text-align: right;\">\n",
       "      <th></th>\n",
       "      <th>Passengerid</th>\n",
       "      <th>Age</th>\n",
       "      <th>Fare</th>\n",
       "      <th>Sex</th>\n",
       "      <th>sibsp</th>\n",
       "      <th>zero</th>\n",
       "      <th>zero.1</th>\n",
       "      <th>zero.2</th>\n",
       "      <th>zero.3</th>\n",
       "      <th>zero.4</th>\n",
       "      <th>...</th>\n",
       "      <th>zero.12</th>\n",
       "      <th>zero.13</th>\n",
       "      <th>zero.14</th>\n",
       "      <th>Pclass</th>\n",
       "      <th>zero.15</th>\n",
       "      <th>zero.16</th>\n",
       "      <th>Embarked</th>\n",
       "      <th>zero.17</th>\n",
       "      <th>zero.18</th>\n",
       "      <th>2urvived</th>\n",
       "    </tr>\n",
       "  </thead>\n",
       "  <tbody>\n",
       "    <tr>\n",
       "      <th>0</th>\n",
       "      <td>1</td>\n",
       "      <td>22.0</td>\n",
       "      <td>7.2500</td>\n",
       "      <td>0</td>\n",
       "      <td>1</td>\n",
       "      <td>0</td>\n",
       "      <td>0</td>\n",
       "      <td>0</td>\n",
       "      <td>0</td>\n",
       "      <td>0</td>\n",
       "      <td>...</td>\n",
       "      <td>0</td>\n",
       "      <td>0</td>\n",
       "      <td>0</td>\n",
       "      <td>3</td>\n",
       "      <td>0</td>\n",
       "      <td>0</td>\n",
       "      <td>2.0</td>\n",
       "      <td>0</td>\n",
       "      <td>0</td>\n",
       "      <td>0</td>\n",
       "    </tr>\n",
       "    <tr>\n",
       "      <th>1</th>\n",
       "      <td>2</td>\n",
       "      <td>38.0</td>\n",
       "      <td>71.2833</td>\n",
       "      <td>1</td>\n",
       "      <td>1</td>\n",
       "      <td>0</td>\n",
       "      <td>0</td>\n",
       "      <td>0</td>\n",
       "      <td>0</td>\n",
       "      <td>0</td>\n",
       "      <td>...</td>\n",
       "      <td>0</td>\n",
       "      <td>0</td>\n",
       "      <td>0</td>\n",
       "      <td>1</td>\n",
       "      <td>0</td>\n",
       "      <td>0</td>\n",
       "      <td>0.0</td>\n",
       "      <td>0</td>\n",
       "      <td>0</td>\n",
       "      <td>1</td>\n",
       "    </tr>\n",
       "    <tr>\n",
       "      <th>2</th>\n",
       "      <td>3</td>\n",
       "      <td>26.0</td>\n",
       "      <td>7.9250</td>\n",
       "      <td>1</td>\n",
       "      <td>0</td>\n",
       "      <td>0</td>\n",
       "      <td>0</td>\n",
       "      <td>0</td>\n",
       "      <td>0</td>\n",
       "      <td>0</td>\n",
       "      <td>...</td>\n",
       "      <td>0</td>\n",
       "      <td>0</td>\n",
       "      <td>0</td>\n",
       "      <td>3</td>\n",
       "      <td>0</td>\n",
       "      <td>0</td>\n",
       "      <td>2.0</td>\n",
       "      <td>0</td>\n",
       "      <td>0</td>\n",
       "      <td>1</td>\n",
       "    </tr>\n",
       "    <tr>\n",
       "      <th>3</th>\n",
       "      <td>4</td>\n",
       "      <td>35.0</td>\n",
       "      <td>53.1000</td>\n",
       "      <td>1</td>\n",
       "      <td>1</td>\n",
       "      <td>0</td>\n",
       "      <td>0</td>\n",
       "      <td>0</td>\n",
       "      <td>0</td>\n",
       "      <td>0</td>\n",
       "      <td>...</td>\n",
       "      <td>0</td>\n",
       "      <td>0</td>\n",
       "      <td>0</td>\n",
       "      <td>1</td>\n",
       "      <td>0</td>\n",
       "      <td>0</td>\n",
       "      <td>2.0</td>\n",
       "      <td>0</td>\n",
       "      <td>0</td>\n",
       "      <td>1</td>\n",
       "    </tr>\n",
       "    <tr>\n",
       "      <th>4</th>\n",
       "      <td>5</td>\n",
       "      <td>35.0</td>\n",
       "      <td>8.0500</td>\n",
       "      <td>0</td>\n",
       "      <td>0</td>\n",
       "      <td>0</td>\n",
       "      <td>0</td>\n",
       "      <td>0</td>\n",
       "      <td>0</td>\n",
       "      <td>0</td>\n",
       "      <td>...</td>\n",
       "      <td>0</td>\n",
       "      <td>0</td>\n",
       "      <td>0</td>\n",
       "      <td>3</td>\n",
       "      <td>0</td>\n",
       "      <td>0</td>\n",
       "      <td>2.0</td>\n",
       "      <td>0</td>\n",
       "      <td>0</td>\n",
       "      <td>0</td>\n",
       "    </tr>\n",
       "  </tbody>\n",
       "</table>\n",
       "<p>5 rows × 28 columns</p>\n",
       "</div>"
      ],
      "text/plain": [
       "   Passengerid   Age     Fare  Sex  sibsp  zero  zero.1  zero.2  zero.3  \\\n",
       "0            1  22.0   7.2500    0      1     0       0       0       0   \n",
       "1            2  38.0  71.2833    1      1     0       0       0       0   \n",
       "2            3  26.0   7.9250    1      0     0       0       0       0   \n",
       "3            4  35.0  53.1000    1      1     0       0       0       0   \n",
       "4            5  35.0   8.0500    0      0     0       0       0       0   \n",
       "\n",
       "   zero.4  ...  zero.12  zero.13  zero.14  Pclass  zero.15  zero.16  Embarked  \\\n",
       "0       0  ...        0        0        0       3        0        0       2.0   \n",
       "1       0  ...        0        0        0       1        0        0       0.0   \n",
       "2       0  ...        0        0        0       3        0        0       2.0   \n",
       "3       0  ...        0        0        0       1        0        0       2.0   \n",
       "4       0  ...        0        0        0       3        0        0       2.0   \n",
       "\n",
       "   zero.17  zero.18  2urvived  \n",
       "0        0        0         0  \n",
       "1        0        0         1  \n",
       "2        0        0         1  \n",
       "3        0        0         1  \n",
       "4        0        0         0  \n",
       "\n",
       "[5 rows x 28 columns]"
      ]
     },
     "execution_count": 4,
     "metadata": {},
     "output_type": "execute_result"
    }
   ],
   "source": [
    "df.head()"
   ]
  },
  {
   "cell_type": "markdown",
   "id": "0655d662",
   "metadata": {
    "papermill": {
     "duration": 0.012853,
     "end_time": "2024-02-20T02:41:33.617127",
     "exception": false,
     "start_time": "2024-02-20T02:41:33.604274",
     "status": "completed"
    },
    "tags": []
   },
   "source": [
    "#### Information about dataset"
   ]
  },
  {
   "cell_type": "code",
   "execution_count": 5,
   "id": "70f67b06",
   "metadata": {
    "execution": {
     "iopub.execute_input": "2024-02-20T02:41:33.646039Z",
     "iopub.status.busy": "2024-02-20T02:41:33.645480Z",
     "iopub.status.idle": "2024-02-20T02:41:33.677735Z",
     "shell.execute_reply": "2024-02-20T02:41:33.675617Z"
    },
    "papermill": {
     "duration": 0.049894,
     "end_time": "2024-02-20T02:41:33.680169",
     "exception": false,
     "start_time": "2024-02-20T02:41:33.630275",
     "status": "completed"
    },
    "tags": []
   },
   "outputs": [
    {
     "name": "stdout",
     "output_type": "stream",
     "text": [
      "<class 'pandas.core.frame.DataFrame'>\n",
      "RangeIndex: 1309 entries, 0 to 1308\n",
      "Data columns (total 28 columns):\n",
      " #   Column       Non-Null Count  Dtype  \n",
      "---  ------       --------------  -----  \n",
      " 0   Passengerid  1309 non-null   int64  \n",
      " 1   Age          1309 non-null   float64\n",
      " 2   Fare         1309 non-null   float64\n",
      " 3   Sex          1309 non-null   int64  \n",
      " 4   sibsp        1309 non-null   int64  \n",
      " 5   zero         1309 non-null   int64  \n",
      " 6   zero.1       1309 non-null   int64  \n",
      " 7   zero.2       1309 non-null   int64  \n",
      " 8   zero.3       1309 non-null   int64  \n",
      " 9   zero.4       1309 non-null   int64  \n",
      " 10  zero.5       1309 non-null   int64  \n",
      " 11  zero.6       1309 non-null   int64  \n",
      " 12  Parch        1309 non-null   int64  \n",
      " 13  zero.7       1309 non-null   int64  \n",
      " 14  zero.8       1309 non-null   int64  \n",
      " 15  zero.9       1309 non-null   int64  \n",
      " 16  zero.10      1309 non-null   int64  \n",
      " 17  zero.11      1309 non-null   int64  \n",
      " 18  zero.12      1309 non-null   int64  \n",
      " 19  zero.13      1309 non-null   int64  \n",
      " 20  zero.14      1309 non-null   int64  \n",
      " 21  Pclass       1309 non-null   int64  \n",
      " 22  zero.15      1309 non-null   int64  \n",
      " 23  zero.16      1309 non-null   int64  \n",
      " 24  Embarked     1307 non-null   float64\n",
      " 25  zero.17      1309 non-null   int64  \n",
      " 26  zero.18      1309 non-null   int64  \n",
      " 27  2urvived     1309 non-null   int64  \n",
      "dtypes: float64(3), int64(25)\n",
      "memory usage: 286.5 KB\n"
     ]
    }
   ],
   "source": [
    "df.info()"
   ]
  },
  {
   "cell_type": "markdown",
   "id": "e7cebf18",
   "metadata": {
    "papermill": {
     "duration": 0.013031,
     "end_time": "2024-02-20T02:41:33.706505",
     "exception": false,
     "start_time": "2024-02-20T02:41:33.693474",
     "status": "completed"
    },
    "tags": []
   },
   "source": [
    "#### Selecting required features"
   ]
  },
  {
   "cell_type": "code",
   "execution_count": 6,
   "id": "5548ca3f",
   "metadata": {
    "execution": {
     "iopub.execute_input": "2024-02-20T02:41:33.735411Z",
     "iopub.status.busy": "2024-02-20T02:41:33.734874Z",
     "iopub.status.idle": "2024-02-20T02:41:33.742908Z",
     "shell.execute_reply": "2024-02-20T02:41:33.741448Z"
    },
    "papermill": {
     "duration": 0.02603,
     "end_time": "2024-02-20T02:41:33.745798",
     "exception": false,
     "start_time": "2024-02-20T02:41:33.719768",
     "status": "completed"
    },
    "tags": []
   },
   "outputs": [],
   "source": [
    "df = df[[\"Pclass\", \"Age\", \"Fare\", \"Sex\", \"2urvived\"]]"
   ]
  },
  {
   "cell_type": "markdown",
   "id": "0b7044cd",
   "metadata": {
    "papermill": {
     "duration": 0.013557,
     "end_time": "2024-02-20T02:41:33.773038",
     "exception": false,
     "start_time": "2024-02-20T02:41:33.759481",
     "status": "completed"
    },
    "tags": []
   },
   "source": [
    "#### Changing column names"
   ]
  },
  {
   "cell_type": "code",
   "execution_count": 7,
   "id": "49f1f01f",
   "metadata": {
    "execution": {
     "iopub.execute_input": "2024-02-20T02:41:33.804065Z",
     "iopub.status.busy": "2024-02-20T02:41:33.802502Z",
     "iopub.status.idle": "2024-02-20T02:41:33.809478Z",
     "shell.execute_reply": "2024-02-20T02:41:33.808464Z"
    },
    "papermill": {
     "duration": 0.025289,
     "end_time": "2024-02-20T02:41:33.812133",
     "exception": false,
     "start_time": "2024-02-20T02:41:33.786844",
     "status": "completed"
    },
    "tags": []
   },
   "outputs": [],
   "source": [
    "df.columns = [\"Pclass\", \"Age\", \"Fare\", \"Sex\", \"Survived\"]"
   ]
  },
  {
   "cell_type": "code",
   "execution_count": 8,
   "id": "5716a1af",
   "metadata": {
    "execution": {
     "iopub.execute_input": "2024-02-20T02:41:33.842107Z",
     "iopub.status.busy": "2024-02-20T02:41:33.841093Z",
     "iopub.status.idle": "2024-02-20T02:41:33.856362Z",
     "shell.execute_reply": "2024-02-20T02:41:33.854998Z"
    },
    "papermill": {
     "duration": 0.033356,
     "end_time": "2024-02-20T02:41:33.859047",
     "exception": false,
     "start_time": "2024-02-20T02:41:33.825691",
     "status": "completed"
    },
    "tags": []
   },
   "outputs": [
    {
     "data": {
      "text/html": [
       "<div>\n",
       "<style scoped>\n",
       "    .dataframe tbody tr th:only-of-type {\n",
       "        vertical-align: middle;\n",
       "    }\n",
       "\n",
       "    .dataframe tbody tr th {\n",
       "        vertical-align: top;\n",
       "    }\n",
       "\n",
       "    .dataframe thead th {\n",
       "        text-align: right;\n",
       "    }\n",
       "</style>\n",
       "<table border=\"1\" class=\"dataframe\">\n",
       "  <thead>\n",
       "    <tr style=\"text-align: right;\">\n",
       "      <th></th>\n",
       "      <th>Pclass</th>\n",
       "      <th>Age</th>\n",
       "      <th>Fare</th>\n",
       "      <th>Sex</th>\n",
       "      <th>Survived</th>\n",
       "    </tr>\n",
       "  </thead>\n",
       "  <tbody>\n",
       "    <tr>\n",
       "      <th>0</th>\n",
       "      <td>3</td>\n",
       "      <td>22.0</td>\n",
       "      <td>7.2500</td>\n",
       "      <td>0</td>\n",
       "      <td>0</td>\n",
       "    </tr>\n",
       "    <tr>\n",
       "      <th>1</th>\n",
       "      <td>1</td>\n",
       "      <td>38.0</td>\n",
       "      <td>71.2833</td>\n",
       "      <td>1</td>\n",
       "      <td>1</td>\n",
       "    </tr>\n",
       "    <tr>\n",
       "      <th>2</th>\n",
       "      <td>3</td>\n",
       "      <td>26.0</td>\n",
       "      <td>7.9250</td>\n",
       "      <td>1</td>\n",
       "      <td>1</td>\n",
       "    </tr>\n",
       "    <tr>\n",
       "      <th>3</th>\n",
       "      <td>1</td>\n",
       "      <td>35.0</td>\n",
       "      <td>53.1000</td>\n",
       "      <td>1</td>\n",
       "      <td>1</td>\n",
       "    </tr>\n",
       "    <tr>\n",
       "      <th>4</th>\n",
       "      <td>3</td>\n",
       "      <td>35.0</td>\n",
       "      <td>8.0500</td>\n",
       "      <td>0</td>\n",
       "      <td>0</td>\n",
       "    </tr>\n",
       "  </tbody>\n",
       "</table>\n",
       "</div>"
      ],
      "text/plain": [
       "   Pclass   Age     Fare  Sex  Survived\n",
       "0       3  22.0   7.2500    0         0\n",
       "1       1  38.0  71.2833    1         1\n",
       "2       3  26.0   7.9250    1         1\n",
       "3       1  35.0  53.1000    1         1\n",
       "4       3  35.0   8.0500    0         0"
      ]
     },
     "execution_count": 8,
     "metadata": {},
     "output_type": "execute_result"
    }
   ],
   "source": [
    "df.head()"
   ]
  },
  {
   "cell_type": "markdown",
   "id": "6ab0ad5e",
   "metadata": {
    "papermill": {
     "duration": 0.013674,
     "end_time": "2024-02-20T02:41:33.886467",
     "exception": false,
     "start_time": "2024-02-20T02:41:33.872793",
     "status": "completed"
    },
    "tags": []
   },
   "source": [
    "#### Checking for the null values"
   ]
  },
  {
   "cell_type": "code",
   "execution_count": 9,
   "id": "5d4a6873",
   "metadata": {
    "execution": {
     "iopub.execute_input": "2024-02-20T02:41:33.917085Z",
     "iopub.status.busy": "2024-02-20T02:41:33.916560Z",
     "iopub.status.idle": "2024-02-20T02:41:33.925688Z",
     "shell.execute_reply": "2024-02-20T02:41:33.924256Z"
    },
    "papermill": {
     "duration": 0.027914,
     "end_time": "2024-02-20T02:41:33.928008",
     "exception": false,
     "start_time": "2024-02-20T02:41:33.900094",
     "status": "completed"
    },
    "tags": []
   },
   "outputs": [
    {
     "data": {
      "text/plain": [
       "Pclass      0\n",
       "Age         0\n",
       "Fare        0\n",
       "Sex         0\n",
       "Survived    0\n",
       "dtype: int64"
      ]
     },
     "execution_count": 9,
     "metadata": {},
     "output_type": "execute_result"
    }
   ],
   "source": [
    "df.isnull().sum()"
   ]
  },
  {
   "cell_type": "markdown",
   "id": "8c145838",
   "metadata": {
    "papermill": {
     "duration": 0.01408,
     "end_time": "2024-02-20T02:41:33.956059",
     "exception": false,
     "start_time": "2024-02-20T02:41:33.941979",
     "status": "completed"
    },
    "tags": []
   },
   "source": [
    "#### Selecting features and Target variable"
   ]
  },
  {
   "cell_type": "code",
   "execution_count": 10,
   "id": "10b29f96",
   "metadata": {
    "execution": {
     "iopub.execute_input": "2024-02-20T02:41:33.987610Z",
     "iopub.status.busy": "2024-02-20T02:41:33.986336Z",
     "iopub.status.idle": "2024-02-20T02:41:33.993379Z",
     "shell.execute_reply": "2024-02-20T02:41:33.991955Z"
    },
    "papermill": {
     "duration": 0.025959,
     "end_time": "2024-02-20T02:41:33.996427",
     "exception": false,
     "start_time": "2024-02-20T02:41:33.970468",
     "status": "completed"
    },
    "tags": []
   },
   "outputs": [],
   "source": [
    "X = df.iloc[:,:-1]\n",
    "y = df.iloc[:,4]"
   ]
  },
  {
   "cell_type": "code",
   "execution_count": 11,
   "id": "a334f225",
   "metadata": {
    "execution": {
     "iopub.execute_input": "2024-02-20T02:41:34.026617Z",
     "iopub.status.busy": "2024-02-20T02:41:34.026161Z",
     "iopub.status.idle": "2024-02-20T02:41:34.039262Z",
     "shell.execute_reply": "2024-02-20T02:41:34.038348Z"
    },
    "papermill": {
     "duration": 0.031199,
     "end_time": "2024-02-20T02:41:34.041521",
     "exception": false,
     "start_time": "2024-02-20T02:41:34.010322",
     "status": "completed"
    },
    "tags": []
   },
   "outputs": [
    {
     "data": {
      "text/html": [
       "<div>\n",
       "<style scoped>\n",
       "    .dataframe tbody tr th:only-of-type {\n",
       "        vertical-align: middle;\n",
       "    }\n",
       "\n",
       "    .dataframe tbody tr th {\n",
       "        vertical-align: top;\n",
       "    }\n",
       "\n",
       "    .dataframe thead th {\n",
       "        text-align: right;\n",
       "    }\n",
       "</style>\n",
       "<table border=\"1\" class=\"dataframe\">\n",
       "  <thead>\n",
       "    <tr style=\"text-align: right;\">\n",
       "      <th></th>\n",
       "      <th>Pclass</th>\n",
       "      <th>Age</th>\n",
       "      <th>Fare</th>\n",
       "      <th>Sex</th>\n",
       "    </tr>\n",
       "  </thead>\n",
       "  <tbody>\n",
       "    <tr>\n",
       "      <th>0</th>\n",
       "      <td>3</td>\n",
       "      <td>22.0</td>\n",
       "      <td>7.2500</td>\n",
       "      <td>0</td>\n",
       "    </tr>\n",
       "    <tr>\n",
       "      <th>1</th>\n",
       "      <td>1</td>\n",
       "      <td>38.0</td>\n",
       "      <td>71.2833</td>\n",
       "      <td>1</td>\n",
       "    </tr>\n",
       "    <tr>\n",
       "      <th>2</th>\n",
       "      <td>3</td>\n",
       "      <td>26.0</td>\n",
       "      <td>7.9250</td>\n",
       "      <td>1</td>\n",
       "    </tr>\n",
       "    <tr>\n",
       "      <th>3</th>\n",
       "      <td>1</td>\n",
       "      <td>35.0</td>\n",
       "      <td>53.1000</td>\n",
       "      <td>1</td>\n",
       "    </tr>\n",
       "    <tr>\n",
       "      <th>4</th>\n",
       "      <td>3</td>\n",
       "      <td>35.0</td>\n",
       "      <td>8.0500</td>\n",
       "      <td>0</td>\n",
       "    </tr>\n",
       "  </tbody>\n",
       "</table>\n",
       "</div>"
      ],
      "text/plain": [
       "   Pclass   Age     Fare  Sex\n",
       "0       3  22.0   7.2500    0\n",
       "1       1  38.0  71.2833    1\n",
       "2       3  26.0   7.9250    1\n",
       "3       1  35.0  53.1000    1\n",
       "4       3  35.0   8.0500    0"
      ]
     },
     "execution_count": 11,
     "metadata": {},
     "output_type": "execute_result"
    }
   ],
   "source": [
    "X.head()"
   ]
  },
  {
   "cell_type": "code",
   "execution_count": 12,
   "id": "7ad9415d",
   "metadata": {
    "execution": {
     "iopub.execute_input": "2024-02-20T02:41:34.073346Z",
     "iopub.status.busy": "2024-02-20T02:41:34.072433Z",
     "iopub.status.idle": "2024-02-20T02:41:34.080423Z",
     "shell.execute_reply": "2024-02-20T02:41:34.079337Z"
    },
    "papermill": {
     "duration": 0.026743,
     "end_time": "2024-02-20T02:41:34.082936",
     "exception": false,
     "start_time": "2024-02-20T02:41:34.056193",
     "status": "completed"
    },
    "tags": []
   },
   "outputs": [
    {
     "data": {
      "text/plain": [
       "0    0\n",
       "1    1\n",
       "2    1\n",
       "3    1\n",
       "4    0\n",
       "Name: Survived, dtype: int64"
      ]
     },
     "execution_count": 12,
     "metadata": {},
     "output_type": "execute_result"
    }
   ],
   "source": [
    "y.head()"
   ]
  },
  {
   "cell_type": "markdown",
   "id": "f5a8e2a8",
   "metadata": {
    "papermill": {
     "duration": 0.013891,
     "end_time": "2024-02-20T02:41:34.111175",
     "exception": false,
     "start_time": "2024-02-20T02:41:34.097284",
     "status": "completed"
    },
    "tags": []
   },
   "source": [
    "#### Splitting the dataset into train and test"
   ]
  },
  {
   "cell_type": "code",
   "execution_count": 13,
   "id": "32f13760",
   "metadata": {
    "execution": {
     "iopub.execute_input": "2024-02-20T02:41:34.141341Z",
     "iopub.status.busy": "2024-02-20T02:41:34.140863Z",
     "iopub.status.idle": "2024-02-20T02:41:35.865564Z",
     "shell.execute_reply": "2024-02-20T02:41:35.864051Z"
    },
    "papermill": {
     "duration": 1.743476,
     "end_time": "2024-02-20T02:41:35.868775",
     "exception": false,
     "start_time": "2024-02-20T02:41:34.125299",
     "status": "completed"
    },
    "tags": []
   },
   "outputs": [],
   "source": [
    "from sklearn.model_selection import train_test_split\n",
    "X_train, X_test, y_train, y_test = train_test_split(X, y, test_size = 0.33, random_state=42)"
   ]
  },
  {
   "cell_type": "markdown",
   "id": "18152e65",
   "metadata": {
    "papermill": {
     "duration": 0.015012,
     "end_time": "2024-02-20T02:41:35.899523",
     "exception": false,
     "start_time": "2024-02-20T02:41:35.884511",
     "status": "completed"
    },
    "tags": []
   },
   "source": [
    "#### Standard scaling features mean=0 and std. deviation =1"
   ]
  },
  {
   "cell_type": "code",
   "execution_count": 14,
   "id": "06afd122",
   "metadata": {
    "execution": {
     "iopub.execute_input": "2024-02-20T02:41:35.933157Z",
     "iopub.status.busy": "2024-02-20T02:41:35.932252Z",
     "iopub.status.idle": "2024-02-20T02:41:35.938444Z",
     "shell.execute_reply": "2024-02-20T02:41:35.936944Z"
    },
    "papermill": {
     "duration": 0.025989,
     "end_time": "2024-02-20T02:41:35.940916",
     "exception": false,
     "start_time": "2024-02-20T02:41:35.914927",
     "status": "completed"
    },
    "tags": []
   },
   "outputs": [],
   "source": [
    "from sklearn.preprocessing import StandardScaler"
   ]
  },
  {
   "cell_type": "markdown",
   "id": "2c196f1a",
   "metadata": {
    "papermill": {
     "duration": 0.015152,
     "end_time": "2024-02-20T02:41:35.970253",
     "exception": false,
     "start_time": "2024-02-20T02:41:35.955101",
     "status": "completed"
    },
    "tags": []
   },
   "source": [
    "#### Fit transforming train data"
   ]
  },
  {
   "cell_type": "code",
   "execution_count": 15,
   "id": "ec88694c",
   "metadata": {
    "execution": {
     "iopub.execute_input": "2024-02-20T02:41:36.002103Z",
     "iopub.status.busy": "2024-02-20T02:41:36.001239Z",
     "iopub.status.idle": "2024-02-20T02:41:36.011685Z",
     "shell.execute_reply": "2024-02-20T02:41:36.010556Z"
    },
    "papermill": {
     "duration": 0.02947,
     "end_time": "2024-02-20T02:41:36.014466",
     "exception": false,
     "start_time": "2024-02-20T02:41:35.984996",
     "status": "completed"
    },
    "tags": []
   },
   "outputs": [],
   "source": [
    "scaler = StandardScaler()\n",
    "X_train_scaled = scaler.fit_transform(X_train)"
   ]
  },
  {
   "cell_type": "code",
   "execution_count": 16,
   "id": "036288dd",
   "metadata": {
    "execution": {
     "iopub.execute_input": "2024-02-20T02:41:36.045743Z",
     "iopub.status.busy": "2024-02-20T02:41:36.044952Z",
     "iopub.status.idle": "2024-02-20T02:41:36.055392Z",
     "shell.execute_reply": "2024-02-20T02:41:36.054063Z"
    },
    "papermill": {
     "duration": 0.029748,
     "end_time": "2024-02-20T02:41:36.058592",
     "exception": false,
     "start_time": "2024-02-20T02:41:36.028844",
     "status": "completed"
    },
    "tags": []
   },
   "outputs": [
    {
     "data": {
      "text/plain": [
       "array([[ 0.85920374, -0.60169694, -0.52828855,  1.37636821],\n",
       "       [ 0.85920374, -0.12437351, -0.38428307,  1.37636821],\n",
       "       [ 0.85920374, -0.68125085, -0.51230637, -0.72654977],\n",
       "       ...,\n",
       "       [-1.5103613 , -0.99946647,  0.26782405, -0.72654977],\n",
       "       [ 0.85920374,  0.90982727, -0.39127528, -0.72654977],\n",
       "       [ 0.85920374, -0.76080475, -0.51621801, -0.72654977]])"
      ]
     },
     "execution_count": 16,
     "metadata": {},
     "output_type": "execute_result"
    }
   ],
   "source": [
    "X_train_scaled"
   ]
  },
  {
   "cell_type": "markdown",
   "id": "0f920a0c",
   "metadata": {
    "papermill": {
     "duration": 0.014062,
     "end_time": "2024-02-20T02:41:36.087091",
     "exception": false,
     "start_time": "2024-02-20T02:41:36.073029",
     "status": "completed"
    },
    "tags": []
   },
   "source": [
    "#### Fit transform looks similar even though X_train is fit transformed"
   ]
  },
  {
   "cell_type": "code",
   "execution_count": 17,
   "id": "67d7ec23",
   "metadata": {
    "execution": {
     "iopub.execute_input": "2024-02-20T02:41:36.118707Z",
     "iopub.status.busy": "2024-02-20T02:41:36.118194Z",
     "iopub.status.idle": "2024-02-20T02:41:36.132191Z",
     "shell.execute_reply": "2024-02-20T02:41:36.130994Z"
    },
    "papermill": {
     "duration": 0.033247,
     "end_time": "2024-02-20T02:41:36.134984",
     "exception": false,
     "start_time": "2024-02-20T02:41:36.101737",
     "status": "completed"
    },
    "tags": []
   },
   "outputs": [
    {
     "data": {
      "text/html": [
       "<div>\n",
       "<style scoped>\n",
       "    .dataframe tbody tr th:only-of-type {\n",
       "        vertical-align: middle;\n",
       "    }\n",
       "\n",
       "    .dataframe tbody tr th {\n",
       "        vertical-align: top;\n",
       "    }\n",
       "\n",
       "    .dataframe thead th {\n",
       "        text-align: right;\n",
       "    }\n",
       "</style>\n",
       "<table border=\"1\" class=\"dataframe\">\n",
       "  <thead>\n",
       "    <tr style=\"text-align: right;\">\n",
       "      <th></th>\n",
       "      <th>Pclass</th>\n",
       "      <th>Age</th>\n",
       "      <th>Fare</th>\n",
       "      <th>Sex</th>\n",
       "    </tr>\n",
       "  </thead>\n",
       "  <tbody>\n",
       "    <tr>\n",
       "      <th>1148</th>\n",
       "      <td>3</td>\n",
       "      <td>28.0</td>\n",
       "      <td>8.050</td>\n",
       "      <td>0</td>\n",
       "    </tr>\n",
       "    <tr>\n",
       "      <th>1049</th>\n",
       "      <td>1</td>\n",
       "      <td>42.0</td>\n",
       "      <td>26.550</td>\n",
       "      <td>0</td>\n",
       "    </tr>\n",
       "    <tr>\n",
       "      <th>982</th>\n",
       "      <td>3</td>\n",
       "      <td>28.0</td>\n",
       "      <td>7.775</td>\n",
       "      <td>0</td>\n",
       "    </tr>\n",
       "    <tr>\n",
       "      <th>808</th>\n",
       "      <td>2</td>\n",
       "      <td>39.0</td>\n",
       "      <td>13.000</td>\n",
       "      <td>0</td>\n",
       "    </tr>\n",
       "    <tr>\n",
       "      <th>1195</th>\n",
       "      <td>3</td>\n",
       "      <td>28.0</td>\n",
       "      <td>7.750</td>\n",
       "      <td>1</td>\n",
       "    </tr>\n",
       "  </tbody>\n",
       "</table>\n",
       "</div>"
      ],
      "text/plain": [
       "      Pclass   Age    Fare  Sex\n",
       "1148       3  28.0   8.050    0\n",
       "1049       1  42.0  26.550    0\n",
       "982        3  28.0   7.775    0\n",
       "808        2  39.0  13.000    0\n",
       "1195       3  28.0   7.750    1"
      ]
     },
     "execution_count": 17,
     "metadata": {},
     "output_type": "execute_result"
    }
   ],
   "source": [
    "X_test.head()"
   ]
  },
  {
   "cell_type": "markdown",
   "id": "5e71633d",
   "metadata": {
    "papermill": {
     "duration": 0.01491,
     "end_time": "2024-02-20T02:41:36.164618",
     "exception": false,
     "start_time": "2024-02-20T02:41:36.149708",
     "status": "completed"
    },
    "tags": []
   },
   "source": [
    "#### There is no need to fit_transform test data or new data it can be done using transform method fit transform is used above with that formula we can do transform "
   ]
  },
  {
   "cell_type": "code",
   "execution_count": 18,
   "id": "71e57509",
   "metadata": {
    "execution": {
     "iopub.execute_input": "2024-02-20T02:41:36.197428Z",
     "iopub.status.busy": "2024-02-20T02:41:36.196938Z",
     "iopub.status.idle": "2024-02-20T02:41:36.204821Z",
     "shell.execute_reply": "2024-02-20T02:41:36.203309Z"
    },
    "papermill": {
     "duration": 0.027419,
     "end_time": "2024-02-20T02:41:36.207307",
     "exception": false,
     "start_time": "2024-02-20T02:41:36.179888",
     "status": "completed"
    },
    "tags": []
   },
   "outputs": [],
   "source": [
    "X_test_scaled = scaler.transform(X_test)"
   ]
  },
  {
   "cell_type": "code",
   "execution_count": 19,
   "id": "f83269bf",
   "metadata": {
    "execution": {
     "iopub.execute_input": "2024-02-20T02:41:36.242196Z",
     "iopub.status.busy": "2024-02-20T02:41:36.241728Z",
     "iopub.status.idle": "2024-02-20T02:41:36.249599Z",
     "shell.execute_reply": "2024-02-20T02:41:36.248421Z"
    },
    "papermill": {
     "duration": 0.027849,
     "end_time": "2024-02-20T02:41:36.252048",
     "exception": false,
     "start_time": "2024-02-20T02:41:36.224199",
     "status": "completed"
    },
    "tags": []
   },
   "outputs": [
    {
     "data": {
      "text/plain": [
       "array([[ 0.85920374, -0.12437351, -0.51230637, -0.72654977],\n",
       "       [-1.5103613 ,  0.98938117, -0.14271833, -0.72654977],\n",
       "       [ 0.85920374, -0.12437351, -0.51780024, -0.72654977],\n",
       "       ...,\n",
       "       [ 0.85920374,  0.07451126, -0.51230637, -0.72654977],\n",
       "       [ 0.85920374, -0.91991256, -0.51230637,  1.37636821],\n",
       "       [ 0.85920374,  0.75071946, -0.09127567,  1.37636821]])"
      ]
     },
     "execution_count": 19,
     "metadata": {},
     "output_type": "execute_result"
    }
   ],
   "source": [
    "X_test_scaled"
   ]
  },
  {
   "cell_type": "markdown",
   "id": "4e3f303b",
   "metadata": {
    "papermill": {
     "duration": 0.01529,
     "end_time": "2024-02-20T02:41:36.282383",
     "exception": false,
     "start_time": "2024-02-20T02:41:36.267093",
     "status": "completed"
    },
    "tags": []
   },
   "source": [
    "#### Importing model"
   ]
  },
  {
   "cell_type": "code",
   "execution_count": 20,
   "id": "f3297d50",
   "metadata": {
    "execution": {
     "iopub.execute_input": "2024-02-20T02:41:36.314893Z",
     "iopub.status.busy": "2024-02-20T02:41:36.314371Z",
     "iopub.status.idle": "2024-02-20T02:41:36.439912Z",
     "shell.execute_reply": "2024-02-20T02:41:36.438707Z"
    },
    "papermill": {
     "duration": 0.145627,
     "end_time": "2024-02-20T02:41:36.443150",
     "exception": false,
     "start_time": "2024-02-20T02:41:36.297523",
     "status": "completed"
    },
    "tags": []
   },
   "outputs": [],
   "source": [
    "from sklearn.linear_model import LogisticRegression\n",
    "classification = LogisticRegression()"
   ]
  },
  {
   "cell_type": "markdown",
   "id": "b6656163",
   "metadata": {
    "papermill": {
     "duration": 0.014371,
     "end_time": "2024-02-20T02:41:36.472573",
     "exception": false,
     "start_time": "2024-02-20T02:41:36.458202",
     "status": "completed"
    },
    "tags": []
   },
   "source": [
    "#### trainning model"
   ]
  },
  {
   "cell_type": "code",
   "execution_count": 21,
   "id": "3a3dd0f4",
   "metadata": {
    "execution": {
     "iopub.execute_input": "2024-02-20T02:41:36.504729Z",
     "iopub.status.busy": "2024-02-20T02:41:36.503835Z",
     "iopub.status.idle": "2024-02-20T02:41:36.529769Z",
     "shell.execute_reply": "2024-02-20T02:41:36.528741Z"
    },
    "papermill": {
     "duration": 0.044906,
     "end_time": "2024-02-20T02:41:36.532350",
     "exception": false,
     "start_time": "2024-02-20T02:41:36.487444",
     "status": "completed"
    },
    "tags": []
   },
   "outputs": [
    {
     "data": {
      "text/html": [
       "<style>#sk-container-id-1 {color: black;background-color: white;}#sk-container-id-1 pre{padding: 0;}#sk-container-id-1 div.sk-toggleable {background-color: white;}#sk-container-id-1 label.sk-toggleable__label {cursor: pointer;display: block;width: 100%;margin-bottom: 0;padding: 0.3em;box-sizing: border-box;text-align: center;}#sk-container-id-1 label.sk-toggleable__label-arrow:before {content: \"▸\";float: left;margin-right: 0.25em;color: #696969;}#sk-container-id-1 label.sk-toggleable__label-arrow:hover:before {color: black;}#sk-container-id-1 div.sk-estimator:hover label.sk-toggleable__label-arrow:before {color: black;}#sk-container-id-1 div.sk-toggleable__content {max-height: 0;max-width: 0;overflow: hidden;text-align: left;background-color: #f0f8ff;}#sk-container-id-1 div.sk-toggleable__content pre {margin: 0.2em;color: black;border-radius: 0.25em;background-color: #f0f8ff;}#sk-container-id-1 input.sk-toggleable__control:checked~div.sk-toggleable__content {max-height: 200px;max-width: 100%;overflow: auto;}#sk-container-id-1 input.sk-toggleable__control:checked~label.sk-toggleable__label-arrow:before {content: \"▾\";}#sk-container-id-1 div.sk-estimator input.sk-toggleable__control:checked~label.sk-toggleable__label {background-color: #d4ebff;}#sk-container-id-1 div.sk-label input.sk-toggleable__control:checked~label.sk-toggleable__label {background-color: #d4ebff;}#sk-container-id-1 input.sk-hidden--visually {border: 0;clip: rect(1px 1px 1px 1px);clip: rect(1px, 1px, 1px, 1px);height: 1px;margin: -1px;overflow: hidden;padding: 0;position: absolute;width: 1px;}#sk-container-id-1 div.sk-estimator {font-family: monospace;background-color: #f0f8ff;border: 1px dotted black;border-radius: 0.25em;box-sizing: border-box;margin-bottom: 0.5em;}#sk-container-id-1 div.sk-estimator:hover {background-color: #d4ebff;}#sk-container-id-1 div.sk-parallel-item::after {content: \"\";width: 100%;border-bottom: 1px solid gray;flex-grow: 1;}#sk-container-id-1 div.sk-label:hover label.sk-toggleable__label {background-color: #d4ebff;}#sk-container-id-1 div.sk-serial::before {content: \"\";position: absolute;border-left: 1px solid gray;box-sizing: border-box;top: 0;bottom: 0;left: 50%;z-index: 0;}#sk-container-id-1 div.sk-serial {display: flex;flex-direction: column;align-items: center;background-color: white;padding-right: 0.2em;padding-left: 0.2em;position: relative;}#sk-container-id-1 div.sk-item {position: relative;z-index: 1;}#sk-container-id-1 div.sk-parallel {display: flex;align-items: stretch;justify-content: center;background-color: white;position: relative;}#sk-container-id-1 div.sk-item::before, #sk-container-id-1 div.sk-parallel-item::before {content: \"\";position: absolute;border-left: 1px solid gray;box-sizing: border-box;top: 0;bottom: 0;left: 50%;z-index: -1;}#sk-container-id-1 div.sk-parallel-item {display: flex;flex-direction: column;z-index: 1;position: relative;background-color: white;}#sk-container-id-1 div.sk-parallel-item:first-child::after {align-self: flex-end;width: 50%;}#sk-container-id-1 div.sk-parallel-item:last-child::after {align-self: flex-start;width: 50%;}#sk-container-id-1 div.sk-parallel-item:only-child::after {width: 0;}#sk-container-id-1 div.sk-dashed-wrapped {border: 1px dashed gray;margin: 0 0.4em 0.5em 0.4em;box-sizing: border-box;padding-bottom: 0.4em;background-color: white;}#sk-container-id-1 div.sk-label label {font-family: monospace;font-weight: bold;display: inline-block;line-height: 1.2em;}#sk-container-id-1 div.sk-label-container {text-align: center;}#sk-container-id-1 div.sk-container {/* jupyter's `normalize.less` sets `[hidden] { display: none; }` but bootstrap.min.css set `[hidden] { display: none !important; }` so we also need the `!important` here to be able to override the default hidden behavior on the sphinx rendered scikit-learn.org. See: https://github.com/scikit-learn/scikit-learn/issues/21755 */display: inline-block !important;position: relative;}#sk-container-id-1 div.sk-text-repr-fallback {display: none;}</style><div id=\"sk-container-id-1\" class=\"sk-top-container\"><div class=\"sk-text-repr-fallback\"><pre>LogisticRegression()</pre><b>In a Jupyter environment, please rerun this cell to show the HTML representation or trust the notebook. <br />On GitHub, the HTML representation is unable to render, please try loading this page with nbviewer.org.</b></div><div class=\"sk-container\" hidden><div class=\"sk-item\"><div class=\"sk-estimator sk-toggleable\"><input class=\"sk-toggleable__control sk-hidden--visually\" id=\"sk-estimator-id-1\" type=\"checkbox\" checked><label for=\"sk-estimator-id-1\" class=\"sk-toggleable__label sk-toggleable__label-arrow\">LogisticRegression</label><div class=\"sk-toggleable__content\"><pre>LogisticRegression()</pre></div></div></div></div></div>"
      ],
      "text/plain": [
       "LogisticRegression()"
      ]
     },
     "execution_count": 21,
     "metadata": {},
     "output_type": "execute_result"
    }
   ],
   "source": [
    "classification.fit(X_train_scaled, y_train)"
   ]
  },
  {
   "cell_type": "markdown",
   "id": "ba6e71f0",
   "metadata": {
    "papermill": {
     "duration": 0.01536,
     "end_time": "2024-02-20T02:41:36.563265",
     "exception": false,
     "start_time": "2024-02-20T02:41:36.547905",
     "status": "completed"
    },
    "tags": []
   },
   "source": [
    "#### predicting output"
   ]
  },
  {
   "cell_type": "code",
   "execution_count": 22,
   "id": "a40fadc9",
   "metadata": {
    "execution": {
     "iopub.execute_input": "2024-02-20T02:41:36.596559Z",
     "iopub.status.busy": "2024-02-20T02:41:36.595568Z",
     "iopub.status.idle": "2024-02-20T02:41:36.601258Z",
     "shell.execute_reply": "2024-02-20T02:41:36.600411Z"
    },
    "papermill": {
     "duration": 0.024967,
     "end_time": "2024-02-20T02:41:36.603492",
     "exception": false,
     "start_time": "2024-02-20T02:41:36.578525",
     "status": "completed"
    },
    "tags": []
   },
   "outputs": [],
   "source": [
    "ypred = classification.predict(X_test_scaled)"
   ]
  },
  {
   "cell_type": "code",
   "execution_count": 23,
   "id": "5e328d57",
   "metadata": {
    "execution": {
     "iopub.execute_input": "2024-02-20T02:41:36.719569Z",
     "iopub.status.busy": "2024-02-20T02:41:36.718381Z",
     "iopub.status.idle": "2024-02-20T02:41:36.729574Z",
     "shell.execute_reply": "2024-02-20T02:41:36.728216Z"
    },
    "papermill": {
     "duration": 0.031289,
     "end_time": "2024-02-20T02:41:36.732530",
     "exception": false,
     "start_time": "2024-02-20T02:41:36.701241",
     "status": "completed"
    },
    "tags": []
   },
   "outputs": [
    {
     "data": {
      "text/plain": [
       "array([0, 0, 0, 0, 0, 0, 0, 1, 0, 0, 0, 0, 0, 1, 0, 1, 0, 0, 0, 0, 0, 0,\n",
       "       0, 0, 0, 0, 0, 0, 0, 0, 0, 1, 0, 0, 0, 0, 0, 0, 0, 0, 0, 0, 0, 0,\n",
       "       0, 0, 0, 0, 0, 1, 0, 1, 0, 0, 1, 0, 0, 0, 0, 0, 0, 0, 1, 0, 1, 0,\n",
       "       1, 0, 0, 0, 0, 0, 0, 0, 0, 0, 0, 0, 1, 0, 1, 0, 0, 0, 0, 0, 0, 0,\n",
       "       1, 0, 0, 0, 0, 0, 0, 0, 0, 0, 1, 0, 0, 0, 0, 0, 0, 0, 1, 0, 0, 0,\n",
       "       0, 0, 0, 0, 1, 0, 0, 0, 0, 0, 0, 1, 0, 0, 0, 0, 0, 0, 0, 1, 0, 1,\n",
       "       0, 1, 0, 0, 1, 0, 0, 0, 0, 0, 0, 0, 0, 1, 0, 0, 0, 0, 0, 0, 0, 0,\n",
       "       0, 1, 0, 1, 0, 0, 0, 0, 0, 0, 0, 0, 0, 0, 0, 0, 0, 0, 0, 1, 0, 1,\n",
       "       0, 0, 0, 0, 0, 0, 0, 1, 1, 0, 0, 0, 0, 0, 0, 0, 0, 0, 0, 0, 1, 0,\n",
       "       0, 0, 0, 0, 0, 0, 0, 0, 0, 0, 0, 0, 0, 0, 0, 0, 0, 0, 1, 1, 0, 0,\n",
       "       0, 0, 0, 0, 0, 0, 0, 0, 0, 0, 1, 0, 0, 1, 1, 0, 1, 0, 1, 0, 0, 0,\n",
       "       0, 0, 0, 0, 0, 0, 0, 0, 0, 0, 0, 1, 0, 0, 0, 0, 0, 0, 1, 1, 0, 0,\n",
       "       0, 0, 0, 0, 1, 0, 0, 0, 0, 0, 0, 0, 0, 0, 0, 1, 0, 0, 0, 0, 0, 0,\n",
       "       0, 0, 0, 0, 0, 0, 0, 0, 1, 0, 0, 1, 0, 0, 1, 1, 0, 0, 0, 1, 0, 0,\n",
       "       0, 0, 0, 0, 0, 0, 0, 0, 1, 0, 0, 0, 0, 1, 0, 1, 1, 0, 0, 0, 1, 0,\n",
       "       1, 0, 0, 0, 0, 0, 0, 0, 0, 1, 0, 0, 0, 0, 0, 0, 0, 0, 0, 0, 0, 0,\n",
       "       0, 0, 0, 0, 1, 1, 0, 0, 0, 0, 0, 0, 1, 0, 0, 0, 0, 0, 0, 0, 0, 0,\n",
       "       0, 0, 0, 0, 0, 0, 0, 0, 0, 0, 0, 0, 1, 0, 1, 0, 0, 0, 1, 0, 0, 0,\n",
       "       0, 0, 0, 0, 0, 0, 0, 0, 0, 1, 0, 0, 0, 0, 1, 0, 0, 0, 0, 1, 1, 1,\n",
       "       1, 0, 0, 0, 0, 0, 0, 1, 0, 0, 0, 0, 0, 0])"
      ]
     },
     "execution_count": 23,
     "metadata": {},
     "output_type": "execute_result"
    }
   ],
   "source": [
    "ypred"
   ]
  },
  {
   "cell_type": "markdown",
   "id": "0e8cc24c",
   "metadata": {
    "papermill": {
     "duration": 0.015274,
     "end_time": "2024-02-20T02:41:36.763527",
     "exception": false,
     "start_time": "2024-02-20T02:41:36.748253",
     "status": "completed"
    },
    "tags": []
   },
   "source": [
    "#### Classification report and Confusion matrix"
   ]
  },
  {
   "cell_type": "code",
   "execution_count": 24,
   "id": "86769b7e",
   "metadata": {
    "execution": {
     "iopub.execute_input": "2024-02-20T02:41:36.797157Z",
     "iopub.status.busy": "2024-02-20T02:41:36.796626Z",
     "iopub.status.idle": "2024-02-20T02:41:36.802189Z",
     "shell.execute_reply": "2024-02-20T02:41:36.800743Z"
    },
    "papermill": {
     "duration": 0.025715,
     "end_time": "2024-02-20T02:41:36.804814",
     "exception": false,
     "start_time": "2024-02-20T02:41:36.779099",
     "status": "completed"
    },
    "tags": []
   },
   "outputs": [],
   "source": [
    "from sklearn.metrics import classification_report, confusion_matrix"
   ]
  },
  {
   "cell_type": "code",
   "execution_count": 25,
   "id": "2406738b",
   "metadata": {
    "execution": {
     "iopub.execute_input": "2024-02-20T02:41:36.840083Z",
     "iopub.status.busy": "2024-02-20T02:41:36.838386Z",
     "iopub.status.idle": "2024-02-20T02:41:36.856907Z",
     "shell.execute_reply": "2024-02-20T02:41:36.855400Z"
    },
    "papermill": {
     "duration": 0.039188,
     "end_time": "2024-02-20T02:41:36.859957",
     "exception": false,
     "start_time": "2024-02-20T02:41:36.820769",
     "status": "completed"
    },
    "tags": []
   },
   "outputs": [
    {
     "name": "stdout",
     "output_type": "stream",
     "text": [
      "              precision    recall  f1-score   support\n",
      "\n",
      "           0       0.81      0.93      0.87       318\n",
      "           1       0.67      0.39      0.49       114\n",
      "\n",
      "    accuracy                           0.79       432\n",
      "   macro avg       0.74      0.66      0.68       432\n",
      "weighted avg       0.77      0.79      0.77       432\n",
      "\n"
     ]
    }
   ],
   "source": [
    "print(classification_report(y_test, ypred))"
   ]
  },
  {
   "cell_type": "code",
   "execution_count": 26,
   "id": "51a86434",
   "metadata": {
    "execution": {
     "iopub.execute_input": "2024-02-20T02:41:36.895363Z",
     "iopub.status.busy": "2024-02-20T02:41:36.894859Z",
     "iopub.status.idle": "2024-02-20T02:41:36.906051Z",
     "shell.execute_reply": "2024-02-20T02:41:36.904735Z"
    },
    "papermill": {
     "duration": 0.031742,
     "end_time": "2024-02-20T02:41:36.908488",
     "exception": false,
     "start_time": "2024-02-20T02:41:36.876746",
     "status": "completed"
    },
    "tags": []
   },
   "outputs": [
    {
     "data": {
      "text/plain": [
       "array([[296,  22],\n",
       "       [ 70,  44]])"
      ]
     },
     "execution_count": 26,
     "metadata": {},
     "output_type": "execute_result"
    }
   ],
   "source": [
    "confusion_matrix(y_test, ypred)"
   ]
  },
  {
   "cell_type": "markdown",
   "id": "590f4bac",
   "metadata": {
    "papermill": {
     "duration": 0.015765,
     "end_time": "2024-02-20T02:41:36.940545",
     "exception": false,
     "start_time": "2024-02-20T02:41:36.924780",
     "status": "completed"
    },
    "tags": []
   },
   "source": [
    "## Here, we got accuracy of 0.79 for Logistic Regression"
   ]
  },
  {
   "cell_type": "code",
   "execution_count": null,
   "id": "5bd23ee4",
   "metadata": {
    "papermill": {
     "duration": 0.015766,
     "end_time": "2024-02-20T02:41:36.972468",
     "exception": false,
     "start_time": "2024-02-20T02:41:36.956702",
     "status": "completed"
    },
    "tags": []
   },
   "outputs": [],
   "source": []
  }
 ],
 "metadata": {
  "kaggle": {
   "accelerator": "none",
   "dataSources": [
    {
     "datasetId": 1275,
     "sourceId": 2286,
     "sourceType": "datasetVersion"
    }
   ],
   "dockerImageVersionId": 30646,
   "isGpuEnabled": false,
   "isInternetEnabled": true,
   "language": "python",
   "sourceType": "notebook"
  },
  "kernelspec": {
   "display_name": "Python 3",
   "language": "python",
   "name": "python3"
  },
  "language_info": {
   "codemirror_mode": {
    "name": "ipython",
    "version": 3
   },
   "file_extension": ".py",
   "mimetype": "text/x-python",
   "name": "python",
   "nbconvert_exporter": "python",
   "pygments_lexer": "ipython3",
   "version": "3.10.13"
  },
  "papermill": {
   "default_parameters": {},
   "duration": 9.235469,
   "end_time": "2024-02-20T02:41:37.913330",
   "environment_variables": {},
   "exception": null,
   "input_path": "__notebook__.ipynb",
   "output_path": "__notebook__.ipynb",
   "parameters": {},
   "start_time": "2024-02-20T02:41:28.677861",
   "version": "2.5.0"
  }
 },
 "nbformat": 4,
 "nbformat_minor": 5
}
