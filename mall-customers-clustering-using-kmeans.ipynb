{
 "cells": [
  {
   "cell_type": "code",
   "execution_count": 1,
   "id": "e79b8c0d",
   "metadata": {
    "_cell_guid": "b1076dfc-b9ad-4769-8c92-a6c4dae69d19",
    "_uuid": "8f2839f25d086af736a60e9eeb907d3b93b6e0e5",
    "execution": {
     "iopub.execute_input": "2024-01-22T06:45:31.313804Z",
     "iopub.status.busy": "2024-01-22T06:45:31.313200Z",
     "iopub.status.idle": "2024-01-22T06:45:31.334246Z",
     "shell.execute_reply": "2024-01-22T06:45:31.333525Z"
    },
    "papermill": {
     "duration": 0.028721,
     "end_time": "2024-01-22T06:45:31.336161",
     "exception": false,
     "start_time": "2024-01-22T06:45:31.307440",
     "status": "completed"
    },
    "tags": []
   },
   "outputs": [
    {
     "name": "stdout",
     "output_type": "stream",
     "text": [
      "/kaggle/input/customer-segmentation-tutorial-in-python/Mall_Customers.csv\n"
     ]
    }
   ],
   "source": [
    "import os\n",
    "for dirname, _, filenames in os.walk('/kaggle/input'):\n",
    "    for filename in filenames:\n",
    "        print(os.path.join(dirname, filename))"
   ]
  },
  {
   "cell_type": "code",
   "execution_count": 2,
   "id": "30ac9281",
   "metadata": {
    "execution": {
     "iopub.execute_input": "2024-01-22T06:45:31.345328Z",
     "iopub.status.busy": "2024-01-22T06:45:31.344955Z",
     "iopub.status.idle": "2024-01-22T06:45:31.665210Z",
     "shell.execute_reply": "2024-01-22T06:45:31.663470Z"
    },
    "papermill": {
     "duration": 0.327689,
     "end_time": "2024-01-22T06:45:31.667658",
     "exception": false,
     "start_time": "2024-01-22T06:45:31.339969",
     "status": "completed"
    },
    "tags": []
   },
   "outputs": [],
   "source": [
    "import numpy as np\n",
    "import pandas as pd\n",
    "import matplotlib.pyplot as plt\n",
    "\n",
    "import warnings\n",
    "warnings.filterwarnings(\"ignore\")"
   ]
  },
  {
   "cell_type": "code",
   "execution_count": 3,
   "id": "bb917d2a",
   "metadata": {
    "execution": {
     "iopub.execute_input": "2024-01-22T06:45:31.677118Z",
     "iopub.status.busy": "2024-01-22T06:45:31.676232Z",
     "iopub.status.idle": "2024-01-22T06:45:31.712234Z",
     "shell.execute_reply": "2024-01-22T06:45:31.710803Z"
    },
    "papermill": {
     "duration": 0.043701,
     "end_time": "2024-01-22T06:45:31.715062",
     "exception": false,
     "start_time": "2024-01-22T06:45:31.671361",
     "status": "completed"
    },
    "tags": []
   },
   "outputs": [
    {
     "data": {
      "text/html": [
       "<div>\n",
       "<style scoped>\n",
       "    .dataframe tbody tr th:only-of-type {\n",
       "        vertical-align: middle;\n",
       "    }\n",
       "\n",
       "    .dataframe tbody tr th {\n",
       "        vertical-align: top;\n",
       "    }\n",
       "\n",
       "    .dataframe thead th {\n",
       "        text-align: right;\n",
       "    }\n",
       "</style>\n",
       "<table border=\"1\" class=\"dataframe\">\n",
       "  <thead>\n",
       "    <tr style=\"text-align: right;\">\n",
       "      <th></th>\n",
       "      <th>CustomerID</th>\n",
       "      <th>Gender</th>\n",
       "      <th>Age</th>\n",
       "      <th>Annual Income (k$)</th>\n",
       "      <th>Spending Score (1-100)</th>\n",
       "    </tr>\n",
       "  </thead>\n",
       "  <tbody>\n",
       "    <tr>\n",
       "      <th>0</th>\n",
       "      <td>1</td>\n",
       "      <td>Male</td>\n",
       "      <td>19</td>\n",
       "      <td>15</td>\n",
       "      <td>39</td>\n",
       "    </tr>\n",
       "    <tr>\n",
       "      <th>1</th>\n",
       "      <td>2</td>\n",
       "      <td>Male</td>\n",
       "      <td>21</td>\n",
       "      <td>15</td>\n",
       "      <td>81</td>\n",
       "    </tr>\n",
       "    <tr>\n",
       "      <th>2</th>\n",
       "      <td>3</td>\n",
       "      <td>Female</td>\n",
       "      <td>20</td>\n",
       "      <td>16</td>\n",
       "      <td>6</td>\n",
       "    </tr>\n",
       "    <tr>\n",
       "      <th>3</th>\n",
       "      <td>4</td>\n",
       "      <td>Female</td>\n",
       "      <td>23</td>\n",
       "      <td>16</td>\n",
       "      <td>77</td>\n",
       "    </tr>\n",
       "    <tr>\n",
       "      <th>4</th>\n",
       "      <td>5</td>\n",
       "      <td>Female</td>\n",
       "      <td>31</td>\n",
       "      <td>17</td>\n",
       "      <td>40</td>\n",
       "    </tr>\n",
       "  </tbody>\n",
       "</table>\n",
       "</div>"
      ],
      "text/plain": [
       "   CustomerID  Gender  Age  Annual Income (k$)  Spending Score (1-100)\n",
       "0           1    Male   19                  15                      39\n",
       "1           2    Male   21                  15                      81\n",
       "2           3  Female   20                  16                       6\n",
       "3           4  Female   23                  16                      77\n",
       "4           5  Female   31                  17                      40"
      ]
     },
     "execution_count": 3,
     "metadata": {},
     "output_type": "execute_result"
    }
   ],
   "source": [
    "data = pd.read_csv(\"/kaggle/input/customer-segmentation-tutorial-in-python/Mall_Customers.csv\")\n",
    "data.head()"
   ]
  },
  {
   "cell_type": "code",
   "execution_count": 4,
   "id": "7b94d76b",
   "metadata": {
    "execution": {
     "iopub.execute_input": "2024-01-22T06:45:31.724196Z",
     "iopub.status.busy": "2024-01-22T06:45:31.723857Z",
     "iopub.status.idle": "2024-01-22T06:45:31.734492Z",
     "shell.execute_reply": "2024-01-22T06:45:31.733207Z"
    },
    "papermill": {
     "duration": 0.017605,
     "end_time": "2024-01-22T06:45:31.736516",
     "exception": false,
     "start_time": "2024-01-22T06:45:31.718911",
     "status": "completed"
    },
    "tags": []
   },
   "outputs": [
    {
     "data": {
      "text/html": [
       "<div>\n",
       "<style scoped>\n",
       "    .dataframe tbody tr th:only-of-type {\n",
       "        vertical-align: middle;\n",
       "    }\n",
       "\n",
       "    .dataframe tbody tr th {\n",
       "        vertical-align: top;\n",
       "    }\n",
       "\n",
       "    .dataframe thead th {\n",
       "        text-align: right;\n",
       "    }\n",
       "</style>\n",
       "<table border=\"1\" class=\"dataframe\">\n",
       "  <thead>\n",
       "    <tr style=\"text-align: right;\">\n",
       "      <th></th>\n",
       "      <th>CID</th>\n",
       "      <th>Gender</th>\n",
       "      <th>Age</th>\n",
       "      <th>AnnIncome</th>\n",
       "      <th>SpendingScore</th>\n",
       "    </tr>\n",
       "  </thead>\n",
       "  <tbody>\n",
       "    <tr>\n",
       "      <th>0</th>\n",
       "      <td>1</td>\n",
       "      <td>Male</td>\n",
       "      <td>19</td>\n",
       "      <td>15</td>\n",
       "      <td>39</td>\n",
       "    </tr>\n",
       "    <tr>\n",
       "      <th>1</th>\n",
       "      <td>2</td>\n",
       "      <td>Male</td>\n",
       "      <td>21</td>\n",
       "      <td>15</td>\n",
       "      <td>81</td>\n",
       "    </tr>\n",
       "    <tr>\n",
       "      <th>2</th>\n",
       "      <td>3</td>\n",
       "      <td>Female</td>\n",
       "      <td>20</td>\n",
       "      <td>16</td>\n",
       "      <td>6</td>\n",
       "    </tr>\n",
       "    <tr>\n",
       "      <th>3</th>\n",
       "      <td>4</td>\n",
       "      <td>Female</td>\n",
       "      <td>23</td>\n",
       "      <td>16</td>\n",
       "      <td>77</td>\n",
       "    </tr>\n",
       "    <tr>\n",
       "      <th>4</th>\n",
       "      <td>5</td>\n",
       "      <td>Female</td>\n",
       "      <td>31</td>\n",
       "      <td>17</td>\n",
       "      <td>40</td>\n",
       "    </tr>\n",
       "  </tbody>\n",
       "</table>\n",
       "</div>"
      ],
      "text/plain": [
       "   CID  Gender  Age  AnnIncome  SpendingScore\n",
       "0    1    Male   19         15             39\n",
       "1    2    Male   21         15             81\n",
       "2    3  Female   20         16              6\n",
       "3    4  Female   23         16             77\n",
       "4    5  Female   31         17             40"
      ]
     },
     "execution_count": 4,
     "metadata": {},
     "output_type": "execute_result"
    }
   ],
   "source": [
    "data.columns = [\"CID\",\"Gender\",\"Age\",\"AnnIncome\",\"SpendingScore\"]\n",
    "data.head()"
   ]
  },
  {
   "cell_type": "code",
   "execution_count": 5,
   "id": "456be202",
   "metadata": {
    "execution": {
     "iopub.execute_input": "2024-01-22T06:45:31.745792Z",
     "iopub.status.busy": "2024-01-22T06:45:31.745435Z",
     "iopub.status.idle": "2024-01-22T06:45:31.760172Z",
     "shell.execute_reply": "2024-01-22T06:45:31.758900Z"
    },
    "papermill": {
     "duration": 0.021736,
     "end_time": "2024-01-22T06:45:31.762143",
     "exception": false,
     "start_time": "2024-01-22T06:45:31.740407",
     "status": "completed"
    },
    "tags": []
   },
   "outputs": [
    {
     "data": {
      "text/html": [
       "<div>\n",
       "<style scoped>\n",
       "    .dataframe tbody tr th:only-of-type {\n",
       "        vertical-align: middle;\n",
       "    }\n",
       "\n",
       "    .dataframe tbody tr th {\n",
       "        vertical-align: top;\n",
       "    }\n",
       "\n",
       "    .dataframe thead th {\n",
       "        text-align: right;\n",
       "    }\n",
       "</style>\n",
       "<table border=\"1\" class=\"dataframe\">\n",
       "  <thead>\n",
       "    <tr style=\"text-align: right;\">\n",
       "      <th></th>\n",
       "      <th>AnnIncome</th>\n",
       "      <th>SpendingScore</th>\n",
       "    </tr>\n",
       "  </thead>\n",
       "  <tbody>\n",
       "    <tr>\n",
       "      <th>0</th>\n",
       "      <td>15</td>\n",
       "      <td>39</td>\n",
       "    </tr>\n",
       "    <tr>\n",
       "      <th>1</th>\n",
       "      <td>15</td>\n",
       "      <td>81</td>\n",
       "    </tr>\n",
       "    <tr>\n",
       "      <th>2</th>\n",
       "      <td>16</td>\n",
       "      <td>6</td>\n",
       "    </tr>\n",
       "    <tr>\n",
       "      <th>3</th>\n",
       "      <td>16</td>\n",
       "      <td>77</td>\n",
       "    </tr>\n",
       "    <tr>\n",
       "      <th>4</th>\n",
       "      <td>17</td>\n",
       "      <td>40</td>\n",
       "    </tr>\n",
       "  </tbody>\n",
       "</table>\n",
       "</div>"
      ],
      "text/plain": [
       "   AnnIncome  SpendingScore\n",
       "0         15             39\n",
       "1         15             81\n",
       "2         16              6\n",
       "3         16             77\n",
       "4         17             40"
      ]
     },
     "execution_count": 5,
     "metadata": {},
     "output_type": "execute_result"
    }
   ],
   "source": [
    "df = data.iloc[:,3:]\n",
    "df.head()"
   ]
  },
  {
   "cell_type": "code",
   "execution_count": 6,
   "id": "bdc4685f",
   "metadata": {
    "execution": {
     "iopub.execute_input": "2024-01-22T06:45:31.771719Z",
     "iopub.status.busy": "2024-01-22T06:45:31.771368Z",
     "iopub.status.idle": "2024-01-22T06:45:32.018726Z",
     "shell.execute_reply": "2024-01-22T06:45:32.017604Z"
    },
    "papermill": {
     "duration": 0.254608,
     "end_time": "2024-01-22T06:45:32.020843",
     "exception": false,
     "start_time": "2024-01-22T06:45:31.766235",
     "status": "completed"
    },
    "tags": []
   },
   "outputs": [
    {
     "data": {
      "text/plain": [
       "Text(0, 0.5, 'Spending Score')"
      ]
     },
     "execution_count": 6,
     "metadata": {},
     "output_type": "execute_result"
    },
    {
     "data": {
      "image/png": "[encoded data removed]",
      "text/plain": [
       "<Figure size 640x480 with 1 Axes>"
      ]
     },
     "metadata": {},
     "output_type": "display_data"
    }
   ],
   "source": [
    "plt.scatter(df[\"AnnIncome\"],df[\"SpendingScore\"])\n",
    "plt.xlabel(\"Annual Income\")\n",
    "plt.ylabel(\"Spending Score\")"
   ]
  },
  {
   "cell_type": "code",
   "execution_count": 7,
   "id": "ba4ecb4f",
   "metadata": {
    "execution": {
     "iopub.execute_input": "2024-01-22T06:45:32.031615Z",
     "iopub.status.busy": "2024-01-22T06:45:32.031213Z",
     "iopub.status.idle": "2024-01-22T06:45:33.653122Z",
     "shell.execute_reply": "2024-01-22T06:45:33.652086Z"
    },
    "papermill": {
     "duration": 1.630138,
     "end_time": "2024-01-22T06:45:33.655511",
     "exception": false,
     "start_time": "2024-01-22T06:45:32.025373",
     "status": "completed"
    },
    "tags": []
   },
   "outputs": [],
   "source": [
    "from sklearn.cluster import KMeans"
   ]
  },
  {
   "cell_type": "code",
   "execution_count": 8,
   "id": "52300f5c",
   "metadata": {
    "execution": {
     "iopub.execute_input": "2024-01-22T06:45:33.666535Z",
     "iopub.status.busy": "2024-01-22T06:45:33.666192Z",
     "iopub.status.idle": "2024-01-22T06:45:34.118083Z",
     "shell.execute_reply": "2024-01-22T06:45:34.117371Z"
    },
    "papermill": {
     "duration": 0.459756,
     "end_time": "2024-01-22T06:45:34.120030",
     "exception": false,
     "start_time": "2024-01-22T06:45:33.660274",
     "status": "completed"
    },
    "tags": []
   },
   "outputs": [
    {
     "name": "stdout",
     "output_type": "stream",
     "text": [
      "WCSS : \n",
      " [269981.28, 183499.07470288622, 106348.37306211119, 73679.78903948834, 44448.45544793371, 37271.8862365895, 30227.606513152015, 25022.485004530354, 21850.165282585636, 19746.911957660894, 17739.03092959672, 16388.84416926803, 14334.69815904816, 12863.252705627707, 12266.964501494676, 10803.574544315334, 10180.318927386958, 9438.321011216092]\n"
     ]
    }
   ],
   "source": [
    "wcss = []\n",
    "for i in range(1,19):\n",
    "    model = KMeans(n_clusters = i)\n",
    "    model.fit(df)\n",
    "    wcss.append(model.inertia_)\n",
    "    \n",
    "print(\"WCSS : \\n\",wcss)"
   ]
  },
  {
   "cell_type": "code",
   "execution_count": 9,
   "id": "41a046e4",
   "metadata": {
    "execution": {
     "iopub.execute_input": "2024-01-22T06:45:34.131251Z",
     "iopub.status.busy": "2024-01-22T06:45:34.130690Z",
     "iopub.status.idle": "2024-01-22T06:45:34.357266Z",
     "shell.execute_reply": "2024-01-22T06:45:34.356293Z"
    },
    "papermill": {
     "duration": 0.234154,
     "end_time": "2024-01-22T06:45:34.359029",
     "exception": false,
     "start_time": "2024-01-22T06:45:34.124875",
     "status": "completed"
    },
    "tags": []
   },
   "outputs": [
    {
     "data": {
      "image/png": "[encoded data removed]",
      "text/plain": [
       "<Figure size 640x480 with 1 Axes>"
      ]
     },
     "metadata": {},
     "output_type": "display_data"
    }
   ],
   "source": [
    "plt.plot(list(range(1,19)),wcss)\n",
    "plt.title(\"ELbow Method\")\n",
    "plt.xlabel(\"Number of Clusters\")\n",
    "plt.ylabel(\"WCSS\")\n",
    "plt.grid()"
   ]
  },
  {
   "cell_type": "code",
   "execution_count": 10,
   "id": "f79f62fb",
   "metadata": {
    "execution": {
     "iopub.execute_input": "2024-01-22T06:45:34.370675Z",
     "iopub.status.busy": "2024-01-22T06:45:34.370297Z",
     "iopub.status.idle": "2024-01-22T06:45:34.400963Z",
     "shell.execute_reply": "2024-01-22T06:45:34.400236Z"
    },
    "papermill": {
     "duration": 0.039009,
     "end_time": "2024-01-22T06:45:34.403077",
     "exception": false,
     "start_time": "2024-01-22T06:45:34.364068",
     "status": "completed"
    },
    "tags": []
   },
   "outputs": [
    {
     "data": {
      "text/html": [
       "<style>#sk-container-id-1 {color: black;background-color: white;}#sk-container-id-1 pre{padding: 0;}#sk-container-id-1 div.sk-toggleable {background-color: white;}#sk-container-id-1 label.sk-toggleable__label {cursor: pointer;display: block;width: 100%;margin-bottom: 0;padding: 0.3em;box-sizing: border-box;text-align: center;}#sk-container-id-1 label.sk-toggleable__label-arrow:before {content: \"▸\";float: left;margin-right: 0.25em;color: #696969;}#sk-container-id-1 label.sk-toggleable__label-arrow:hover:before {color: black;}#sk-container-id-1 div.sk-estimator:hover label.sk-toggleable__label-arrow:before {color: black;}#sk-container-id-1 div.sk-toggleable__content {max-height: 0;max-width: 0;overflow: hidden;text-align: left;background-color: #f0f8ff;}#sk-container-id-1 div.sk-toggleable__content pre {margin: 0.2em;color: black;border-radius: 0.25em;background-color: #f0f8ff;}#sk-container-id-1 input.sk-toggleable__control:checked~div.sk-toggleable__content {max-height: 200px;max-width: 100%;overflow: auto;}#sk-container-id-1 input.sk-toggleable__control:checked~label.sk-toggleable__label-arrow:before {content: \"▾\";}#sk-container-id-1 div.sk-estimator input.sk-toggleable__control:checked~label.sk-toggleable__label {background-color: #d4ebff;}#sk-container-id-1 div.sk-label input.sk-toggleable__control:checked~label.sk-toggleable__label {background-color: #d4ebff;}#sk-container-id-1 input.sk-hidden--visually {border: 0;clip: rect(1px 1px 1px 1px);clip: rect(1px, 1px, 1px, 1px);height: 1px;margin: -1px;overflow: hidden;padding: 0;position: absolute;width: 1px;}#sk-container-id-1 div.sk-estimator {font-family: monospace;background-color: #f0f8ff;border: 1px dotted black;border-radius: 0.25em;box-sizing: border-box;margin-bottom: 0.5em;}#sk-container-id-1 div.sk-estimator:hover {background-color: #d4ebff;}#sk-container-id-1 div.sk-parallel-item::after {content: \"\";width: 100%;border-bottom: 1px solid gray;flex-grow: 1;}#sk-container-id-1 div.sk-label:hover label.sk-toggleable__label {background-color: #d4ebff;}#sk-container-id-1 div.sk-serial::before {content: \"\";position: absolute;border-left: 1px solid gray;box-sizing: border-box;top: 0;bottom: 0;left: 50%;z-index: 0;}#sk-container-id-1 div.sk-serial {display: flex;flex-direction: column;align-items: center;background-color: white;padding-right: 0.2em;padding-left: 0.2em;position: relative;}#sk-container-id-1 div.sk-item {position: relative;z-index: 1;}#sk-container-id-1 div.sk-parallel {display: flex;align-items: stretch;justify-content: center;background-color: white;position: relative;}#sk-container-id-1 div.sk-item::before, #sk-container-id-1 div.sk-parallel-item::before {content: \"\";position: absolute;border-left: 1px solid gray;box-sizing: border-box;top: 0;bottom: 0;left: 50%;z-index: -1;}#sk-container-id-1 div.sk-parallel-item {display: flex;flex-direction: column;z-index: 1;position: relative;background-color: white;}#sk-container-id-1 div.sk-parallel-item:first-child::after {align-self: flex-end;width: 50%;}#sk-container-id-1 div.sk-parallel-item:last-child::after {align-self: flex-start;width: 50%;}#sk-container-id-1 div.sk-parallel-item:only-child::after {width: 0;}#sk-container-id-1 div.sk-dashed-wrapped {border: 1px dashed gray;margin: 0 0.4em 0.5em 0.4em;box-sizing: border-box;padding-bottom: 0.4em;background-color: white;}#sk-container-id-1 div.sk-label label {font-family: monospace;font-weight: bold;display: inline-block;line-height: 1.2em;}#sk-container-id-1 div.sk-label-container {text-align: center;}#sk-container-id-1 div.sk-container {/* jupyter's `normalize.less` sets `[hidden] { display: none; }` but bootstrap.min.css set `[hidden] { display: none !important; }` so we also need the `!important` here to be able to override the default hidden behavior on the sphinx rendered scikit-learn.org. See: https://github.com/scikit-learn/scikit-learn/issues/21755 */display: inline-block !important;position: relative;}#sk-container-id-1 div.sk-text-repr-fallback {display: none;}</style><div id=\"sk-container-id-1\" class=\"sk-top-container\"><div class=\"sk-text-repr-fallback\"><pre>KMeans(n_clusters=5)</pre><b>In a Jupyter environment, please rerun this cell to show the HTML representation or trust the notebook. <br />On GitHub, the HTML representation is unable to render, please try loading this page with nbviewer.org.</b></div><div class=\"sk-container\" hidden><div class=\"sk-item\"><div class=\"sk-estimator sk-toggleable\"><input class=\"sk-toggleable__control sk-hidden--visually\" id=\"sk-estimator-id-1\" type=\"checkbox\" checked><label for=\"sk-estimator-id-1\" class=\"sk-toggleable__label sk-toggleable__label-arrow\">KMeans</label><div class=\"sk-toggleable__content\"><pre>KMeans(n_clusters=5)</pre></div></div></div></div></div>"
      ],
      "text/plain": [
       "KMeans(n_clusters=5)"
      ]
     },
     "execution_count": 10,
     "metadata": {},
     "output_type": "execute_result"
    }
   ],
   "source": [
    "k5 = KMeans(n_clusters=5)\n",
    "k5.fit(df)"
   ]
  },
  {
   "cell_type": "code",
   "execution_count": 11,
   "id": "e67daec7",
   "metadata": {
    "execution": {
     "iopub.execute_input": "2024-01-22T06:45:34.415935Z",
     "iopub.status.busy": "2024-01-22T06:45:34.414965Z",
     "iopub.status.idle": "2024-01-22T06:45:34.423772Z",
     "shell.execute_reply": "2024-01-22T06:45:34.422781Z"
    },
    "papermill": {
     "duration": 0.016658,
     "end_time": "2024-01-22T06:45:34.425726",
     "exception": false,
     "start_time": "2024-01-22T06:45:34.409068",
     "status": "completed"
    },
    "tags": []
   },
   "outputs": [
    {
     "name": "stdout",
     "output_type": "stream",
     "text": [
      "[0 4 0 4 0 4 0 4 0 4 0 4 0 4 0 4 0 4 0 4 0 4 0 4 0 4 0 4 0 4 0 4 0 4 0 4 0\n",
      " 4 0 4 0 4 0 1 0 4 1 1 1 1 1 1 1 1 1 1 1 1 1 1 1 1 1 1 1 1 1 1 1 1 1 1 1 1\n",
      " 1 1 1 1 1 1 1 1 1 1 1 1 1 1 1 1 1 1 1 1 1 1 1 1 1 1 1 1 1 1 1 1 1 1 1 1 1\n",
      " 1 1 1 1 1 1 1 1 1 1 1 1 2 3 2 1 2 3 2 3 2 1 2 3 2 3 2 3 2 3 2 1 2 3 2 3 2\n",
      " 3 2 3 2 3 2 3 2 3 2 3 2 3 2 3 2 3 2 3 2 3 2 3 2 3 2 3 2 3 2 3 2 3 2 3 2 3\n",
      " 2 3 2 3 2 3 2 3 2 3 2 3 2 3 2]\n"
     ]
    }
   ],
   "source": [
    "ypred = k5.predict(df)\n",
    "print(ypred)"
   ]
  },
  {
   "cell_type": "code",
   "execution_count": 12,
   "id": "2d3baead",
   "metadata": {
    "execution": {
     "iopub.execute_input": "2024-01-22T06:45:34.438446Z",
     "iopub.status.busy": "2024-01-22T06:45:34.437371Z",
     "iopub.status.idle": "2024-01-22T06:45:34.444055Z",
     "shell.execute_reply": "2024-01-22T06:45:34.442536Z"
    },
    "papermill": {
     "duration": 0.015636,
     "end_time": "2024-01-22T06:45:34.446720",
     "exception": false,
     "start_time": "2024-01-22T06:45:34.431084",
     "status": "completed"
    },
    "tags": []
   },
   "outputs": [
    {
     "name": "stdout",
     "output_type": "stream",
     "text": [
      "[[26.30434783 20.91304348]\n",
      " [55.2962963  49.51851852]\n",
      " [86.53846154 82.12820513]\n",
      " [88.2        17.11428571]\n",
      " [25.72727273 79.36363636]]\n"
     ]
    }
   ],
   "source": [
    "centers = k5.cluster_centers_\n",
    "print(centers)"
   ]
  },
  {
   "cell_type": "code",
   "execution_count": 13,
   "id": "0d3b7b05",
   "metadata": {
    "execution": {
     "iopub.execute_input": "2024-01-22T06:45:34.458773Z",
     "iopub.status.busy": "2024-01-22T06:45:34.458403Z",
     "iopub.status.idle": "2024-01-22T06:45:34.637032Z",
     "shell.execute_reply": "2024-01-22T06:45:34.635872Z"
    },
    "papermill": {
     "duration": 0.187726,
     "end_time": "2024-01-22T06:45:34.639899",
     "exception": false,
     "start_time": "2024-01-22T06:45:34.452173",
     "status": "completed"
    },
    "tags": []
   },
   "outputs": [
    {
     "data": {
      "image/png": "[encoded data removed]",
      "text/plain": [
       "<Figure size 640x480 with 1 Axes>"
      ]
     },
     "metadata": {},
     "output_type": "display_data"
    }
   ],
   "source": [
    "plt.scatter(df[\"AnnIncome\"],df[\"SpendingScore\"],c=ypred)\n",
    "plt.scatter(centers[:,0:1],centers[:,1:],color='red',marker=\"*\",s=50)\n",
    "plt.xlabel(\"Annual Income\")\n",
    "plt.ylabel(\"Spending Score\")\n",
    "plt.show()"
   ]
  },
  {
   "cell_type": "code",
   "execution_count": null,
   "id": "bd1290cc",
   "metadata": {
    "papermill": {
     "duration": 0.00552,
     "end_time": "2024-01-22T06:45:34.651669",
     "exception": false,
     "start_time": "2024-01-22T06:45:34.646149",
     "status": "completed"
    },
    "tags": []
   },
   "outputs": [],
   "source": []
  }
 ],
 "metadata": {
  "kaggle": {
   "accelerator": "none",
   "dataSources": [
    {
     "datasetId": 42674,
     "sourceId": 74935,
     "sourceType": "datasetVersion"
    }
   ],
   "dockerImageVersionId": 30635,
   "isGpuEnabled": false,
   "isInternetEnabled": true,
   "language": "python",
   "sourceType": "notebook"
  },
  "kernelspec": {
   "display_name": "Python 3",
   "language": "python",
   "name": "python3"
  },
  "language_info": {
   "codemirror_mode": {
    "name": "ipython",
    "version": 3
   },
   "file_extension": ".py",
   "mimetype": "text/x-python",
   "name": "python",
   "nbconvert_exporter": "python",
   "pygments_lexer": "ipython3",
   "version": "3.10.12"
  },
  "papermill": {
   "default_parameters": {},
   "duration": 6.598154,
   "end_time": "2024-01-22T06:45:35.278470",
   "environment_variables": {},
   "exception": null,
   "input_path": "__notebook__.ipynb",
   "output_path": "__notebook__.ipynb",
   "parameters": {},
   "start_time": "2024-01-22T06:45:28.680316",
   "version": "2.4.0"
  }
 },
 "nbformat": 4,
 "nbformat_minor": 5
}
