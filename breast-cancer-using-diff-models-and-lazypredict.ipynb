{
 "cells": [
  {
   "cell_type": "code",
   "execution_count": 1,
   "id": "cdd459f5",
   "metadata": {
    "_cell_guid": "b1076dfc-b9ad-4769-8c92-a6c4dae69d19",
    "_uuid": "8f2839f25d086af736a60e9eeb907d3b93b6e0e5",
    "execution": {
     "iopub.execute_input": "2024-02-29T13:49:50.746916Z",
     "iopub.status.busy": "2024-02-29T13:49:50.746286Z",
     "iopub.status.idle": "2024-02-29T13:49:50.768704Z",
     "shell.execute_reply": "2024-02-29T13:49:50.767320Z"
    },
    "papermill": {
     "duration": 0.034389,
     "end_time": "2024-02-29T13:49:50.771957",
     "exception": false,
     "start_time": "2024-02-29T13:49:50.737568",
     "status": "completed"
    },
    "tags": []
   },
   "outputs": [
    {
     "name": "stdout",
     "output_type": "stream",
     "text": [
      "/kaggle/input/breast-cancer-dataset/breast-cancer.csv\n"
     ]
    }
   ],
   "source": [
    "import os\n",
    "for dirname, _, filenames in os.walk('/kaggle/input'):\n",
    "    for filename in filenames:\n",
    "        print(os.path.join(dirname, filename))"
   ]
  },
  {
   "cell_type": "markdown",
   "id": "c8097713",
   "metadata": {
    "papermill": {
     "duration": 0.005668,
     "end_time": "2024-02-29T13:49:50.783988",
     "exception": false,
     "start_time": "2024-02-29T13:49:50.778320",
     "status": "completed"
    },
    "tags": []
   },
   "source": [
    "#### installing lazypredict library"
   ]
  },
  {
   "cell_type": "code",
   "execution_count": 2,
   "id": "2146be62",
   "metadata": {
    "execution": {
     "iopub.execute_input": "2024-02-29T13:49:50.798212Z",
     "iopub.status.busy": "2024-02-29T13:49:50.797748Z",
     "iopub.status.idle": "2024-02-29T13:50:08.897679Z",
     "shell.execute_reply": "2024-02-29T13:50:08.896168Z"
    },
    "papermill": {
     "duration": 18.110899,
     "end_time": "2024-02-29T13:50:08.900875",
     "exception": false,
     "start_time": "2024-02-29T13:49:50.789976",
     "status": "completed"
    },
    "tags": []
   },
   "outputs": [
    {
     "name": "stdout",
     "output_type": "stream",
     "text": [
      "Collecting lazypredict\r\n",
      "  Downloading lazypredict-0.2.12-py2.py3-none-any.whl.metadata (12 kB)\r\n",
      "Requirement already satisfied: click in /opt/conda/lib/python3.10/site-packages (from lazypredict) (8.1.7)\r\n",
      "Requirement already satisfied: scikit-learn in /opt/conda/lib/python3.10/site-packages (from lazypredict) (1.2.2)\r\n",
      "Requirement already satisfied: pandas in /opt/conda/lib/python3.10/site-packages (from lazypredict) (2.2.0)\r\n",
      "Requirement already satisfied: tqdm in /opt/conda/lib/python3.10/site-packages (from lazypredict) (4.66.1)\r\n",
      "Requirement already satisfied: joblib in /opt/conda/lib/python3.10/site-packages (from lazypredict) (1.3.2)\r\n",
      "Requirement already satisfied: lightgbm in /opt/conda/lib/python3.10/site-packages (from lazypredict) (4.2.0)\r\n",
      "Requirement already satisfied: xgboost in /opt/conda/lib/python3.10/site-packages (from lazypredict) (2.0.3)\r\n",
      "Requirement already satisfied: numpy in /opt/conda/lib/python3.10/site-packages (from lightgbm->lazypredict) (1.24.4)\r\n",
      "Requirement already satisfied: scipy in /opt/conda/lib/python3.10/site-packages (from lightgbm->lazypredict) (1.11.4)\r\n",
      "Requirement already satisfied: python-dateutil>=2.8.2 in /opt/conda/lib/python3.10/site-packages (from pandas->lazypredict) (2.8.2)\r\n",
      "Requirement already satisfied: pytz>=2020.1 in /opt/conda/lib/python3.10/site-packages (from pandas->lazypredict) (2023.3.post1)\r\n",
      "Requirement already satisfied: tzdata>=2022.7 in /opt/conda/lib/python3.10/site-packages (from pandas->lazypredict) (2023.4)\r\n",
      "Requirement already satisfied: threadpoolctl>=2.0.0 in /opt/conda/lib/python3.10/site-packages (from scikit-learn->lazypredict) (3.2.0)\r\n",
      "Requirement already satisfied: six>=1.5 in /opt/conda/lib/python3.10/site-packages (from python-dateutil>=2.8.2->pandas->lazypredict) (1.16.0)\r\n",
      "Downloading lazypredict-0.2.12-py2.py3-none-any.whl (12 kB)\r\n",
      "Installing collected packages: lazypredict\r\n",
      "Successfully installed lazypredict-0.2.12\r\n"
     ]
    }
   ],
   "source": [
    "!pip install lazypredict"
   ]
  },
  {
   "cell_type": "markdown",
   "id": "c2ee81c1",
   "metadata": {
    "papermill": {
     "duration": 0.006329,
     "end_time": "2024-02-29T13:50:08.914144",
     "exception": false,
     "start_time": "2024-02-29T13:50:08.907815",
     "status": "completed"
    },
    "tags": []
   },
   "source": [
    "#### Importing lazypredict"
   ]
  },
  {
   "cell_type": "code",
   "execution_count": 3,
   "id": "10477e6c",
   "metadata": {
    "execution": {
     "iopub.execute_input": "2024-02-29T13:50:08.930457Z",
     "iopub.status.busy": "2024-02-29T13:50:08.929912Z",
     "iopub.status.idle": "2024-02-29T13:50:14.887115Z",
     "shell.execute_reply": "2024-02-29T13:50:14.886045Z"
    },
    "papermill": {
     "duration": 5.969475,
     "end_time": "2024-02-29T13:50:14.890498",
     "exception": false,
     "start_time": "2024-02-29T13:50:08.921023",
     "status": "completed"
    },
    "tags": []
   },
   "outputs": [],
   "source": [
    "import lazypredict\n",
    "from lazypredict.Supervised import LazyClassifier\n",
    "from sklearn.datasets import load_breast_cancer\n",
    "from sklearn.model_selection import train_test_split"
   ]
  },
  {
   "cell_type": "markdown",
   "id": "3b64b9a0",
   "metadata": {
    "papermill": {
     "duration": 0.006448,
     "end_time": "2024-02-29T13:50:14.903962",
     "exception": false,
     "start_time": "2024-02-29T13:50:14.897514",
     "status": "completed"
    },
    "tags": []
   },
   "source": [
    "#### Loading Dataset"
   ]
  },
  {
   "cell_type": "code",
   "execution_count": 4,
   "id": "894c2e0a",
   "metadata": {
    "execution": {
     "iopub.execute_input": "2024-02-29T13:50:14.921595Z",
     "iopub.status.busy": "2024-02-29T13:50:14.920351Z",
     "iopub.status.idle": "2024-02-29T13:50:14.941158Z",
     "shell.execute_reply": "2024-02-29T13:50:14.939808Z"
    },
    "papermill": {
     "duration": 0.03308,
     "end_time": "2024-02-29T13:50:14.944625",
     "exception": false,
     "start_time": "2024-02-29T13:50:14.911545",
     "status": "completed"
    },
    "tags": []
   },
   "outputs": [],
   "source": [
    "data = load_breast_cancer()\n",
    "X = data.data\n",
    "y = data.target"
   ]
  },
  {
   "cell_type": "markdown",
   "id": "7f09309b",
   "metadata": {
    "papermill": {
     "duration": 0.006469,
     "end_time": "2024-02-29T13:50:14.958178",
     "exception": false,
     "start_time": "2024-02-29T13:50:14.951709",
     "status": "completed"
    },
    "tags": []
   },
   "source": [
    "#### Train Test Split"
   ]
  },
  {
   "cell_type": "code",
   "execution_count": 5,
   "id": "02a52ab1",
   "metadata": {
    "execution": {
     "iopub.execute_input": "2024-02-29T13:50:14.974794Z",
     "iopub.status.busy": "2024-02-29T13:50:14.973677Z",
     "iopub.status.idle": "2024-02-29T13:50:14.985513Z",
     "shell.execute_reply": "2024-02-29T13:50:14.984168Z"
    },
    "papermill": {
     "duration": 0.023331,
     "end_time": "2024-02-29T13:50:14.988325",
     "exception": false,
     "start_time": "2024-02-29T13:50:14.964994",
     "status": "completed"
    },
    "tags": []
   },
   "outputs": [],
   "source": [
    "X_train, X_test, y_train, y_test = train_test_split(X, y, test_size=0.5, random_state=123)"
   ]
  },
  {
   "cell_type": "markdown",
   "id": "0c0f03c1",
   "metadata": {
    "papermill": {
     "duration": 0.007396,
     "end_time": "2024-02-29T13:50:15.002770",
     "exception": false,
     "start_time": "2024-02-29T13:50:14.995374",
     "status": "completed"
    },
    "tags": []
   },
   "source": [
    "#### Initializing Class Object"
   ]
  },
  {
   "cell_type": "code",
   "execution_count": 6,
   "id": "6c8c8743",
   "metadata": {
    "execution": {
     "iopub.execute_input": "2024-02-29T13:50:15.020239Z",
     "iopub.status.busy": "2024-02-29T13:50:15.019718Z",
     "iopub.status.idle": "2024-02-29T13:50:17.118583Z",
     "shell.execute_reply": "2024-02-29T13:50:17.117314Z"
    },
    "papermill": {
     "duration": 2.113711,
     "end_time": "2024-02-29T13:50:17.123847",
     "exception": false,
     "start_time": "2024-02-29T13:50:15.010136",
     "status": "completed"
    },
    "tags": []
   },
   "outputs": [
    {
     "name": "stderr",
     "output_type": "stream",
     "text": [
      "100%|██████████| 29/29 [00:02<00:00, 14.03it/s]"
     ]
    },
    {
     "name": "stdout",
     "output_type": "stream",
     "text": [
      "[LightGBM] [Info] Number of positive: 175, number of negative: 109\n",
      "[LightGBM] [Info] Auto-choosing col-wise multi-threading, the overhead of testing was 0.001343 seconds.\n",
      "You can set `force_col_wise=true` to remove the overhead.\n",
      "[LightGBM] [Info] Total Bins 2830\n",
      "[LightGBM] [Info] Number of data points in the train set: 284, number of used features: 30\n",
      "[LightGBM] [Info] [binary:BoostFromScore]: pavg=0.616197 -> initscore=0.473438\n",
      "[LightGBM] [Info] Start training from score 0.473438\n",
      "[LightGBM] [Warning] No further splits with positive gain, best gain: -inf\n",
      "[LightGBM] [Warning] No further splits with positive gain, best gain: -inf\n",
      "[LightGBM] [Warning] No further splits with positive gain, best gain: -inf\n",
      "[LightGBM] [Warning] No further splits with positive gain, best gain: -inf\n",
      "[LightGBM] [Warning] No further splits with positive gain, best gain: -inf\n",
      "[LightGBM] [Warning] No further splits with positive gain, best gain: -inf\n",
      "[LightGBM] [Warning] No further splits with positive gain, best gain: -inf\n",
      "[LightGBM] [Warning] No further splits with positive gain, best gain: -inf\n",
      "[LightGBM] [Warning] No further splits with positive gain, best gain: -inf\n",
      "[LightGBM] [Warning] No further splits with positive gain, best gain: -inf\n",
      "[LightGBM] [Warning] No further splits with positive gain, best gain: -inf\n",
      "[LightGBM] [Warning] No further splits with positive gain, best gain: -inf\n",
      "[LightGBM] [Warning] No further splits with positive gain, best gain: -inf\n",
      "[LightGBM] [Warning] No further splits with positive gain, best gain: -inf\n",
      "[LightGBM] [Warning] No further splits with positive gain, best gain: -inf\n",
      "[LightGBM] [Warning] No further splits with positive gain, best gain: -inf\n",
      "[LightGBM] [Warning] No further splits with positive gain, best gain: -inf\n",
      "[LightGBM] [Warning] No further splits with positive gain, best gain: -inf\n",
      "[LightGBM] [Warning] No further splits with positive gain, best gain: -inf\n",
      "[LightGBM] [Warning] No further splits with positive gain, best gain: -inf\n",
      "[LightGBM] [Warning] No further splits with positive gain, best gain: -inf\n",
      "[LightGBM] [Warning] No further splits with positive gain, best gain: -inf\n",
      "[LightGBM] [Warning] No further splits with positive gain, best gain: -inf\n",
      "[LightGBM] [Warning] No further splits with positive gain, best gain: -inf\n",
      "[LightGBM] [Warning] No further splits with positive gain, best gain: -inf\n",
      "[LightGBM] [Warning] No further splits with positive gain, best gain: -inf\n",
      "[LightGBM] [Warning] No further splits with positive gain, best gain: -inf\n",
      "[LightGBM] [Warning] No further splits with positive gain, best gain: -inf\n",
      "[LightGBM] [Warning] No further splits with positive gain, best gain: -inf\n",
      "[LightGBM] [Warning] No further splits with positive gain, best gain: -inf\n",
      "[LightGBM] [Warning] No further splits with positive gain, best gain: -inf\n",
      "[LightGBM] [Warning] No further splits with positive gain, best gain: -inf\n",
      "[LightGBM] [Warning] No further splits with positive gain, best gain: -inf\n",
      "[LightGBM] [Warning] No further splits with positive gain, best gain: -inf\n",
      "[LightGBM] [Warning] No further splits with positive gain, best gain: -inf\n",
      "[LightGBM] [Warning] No further splits with positive gain, best gain: -inf\n",
      "[LightGBM] [Warning] No further splits with positive gain, best gain: -inf\n",
      "[LightGBM] [Warning] No further splits with positive gain, best gain: -inf\n",
      "[LightGBM] [Warning] No further splits with positive gain, best gain: -inf\n",
      "[LightGBM] [Warning] No further splits with positive gain, best gain: -inf\n",
      "[LightGBM] [Warning] No further splits with positive gain, best gain: -inf\n",
      "[LightGBM] [Warning] No further splits with positive gain, best gain: -inf\n",
      "[LightGBM] [Warning] No further splits with positive gain, best gain: -inf\n",
      "[LightGBM] [Warning] No further splits with positive gain, best gain: -inf\n",
      "[LightGBM] [Warning] No further splits with positive gain, best gain: -inf\n",
      "[LightGBM] [Warning] No further splits with positive gain, best gain: -inf\n",
      "[LightGBM] [Warning] No further splits with positive gain, best gain: -inf\n",
      "[LightGBM] [Warning] No further splits with positive gain, best gain: -inf\n",
      "[LightGBM] [Warning] No further splits with positive gain, best gain: -inf\n",
      "[LightGBM] [Warning] No further splits with positive gain, best gain: -inf\n",
      "[LightGBM] [Warning] No further splits with positive gain, best gain: -inf\n",
      "[LightGBM] [Warning] No further splits with positive gain, best gain: -inf\n",
      "[LightGBM] [Warning] No further splits with positive gain, best gain: -inf\n",
      "[LightGBM] [Warning] No further splits with positive gain, best gain: -inf\n",
      "[LightGBM] [Warning] No further splits with positive gain, best gain: -inf\n",
      "[LightGBM] [Warning] No further splits with positive gain, best gain: -inf\n",
      "[LightGBM] [Warning] No further splits with positive gain, best gain: -inf\n",
      "[LightGBM] [Warning] No further splits with positive gain, best gain: -inf\n",
      "[LightGBM] [Warning] No further splits with positive gain, best gain: -inf\n",
      "[LightGBM] [Warning] No further splits with positive gain, best gain: -inf\n",
      "[LightGBM] [Warning] No further splits with positive gain, best gain: -inf\n",
      "[LightGBM] [Warning] No further splits with positive gain, best gain: -inf\n",
      "[LightGBM] [Warning] No further splits with positive gain, best gain: -inf\n",
      "[LightGBM] [Warning] No further splits with positive gain, best gain: -inf\n",
      "[LightGBM] [Warning] No further splits with positive gain, best gain: -inf\n",
      "[LightGBM] [Warning] No further splits with positive gain, best gain: -inf\n",
      "[LightGBM] [Warning] No further splits with positive gain, best gain: -inf\n",
      "[LightGBM] [Warning] No further splits with positive gain, best gain: -inf\n",
      "[LightGBM] [Warning] No further splits with positive gain, best gain: -inf\n",
      "[LightGBM] [Warning] No further splits with positive gain, best gain: -inf\n",
      "[LightGBM] [Warning] No further splits with positive gain, best gain: -inf\n",
      "[LightGBM] [Warning] No further splits with positive gain, best gain: -inf\n",
      "[LightGBM] [Warning] No further splits with positive gain, best gain: -inf\n",
      "[LightGBM] [Warning] No further splits with positive gain, best gain: -inf\n",
      "[LightGBM] [Warning] No further splits with positive gain, best gain: -inf\n",
      "[LightGBM] [Warning] No further splits with positive gain, best gain: -inf\n",
      "[LightGBM] [Warning] No further splits with positive gain, best gain: -inf\n",
      "[LightGBM] [Warning] No further splits with positive gain, best gain: -inf\n",
      "[LightGBM] [Warning] No further splits with positive gain, best gain: -inf\n",
      "[LightGBM] [Warning] No further splits with positive gain, best gain: -inf\n",
      "[LightGBM] [Warning] No further splits with positive gain, best gain: -inf\n",
      "[LightGBM] [Warning] No further splits with positive gain, best gain: -inf\n",
      "[LightGBM] [Warning] No further splits with positive gain, best gain: -inf\n",
      "[LightGBM] [Warning] No further splits with positive gain, best gain: -inf\n",
      "[LightGBM] [Warning] No further splits with positive gain, best gain: -inf\n",
      "[LightGBM] [Warning] No further splits with positive gain, best gain: -inf\n",
      "[LightGBM] [Warning] No further splits with positive gain, best gain: -inf\n",
      "[LightGBM] [Warning] No further splits with positive gain, best gain: -inf\n",
      "[LightGBM] [Warning] No further splits with positive gain, best gain: -inf\n",
      "[LightGBM] [Warning] No further splits with positive gain, best gain: -inf\n",
      "[LightGBM] [Warning] No further splits with positive gain, best gain: -inf\n",
      "[LightGBM] [Warning] No further splits with positive gain, best gain: -inf\n",
      "[LightGBM] [Warning] No further splits with positive gain, best gain: -inf\n",
      "[LightGBM] [Warning] No further splits with positive gain, best gain: -inf\n",
      "[LightGBM] [Warning] No further splits with positive gain, best gain: -inf\n",
      "[LightGBM] [Warning] No further splits with positive gain, best gain: -inf\n",
      "[LightGBM] [Warning] No further splits with positive gain, best gain: -inf\n",
      "[LightGBM] [Warning] No further splits with positive gain, best gain: -inf\n",
      "[LightGBM] [Warning] No further splits with positive gain, best gain: -inf\n",
      "[LightGBM] [Warning] No further splits with positive gain, best gain: -inf\n"
     ]
    },
    {
     "name": "stderr",
     "output_type": "stream",
     "text": [
      "\n"
     ]
    }
   ],
   "source": [
    "clf = LazyClassifier(verbose=0, ignore_warnings=True, custom_metric=None)\n",
    "models, predictions = clf.fit(X_train, X_test, y_train, y_test)"
   ]
  },
  {
   "cell_type": "markdown",
   "id": "f286834c",
   "metadata": {
    "papermill": {
     "duration": 0.008627,
     "end_time": "2024-02-29T13:50:17.140829",
     "exception": false,
     "start_time": "2024-02-29T13:50:17.132202",
     "status": "completed"
    },
    "tags": []
   },
   "source": [
    "#### Printing Different models"
   ]
  },
  {
   "cell_type": "code",
   "execution_count": 7,
   "id": "6ec05e4e",
   "metadata": {
    "execution": {
     "iopub.execute_input": "2024-02-29T13:50:17.164357Z",
     "iopub.status.busy": "2024-02-29T13:50:17.161448Z",
     "iopub.status.idle": "2024-02-29T13:50:17.176874Z",
     "shell.execute_reply": "2024-02-29T13:50:17.175669Z"
    },
    "papermill": {
     "duration": 0.03002,
     "end_time": "2024-02-29T13:50:17.179929",
     "exception": false,
     "start_time": "2024-02-29T13:50:17.149909",
     "status": "completed"
    },
    "tags": []
   },
   "outputs": [
    {
     "name": "stdout",
     "output_type": "stream",
     "text": [
      "                               Accuracy  Balanced Accuracy  ROC AUC  F1 Score  \\\n",
      "Model                                                                           \n",
      "LinearSVC                          0.99               0.99     0.99      0.99   \n",
      "Perceptron                         0.99               0.98     0.98      0.99   \n",
      "LogisticRegression                 0.99               0.98     0.98      0.99   \n",
      "XGBClassifier                      0.98               0.98     0.98      0.98   \n",
      "SVC                                0.98               0.98     0.98      0.98   \n",
      "LabelPropagation                   0.98               0.97     0.97      0.98   \n",
      "LabelSpreading                     0.98               0.97     0.97      0.98   \n",
      "BaggingClassifier                  0.97               0.97     0.97      0.97   \n",
      "PassiveAggressiveClassifier        0.98               0.97     0.97      0.98   \n",
      "SGDClassifier                      0.98               0.97     0.97      0.98   \n",
      "RandomForestClassifier             0.97               0.97     0.97      0.97   \n",
      "CalibratedClassifierCV             0.98               0.97     0.97      0.98   \n",
      "LGBMClassifier                     0.97               0.97     0.97      0.97   \n",
      "QuadraticDiscriminantAnalysis      0.96               0.97     0.97      0.97   \n",
      "ExtraTreesClassifier               0.97               0.96     0.96      0.97   \n",
      "RidgeClassifierCV                  0.97               0.96     0.96      0.97   \n",
      "RidgeClassifier                    0.97               0.96     0.96      0.97   \n",
      "AdaBoostClassifier                 0.96               0.96     0.96      0.96   \n",
      "KNeighborsClassifier               0.96               0.96     0.96      0.96   \n",
      "BernoulliNB                        0.95               0.95     0.95      0.95   \n",
      "LinearDiscriminantAnalysis         0.96               0.95     0.95      0.96   \n",
      "GaussianNB                         0.95               0.95     0.95      0.95   \n",
      "NuSVC                              0.95               0.94     0.94      0.95   \n",
      "ExtraTreeClassifier                0.94               0.93     0.93      0.94   \n",
      "NearestCentroid                    0.95               0.93     0.93      0.95   \n",
      "DecisionTreeClassifier             0.93               0.93     0.93      0.93   \n",
      "DummyClassifier                    0.64               0.50     0.50      0.50   \n",
      "\n",
      "                               Time Taken  \n",
      "Model                                      \n",
      "LinearSVC                            0.04  \n",
      "Perceptron                           0.02  \n",
      "LogisticRegression                   0.05  \n",
      "XGBClassifier                        0.14  \n",
      "SVC                                  0.05  \n",
      "LabelPropagation                     0.11  \n",
      "LabelSpreading                       0.12  \n",
      "BaggingClassifier                    0.07  \n",
      "PassiveAggressiveClassifier          0.02  \n",
      "SGDClassifier                        0.04  \n",
      "RandomForestClassifier               0.30  \n",
      "CalibratedClassifierCV               0.06  \n",
      "LGBMClassifier                       0.14  \n",
      "QuadraticDiscriminantAnalysis        0.03  \n",
      "ExtraTreesClassifier                 0.21  \n",
      "RidgeClassifierCV                    0.04  \n",
      "RidgeClassifier                      0.04  \n",
      "AdaBoostClassifier                   0.22  \n",
      "KNeighborsClassifier                 0.09  \n",
      "BernoulliNB                          0.02  \n",
      "LinearDiscriminantAnalysis           0.10  \n",
      "GaussianNB                           0.02  \n",
      "NuSVC                                0.03  \n",
      "ExtraTreeClassifier                  0.02  \n",
      "NearestCentroid                      0.02  \n",
      "DecisionTreeClassifier               0.02  \n",
      "DummyClassifier                      0.02  \n"
     ]
    }
   ],
   "source": [
    "print(models)"
   ]
  },
  {
   "cell_type": "markdown",
   "id": "ff68a106",
   "metadata": {
    "papermill": {
     "duration": 0.008345,
     "end_time": "2024-02-29T13:50:17.198918",
     "exception": false,
     "start_time": "2024-02-29T13:50:17.190573",
     "status": "completed"
    },
    "tags": []
   },
   "source": [
    "### Here linearSVC, Perceptron, LogisticRegression preformed very well with 99 % of accuracy"
   ]
  },
  {
   "cell_type": "markdown",
   "id": "0db7baee",
   "metadata": {
    "papermill": {
     "duration": 0.00829,
     "end_time": "2024-02-29T13:50:17.217380",
     "exception": false,
     "start_time": "2024-02-29T13:50:17.209090",
     "status": "completed"
    },
    "tags": []
   },
   "source": [
    "#### * Models                              Time taken\n",
    "##### * LinearSVC                            0.05  \n",
    "##### * Perceptron                           0.01  \n",
    "##### * LogisticRegression                   0.04"
   ]
  },
  {
   "cell_type": "code",
   "execution_count": null,
   "id": "abe9dfd6",
   "metadata": {
    "papermill": {
     "duration": 0.008114,
     "end_time": "2024-02-29T13:50:17.234711",
     "exception": false,
     "start_time": "2024-02-29T13:50:17.226597",
     "status": "completed"
    },
    "tags": []
   },
   "outputs": [],
   "source": []
  },
  {
   "cell_type": "code",
   "execution_count": null,
   "id": "63958100",
   "metadata": {
    "papermill": {
     "duration": 0.008003,
     "end_time": "2024-02-29T13:50:17.251153",
     "exception": false,
     "start_time": "2024-02-29T13:50:17.243150",
     "status": "completed"
    },
    "tags": []
   },
   "outputs": [],
   "source": []
  }
 ],
 "metadata": {
  "kaggle": {
   "accelerator": "none",
   "dataSources": [
    {
     "datasetId": 1829286,
     "sourceId": 2984728,
     "sourceType": "datasetVersion"
    }
   ],
   "dockerImageVersionId": 30646,
   "isGpuEnabled": false,
   "isInternetEnabled": true,
   "language": "python",
   "sourceType": "notebook"
  },
  "kernelspec": {
   "display_name": "Python 3",
   "language": "python",
   "name": "python3"
  },
  "language_info": {
   "codemirror_mode": {
    "name": "ipython",
    "version": 3
   },
   "file_extension": ".py",
   "mimetype": "text/x-python",
   "name": "python",
   "nbconvert_exporter": "python",
   "pygments_lexer": "ipython3",
   "version": "3.10.13"
  },
  "papermill": {
   "default_parameters": {},
   "duration": 32.423435,
   "end_time": "2024-02-29T13:50:19.551563",
   "environment_variables": {},
   "exception": null,
   "input_path": "__notebook__.ipynb",
   "output_path": "__notebook__.ipynb",
   "parameters": {},
   "start_time": "2024-02-29T13:49:47.128128",
   "version": "2.5.0"
  }
 },
 "nbformat": 4,
 "nbformat_minor": 5
}
