{
 "cells": [
  {
   "cell_type": "code",
   "execution_count": 1,
   "id": "f6903ac2",
   "metadata": {
    "_cell_guid": "b1076dfc-b9ad-4769-8c92-a6c4dae69d19",
    "_uuid": "8f2839f25d086af736a60e9eeb907d3b93b6e0e5",
    "execution": {
     "iopub.execute_input": "2024-02-06T06:44:35.700261Z",
     "iopub.status.busy": "2024-02-06T06:44:35.699495Z",
     "iopub.status.idle": "2024-02-06T06:44:35.718603Z",
     "shell.execute_reply": "2024-02-06T06:44:35.717436Z"
    },
    "papermill": {
     "duration": 0.032361,
     "end_time": "2024-02-06T06:44:35.721262",
     "exception": false,
     "start_time": "2024-02-06T06:44:35.688901",
     "status": "completed"
    },
    "tags": []
   },
   "outputs": [
    {
     "name": "stdout",
     "output_type": "stream",
     "text": [
      "/kaggle/input/customer-segmentation-tutorial-in-python/Mall_Customers.csv\n"
     ]
    }
   ],
   "source": [
    "import os\n",
    "for dirname, _, filenames in os.walk('/kaggle/input'):\n",
    "    for filename in filenames:\n",
    "        print(os.path.join(dirname, filename))"
   ]
  },
  {
   "cell_type": "markdown",
   "id": "83d2dee2",
   "metadata": {
    "papermill": {
     "duration": 0.00873,
     "end_time": "2024-02-06T06:44:35.737845",
     "exception": false,
     "start_time": "2024-02-06T06:44:35.729115",
     "status": "completed"
    },
    "tags": []
   },
   "source": [
    "#### Importing Libraries"
   ]
  },
  {
   "cell_type": "code",
   "execution_count": 2,
   "id": "fb434e74",
   "metadata": {
    "execution": {
     "iopub.execute_input": "2024-02-06T06:44:35.755395Z",
     "iopub.status.busy": "2024-02-06T06:44:35.754681Z",
     "iopub.status.idle": "2024-02-06T06:44:36.786207Z",
     "shell.execute_reply": "2024-02-06T06:44:36.784910Z"
    },
    "papermill": {
     "duration": 1.043671,
     "end_time": "2024-02-06T06:44:36.789026",
     "exception": false,
     "start_time": "2024-02-06T06:44:35.745355",
     "status": "completed"
    },
    "tags": []
   },
   "outputs": [],
   "source": [
    "import numpy as np\n",
    "import pandas as pd"
   ]
  },
  {
   "cell_type": "markdown",
   "id": "86d3f2ec",
   "metadata": {
    "papermill": {
     "duration": 0.007226,
     "end_time": "2024-02-06T06:44:36.804123",
     "exception": false,
     "start_time": "2024-02-06T06:44:36.796897",
     "status": "completed"
    },
    "tags": []
   },
   "source": [
    "#### Reading dataset"
   ]
  },
  {
   "cell_type": "code",
   "execution_count": 3,
   "id": "31529d08",
   "metadata": {
    "execution": {
     "iopub.execute_input": "2024-02-06T06:44:36.821786Z",
     "iopub.status.busy": "2024-02-06T06:44:36.820746Z",
     "iopub.status.idle": "2024-02-06T06:44:36.839583Z",
     "shell.execute_reply": "2024-02-06T06:44:36.837983Z"
    },
    "papermill": {
     "duration": 0.030844,
     "end_time": "2024-02-06T06:44:36.842359",
     "exception": false,
     "start_time": "2024-02-06T06:44:36.811515",
     "status": "completed"
    },
    "tags": []
   },
   "outputs": [],
   "source": [
    "dataset = pd.read_csv(\"/kaggle/input/customer-segmentation-tutorial-in-python/Mall_Customers.csv\")"
   ]
  },
  {
   "cell_type": "code",
   "execution_count": 4,
   "id": "5e41683b",
   "metadata": {
    "execution": {
     "iopub.execute_input": "2024-02-06T06:44:36.860773Z",
     "iopub.status.busy": "2024-02-06T06:44:36.860150Z",
     "iopub.status.idle": "2024-02-06T06:44:36.883605Z",
     "shell.execute_reply": "2024-02-06T06:44:36.882434Z"
    },
    "papermill": {
     "duration": 0.036808,
     "end_time": "2024-02-06T06:44:36.886904",
     "exception": false,
     "start_time": "2024-02-06T06:44:36.850096",
     "status": "completed"
    },
    "tags": []
   },
   "outputs": [
    {
     "data": {
      "text/html": [
       "<div>\n",
       "<style scoped>\n",
       "    .dataframe tbody tr th:only-of-type {\n",
       "        vertical-align: middle;\n",
       "    }\n",
       "\n",
       "    .dataframe tbody tr th {\n",
       "        vertical-align: top;\n",
       "    }\n",
       "\n",
       "    .dataframe thead th {\n",
       "        text-align: right;\n",
       "    }\n",
       "</style>\n",
       "<table border=\"1\" class=\"dataframe\">\n",
       "  <thead>\n",
       "    <tr style=\"text-align: right;\">\n",
       "      <th></th>\n",
       "      <th>CustomerID</th>\n",
       "      <th>Gender</th>\n",
       "      <th>Age</th>\n",
       "      <th>Annual Income (k$)</th>\n",
       "      <th>Spending Score (1-100)</th>\n",
       "    </tr>\n",
       "  </thead>\n",
       "  <tbody>\n",
       "    <tr>\n",
       "      <th>0</th>\n",
       "      <td>1</td>\n",
       "      <td>Male</td>\n",
       "      <td>19</td>\n",
       "      <td>15</td>\n",
       "      <td>39</td>\n",
       "    </tr>\n",
       "    <tr>\n",
       "      <th>1</th>\n",
       "      <td>2</td>\n",
       "      <td>Male</td>\n",
       "      <td>21</td>\n",
       "      <td>15</td>\n",
       "      <td>81</td>\n",
       "    </tr>\n",
       "    <tr>\n",
       "      <th>2</th>\n",
       "      <td>3</td>\n",
       "      <td>Female</td>\n",
       "      <td>20</td>\n",
       "      <td>16</td>\n",
       "      <td>6</td>\n",
       "    </tr>\n",
       "    <tr>\n",
       "      <th>3</th>\n",
       "      <td>4</td>\n",
       "      <td>Female</td>\n",
       "      <td>23</td>\n",
       "      <td>16</td>\n",
       "      <td>77</td>\n",
       "    </tr>\n",
       "    <tr>\n",
       "      <th>4</th>\n",
       "      <td>5</td>\n",
       "      <td>Female</td>\n",
       "      <td>31</td>\n",
       "      <td>17</td>\n",
       "      <td>40</td>\n",
       "    </tr>\n",
       "  </tbody>\n",
       "</table>\n",
       "</div>"
      ],
      "text/plain": [
       "   CustomerID  Gender  Age  Annual Income (k$)  Spending Score (1-100)\n",
       "0           1    Male   19                  15                      39\n",
       "1           2    Male   21                  15                      81\n",
       "2           3  Female   20                  16                       6\n",
       "3           4  Female   23                  16                      77\n",
       "4           5  Female   31                  17                      40"
      ]
     },
     "execution_count": 4,
     "metadata": {},
     "output_type": "execute_result"
    }
   ],
   "source": [
    "dataset.head()"
   ]
  },
  {
   "cell_type": "code",
   "execution_count": 5,
   "id": "2d1e60ff",
   "metadata": {
    "execution": {
     "iopub.execute_input": "2024-02-06T06:44:36.905884Z",
     "iopub.status.busy": "2024-02-06T06:44:36.904842Z",
     "iopub.status.idle": "2024-02-06T06:44:36.913375Z",
     "shell.execute_reply": "2024-02-06T06:44:36.912057Z"
    },
    "papermill": {
     "duration": 0.02078,
     "end_time": "2024-02-06T06:44:36.915995",
     "exception": false,
     "start_time": "2024-02-06T06:44:36.895215",
     "status": "completed"
    },
    "tags": []
   },
   "outputs": [],
   "source": [
    "X = dataset.iloc[:,3:].values"
   ]
  },
  {
   "cell_type": "code",
   "execution_count": 6,
   "id": "373de9f6",
   "metadata": {
    "execution": {
     "iopub.execute_input": "2024-02-06T06:44:36.934278Z",
     "iopub.status.busy": "2024-02-06T06:44:36.933845Z",
     "iopub.status.idle": "2024-02-06T06:44:36.941362Z",
     "shell.execute_reply": "2024-02-06T06:44:36.940053Z"
    },
    "papermill": {
     "duration": 0.019919,
     "end_time": "2024-02-06T06:44:36.943972",
     "exception": false,
     "start_time": "2024-02-06T06:44:36.924053",
     "status": "completed"
    },
    "tags": []
   },
   "outputs": [
    {
     "data": {
      "text/plain": [
       "array([[15, 39],\n",
       "       [15, 81],\n",
       "       [16,  6],\n",
       "       [16, 77],\n",
       "       [17, 40]])"
      ]
     },
     "execution_count": 6,
     "metadata": {},
     "output_type": "execute_result"
    }
   ],
   "source": [
    "X[:5]"
   ]
  },
  {
   "cell_type": "markdown",
   "id": "eed6134f",
   "metadata": {
    "papermill": {
     "duration": 0.008017,
     "end_time": "2024-02-06T06:44:36.960181",
     "exception": false,
     "start_time": "2024-02-06T06:44:36.952164",
     "status": "completed"
    },
    "tags": []
   },
   "source": [
    "#### Importing DBSCAN "
   ]
  },
  {
   "cell_type": "code",
   "execution_count": 7,
   "id": "c425214c",
   "metadata": {
    "execution": {
     "iopub.execute_input": "2024-02-06T06:44:36.978771Z",
     "iopub.status.busy": "2024-02-06T06:44:36.978339Z",
     "iopub.status.idle": "2024-02-06T06:44:38.886155Z",
     "shell.execute_reply": "2024-02-06T06:44:38.884661Z"
    },
    "papermill": {
     "duration": 1.920727,
     "end_time": "2024-02-06T06:44:38.889255",
     "exception": false,
     "start_time": "2024-02-06T06:44:36.968528",
     "status": "completed"
    },
    "tags": []
   },
   "outputs": [],
   "source": [
    "from sklearn.cluster import DBSCAN\n",
    "dbscan = DBSCAN(eps=5,min_samples=4)"
   ]
  },
  {
   "cell_type": "code",
   "execution_count": 8,
   "id": "2e0180a7",
   "metadata": {
    "execution": {
     "iopub.execute_input": "2024-02-06T06:44:38.909097Z",
     "iopub.status.busy": "2024-02-06T06:44:38.908656Z",
     "iopub.status.idle": "2024-02-06T06:44:38.920758Z",
     "shell.execute_reply": "2024-02-06T06:44:38.919407Z"
    },
    "papermill": {
     "duration": 0.026422,
     "end_time": "2024-02-06T06:44:38.924143",
     "exception": false,
     "start_time": "2024-02-06T06:44:38.897721",
     "status": "completed"
    },
    "tags": []
   },
   "outputs": [],
   "source": [
    "model = dbscan.fit(X)"
   ]
  },
  {
   "cell_type": "code",
   "execution_count": 9,
   "id": "3fc8be2e",
   "metadata": {
    "execution": {
     "iopub.execute_input": "2024-02-06T06:44:38.943375Z",
     "iopub.status.busy": "2024-02-06T06:44:38.942664Z",
     "iopub.status.idle": "2024-02-06T06:44:38.947045Z",
     "shell.execute_reply": "2024-02-06T06:44:38.946061Z"
    },
    "papermill": {
     "duration": 0.017004,
     "end_time": "2024-02-06T06:44:38.949491",
     "exception": false,
     "start_time": "2024-02-06T06:44:38.932487",
     "status": "completed"
    },
    "tags": []
   },
   "outputs": [],
   "source": [
    "labels = model.labels_"
   ]
  },
  {
   "cell_type": "code",
   "execution_count": 10,
   "id": "99435c68",
   "metadata": {
    "execution": {
     "iopub.execute_input": "2024-02-06T06:44:38.968095Z",
     "iopub.status.busy": "2024-02-06T06:44:38.967655Z",
     "iopub.status.idle": "2024-02-06T06:44:38.976017Z",
     "shell.execute_reply": "2024-02-06T06:44:38.974709Z"
    },
    "papermill": {
     "duration": 0.020583,
     "end_time": "2024-02-06T06:44:38.978489",
     "exception": false,
     "start_time": "2024-02-06T06:44:38.957906",
     "status": "completed"
    },
    "tags": []
   },
   "outputs": [
    {
     "data": {
      "text/plain": [
       "array([-1,  0, -1,  0, -1,  0, -1, -1, -1,  0, -1, -1, -1,  0, -1,  0, -1,\n",
       "       -1, -1, -1, -1, -1, -1, -1, -1, -1, -1, -1, -1, -1, -1, -1, -1, -1,\n",
       "       -1, -1, -1, -1, -1, -1, -1, -1, -1,  1, -1,  1,  1,  1,  1,  1,  1,\n",
       "        1,  1,  1,  1,  1,  1,  1,  1,  1,  1,  1,  1,  1,  1,  1,  1,  1,\n",
       "        1,  1,  1,  1,  1,  1,  1,  1,  1,  1,  1,  1,  1,  1,  1,  1,  1,\n",
       "        1,  1,  1,  1,  1,  1,  1,  1,  1,  1,  1,  1,  1,  1,  1,  1,  1,\n",
       "        1,  1,  1,  1,  1,  1,  1,  1,  1,  1,  1,  1,  1,  1,  1,  1,  1,\n",
       "        1,  1,  1,  1,  4, -1,  2, -1,  4,  3,  2,  3,  2, -1,  2,  3,  4,\n",
       "        3,  2,  3,  2,  3,  4, -1,  4,  3,  4, -1,  2,  5,  4,  5,  4,  5,\n",
       "        2,  5,  4,  3,  2,  3,  2, -1,  4,  3,  4, -1, -1, -1, -1, -1, -1,\n",
       "        6, -1,  6, -1,  6, -1,  6, -1, -1, -1, -1, -1, -1, -1, -1, -1, -1,\n",
       "       -1, -1, -1, -1, -1, -1, -1, -1, -1, -1, -1, -1, -1])"
      ]
     },
     "execution_count": 10,
     "metadata": {},
     "output_type": "execute_result"
    }
   ],
   "source": [
    "labels"
   ]
  },
  {
   "cell_type": "code",
   "execution_count": 11,
   "id": "f8617857",
   "metadata": {
    "execution": {
     "iopub.execute_input": "2024-02-06T06:44:38.998242Z",
     "iopub.status.busy": "2024-02-06T06:44:38.997505Z",
     "iopub.status.idle": "2024-02-06T06:44:39.002338Z",
     "shell.execute_reply": "2024-02-06T06:44:39.001134Z"
    },
    "papermill": {
     "duration": 0.017667,
     "end_time": "2024-02-06T06:44:39.004923",
     "exception": false,
     "start_time": "2024-02-06T06:44:38.987256",
     "status": "completed"
    },
    "tags": []
   },
   "outputs": [],
   "source": [
    "sample_cores = np.zeros_like(labels, dtype = bool)"
   ]
  },
  {
   "cell_type": "code",
   "execution_count": 12,
   "id": "669ad9f9",
   "metadata": {
    "execution": {
     "iopub.execute_input": "2024-02-06T06:44:39.023692Z",
     "iopub.status.busy": "2024-02-06T06:44:39.023215Z",
     "iopub.status.idle": "2024-02-06T06:44:39.028449Z",
     "shell.execute_reply": "2024-02-06T06:44:39.027393Z"
    },
    "papermill": {
     "duration": 0.01721,
     "end_time": "2024-02-06T06:44:39.030619",
     "exception": false,
     "start_time": "2024-02-06T06:44:39.013409",
     "status": "completed"
    },
    "tags": []
   },
   "outputs": [],
   "source": [
    "sample_cores[dbscan.core_sample_indices_] = True"
   ]
  },
  {
   "cell_type": "code",
   "execution_count": 13,
   "id": "63c2cb62",
   "metadata": {
    "execution": {
     "iopub.execute_input": "2024-02-06T06:44:39.050022Z",
     "iopub.status.busy": "2024-02-06T06:44:39.049274Z",
     "iopub.status.idle": "2024-02-06T06:44:39.058928Z",
     "shell.execute_reply": "2024-02-06T06:44:39.057871Z"
    },
    "papermill": {
     "duration": 0.022417,
     "end_time": "2024-02-06T06:44:39.061490",
     "exception": false,
     "start_time": "2024-02-06T06:44:39.039073",
     "status": "completed"
    },
    "tags": []
   },
   "outputs": [
    {
     "data": {
      "text/plain": [
       "array([False, False, False,  True, False,  True, False, False, False,\n",
       "       False, False, False, False,  True, False,  True, False, False,\n",
       "       False, False, False, False, False, False, False, False, False,\n",
       "       False, False, False, False, False, False, False, False, False,\n",
       "       False, False, False, False, False, False, False,  True, False,\n",
       "       False, False,  True,  True,  True,  True, False,  True,  True,\n",
       "        True,  True,  True,  True,  True,  True,  True,  True,  True,\n",
       "        True,  True,  True,  True,  True,  True,  True,  True, False,\n",
       "        True,  True,  True,  True,  True,  True,  True,  True,  True,\n",
       "        True,  True,  True,  True,  True,  True,  True,  True,  True,\n",
       "        True,  True,  True,  True,  True,  True,  True,  True,  True,\n",
       "        True,  True,  True,  True,  True,  True,  True,  True,  True,\n",
       "        True,  True,  True,  True,  True,  True,  True,  True,  True,\n",
       "        True,  True,  True,  True,  True,  True, False, False,  True,\n",
       "       False, False,  True,  True,  True,  True, False,  True,  True,\n",
       "        True,  True,  True,  True,  True,  True,  True, False,  True,\n",
       "       False, False, False,  True, False,  True,  True,  True,  True,\n",
       "        True,  True,  True,  True,  True,  True,  True, False, False,\n",
       "       False, False, False, False, False, False, False, False,  True,\n",
       "       False, False, False,  True, False, False, False, False, False,\n",
       "       False, False, False, False, False, False, False, False, False,\n",
       "       False, False, False, False, False, False, False, False, False,\n",
       "       False, False])"
      ]
     },
     "execution_count": 13,
     "metadata": {},
     "output_type": "execute_result"
    }
   ],
   "source": [
    "sample_cores"
   ]
  },
  {
   "cell_type": "markdown",
   "id": "208b053e",
   "metadata": {
    "papermill": {
     "duration": 0.008287,
     "end_time": "2024-02-06T06:44:39.078488",
     "exception": false,
     "start_time": "2024-02-06T06:44:39.070201",
     "status": "completed"
    },
    "tags": []
   },
   "source": [
    "#### Number of clusters"
   ]
  },
  {
   "cell_type": "code",
   "execution_count": 14,
   "id": "f85238f9",
   "metadata": {
    "execution": {
     "iopub.execute_input": "2024-02-06T06:44:39.097970Z",
     "iopub.status.busy": "2024-02-06T06:44:39.097503Z",
     "iopub.status.idle": "2024-02-06T06:44:39.103453Z",
     "shell.execute_reply": "2024-02-06T06:44:39.102031Z"
    },
    "papermill": {
     "duration": 0.018783,
     "end_time": "2024-02-06T06:44:39.106160",
     "exception": false,
     "start_time": "2024-02-06T06:44:39.087377",
     "status": "completed"
    },
    "tags": []
   },
   "outputs": [],
   "source": [
    "n_clusters = len(set(labels)) - (1 if -1 in labels else 0)"
   ]
  },
  {
   "cell_type": "code",
   "execution_count": 15,
   "id": "33536c01",
   "metadata": {
    "execution": {
     "iopub.execute_input": "2024-02-06T06:44:39.125968Z",
     "iopub.status.busy": "2024-02-06T06:44:39.125516Z",
     "iopub.status.idle": "2024-02-06T06:44:39.132460Z",
     "shell.execute_reply": "2024-02-06T06:44:39.131638Z"
    },
    "papermill": {
     "duration": 0.019695,
     "end_time": "2024-02-06T06:44:39.134757",
     "exception": false,
     "start_time": "2024-02-06T06:44:39.115062",
     "status": "completed"
    },
    "tags": []
   },
   "outputs": [
    {
     "data": {
      "text/plain": [
       "7"
      ]
     },
     "execution_count": 15,
     "metadata": {},
     "output_type": "execute_result"
    }
   ],
   "source": [
    "n_clusters"
   ]
  },
  {
   "cell_type": "markdown",
   "id": "71154045",
   "metadata": {
    "papermill": {
     "duration": 0.008522,
     "end_time": "2024-02-06T06:44:39.152102",
     "exception": false,
     "start_time": "2024-02-06T06:44:39.143580",
     "status": "completed"
    },
    "tags": []
   },
   "source": [
    "#### Silhoutte score"
   ]
  },
  {
   "cell_type": "code",
   "execution_count": 16,
   "id": "e4dc9eee",
   "metadata": {
    "execution": {
     "iopub.execute_input": "2024-02-06T06:44:39.171615Z",
     "iopub.status.busy": "2024-02-06T06:44:39.171151Z",
     "iopub.status.idle": "2024-02-06T06:44:39.176409Z",
     "shell.execute_reply": "2024-02-06T06:44:39.175226Z"
    },
    "papermill": {
     "duration": 0.017943,
     "end_time": "2024-02-06T06:44:39.178810",
     "exception": false,
     "start_time": "2024-02-06T06:44:39.160867",
     "status": "completed"
    },
    "tags": []
   },
   "outputs": [],
   "source": [
    "from sklearn import metrics"
   ]
  },
  {
   "cell_type": "code",
   "execution_count": 17,
   "id": "d85bea1a",
   "metadata": {
    "execution": {
     "iopub.execute_input": "2024-02-06T06:44:39.198114Z",
     "iopub.status.busy": "2024-02-06T06:44:39.197686Z",
     "iopub.status.idle": "2024-02-06T06:44:39.212268Z",
     "shell.execute_reply": "2024-02-06T06:44:39.211131Z"
    },
    "papermill": {
     "duration": 0.027065,
     "end_time": "2024-02-06T06:44:39.214666",
     "exception": false,
     "start_time": "2024-02-06T06:44:39.187601",
     "status": "completed"
    },
    "tags": []
   },
   "outputs": [
    {
     "name": "stdout",
     "output_type": "stream",
     "text": [
      "0.13799244650401032\n"
     ]
    }
   ],
   "source": [
    "print(metrics.silhouette_score(X, labels))"
   ]
  },
  {
   "cell_type": "code",
   "execution_count": null,
   "id": "d25ca355",
   "metadata": {
    "papermill": {
     "duration": 0.008486,
     "end_time": "2024-02-06T06:44:39.231892",
     "exception": false,
     "start_time": "2024-02-06T06:44:39.223406",
     "status": "completed"
    },
    "tags": []
   },
   "outputs": [],
   "source": []
  }
 ],
 "metadata": {
  "kaggle": {
   "accelerator": "none",
   "dataSources": [
    {
     "datasetId": 42674,
     "sourceId": 74935,
     "sourceType": "datasetVersion"
    }
   ],
   "dockerImageVersionId": 30646,
   "isGpuEnabled": false,
   "isInternetEnabled": true,
   "language": "python",
   "sourceType": "notebook"
  },
  "kernelspec": {
   "display_name": "Python 3",
   "language": "python",
   "name": "python3"
  },
  "language_info": {
   "codemirror_mode": {
    "name": "ipython",
    "version": 3
   },
   "file_extension": ".py",
   "mimetype": "text/x-python",
   "name": "python",
   "nbconvert_exporter": "python",
   "pygments_lexer": "ipython3",
   "version": "3.10.13"
  },
  "papermill": {
   "default_parameters": {},
   "duration": 7.615228,
   "end_time": "2024-02-06T06:44:40.064336",
   "environment_variables": {},
   "exception": null,
   "input_path": "__notebook__.ipynb",
   "output_path": "__notebook__.ipynb",
   "parameters": {},
   "start_time": "2024-02-06T06:44:32.449108",
   "version": "2.5.0"
  }
 },
 "nbformat": 4,
 "nbformat_minor": 5
}
