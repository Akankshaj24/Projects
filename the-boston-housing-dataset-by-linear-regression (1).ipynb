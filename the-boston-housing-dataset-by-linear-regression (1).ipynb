{
 "cells": [
  {
   "cell_type": "code",
   "execution_count": 1,
   "id": "2e6841e9",
   "metadata": {
    "_cell_guid": "b1076dfc-b9ad-4769-8c92-a6c4dae69d19",
    "_uuid": "8f2839f25d086af736a60e9eeb907d3b93b6e0e5",
    "execution": {
     "iopub.execute_input": "2024-01-18T09:54:26.683043Z",
     "iopub.status.busy": "2024-01-18T09:54:26.682641Z",
     "iopub.status.idle": "2024-01-18T09:54:27.015966Z",
     "shell.execute_reply": "2024-01-18T09:54:27.014367Z"
    },
    "papermill": {
     "duration": 0.342878,
     "end_time": "2024-01-18T09:54:27.018245",
     "exception": false,
     "start_time": "2024-01-18T09:54:26.675367",
     "status": "completed"
    },
    "tags": []
   },
   "outputs": [
    {
     "name": "stdout",
     "output_type": "stream",
     "text": [
      "/kaggle/input/boston-house-prices/housing.csv\n"
     ]
    }
   ],
   "source": [
    "# This Python 3 environment comes with many helpful analytics libraries installed\n",
    "# It is defined by the kaggle/python Docker image: https://github.com/kaggle/docker-python\n",
    "# For example, here's several helpful packages to load\n",
    "\n",
    "import numpy as np # linear algebra\n",
    "import pandas as pd # data processing, CSV file I/O (e.g. pd.read_csv)\n",
    "\n",
    "# Input data files are available in the read-only \"../input/\" directory\n",
    "# For example, running this (by clicking run or pressing Shift+Enter) will list all files under the input directory\n",
    "\n",
    "import os\n",
    "for dirname, _, filenames in os.walk('/kaggle/input'):\n",
    "    for filename in filenames:\n",
    "        print(os.path.join(dirname, filename))\n",
    "\n",
    "# You can write up to 20GB to the current directory (/kaggle/working/) that gets preserved as output when you create a version using \"Save & Run All\" \n",
    "# You can also write temporary files to /kaggle/temp/, but they won't be saved outside of the current session"
   ]
  },
  {
   "cell_type": "code",
   "execution_count": 2,
   "id": "689ad934",
   "metadata": {
    "execution": {
     "iopub.execute_input": "2024-01-18T09:54:27.032162Z",
     "iopub.status.busy": "2024-01-18T09:54:27.031664Z",
     "iopub.status.idle": "2024-01-18T09:54:27.083200Z",
     "shell.execute_reply": "2024-01-18T09:54:27.081840Z"
    },
    "papermill": {
     "duration": 0.060977,
     "end_time": "2024-01-18T09:54:27.085149",
     "exception": false,
     "start_time": "2024-01-18T09:54:27.024172",
     "status": "completed"
    },
    "tags": []
   },
   "outputs": [
    {
     "data": {
      "text/html": [
       "<div>\n",
       "<style scoped>\n",
       "    .dataframe tbody tr th:only-of-type {\n",
       "        vertical-align: middle;\n",
       "    }\n",
       "\n",
       "    .dataframe tbody tr th {\n",
       "        vertical-align: top;\n",
       "    }\n",
       "\n",
       "    .dataframe thead th {\n",
       "        text-align: right;\n",
       "    }\n",
       "</style>\n",
       "<table border=\"1\" class=\"dataframe\">\n",
       "  <thead>\n",
       "    <tr style=\"text-align: right;\">\n",
       "      <th></th>\n",
       "      <th>CRIM</th>\n",
       "      <th>ZN</th>\n",
       "      <th>INDUS</th>\n",
       "      <th>CHAS</th>\n",
       "      <th>NOX</th>\n",
       "      <th>RM</th>\n",
       "      <th>AGE</th>\n",
       "      <th>DIS</th>\n",
       "      <th>RAD</th>\n",
       "      <th>TAX</th>\n",
       "      <th>PTRATIO</th>\n",
       "      <th>B</th>\n",
       "      <th>LSTAT</th>\n",
       "      <th>MEDV</th>\n",
       "    </tr>\n",
       "  </thead>\n",
       "  <tbody>\n",
       "    <tr>\n",
       "      <th>0</th>\n",
       "      <td>0.00632</td>\n",
       "      <td>18.0</td>\n",
       "      <td>2.31</td>\n",
       "      <td>0</td>\n",
       "      <td>0.538</td>\n",
       "      <td>6.575</td>\n",
       "      <td>65.2</td>\n",
       "      <td>4.0900</td>\n",
       "      <td>1</td>\n",
       "      <td>296.0</td>\n",
       "      <td>15.3</td>\n",
       "      <td>396.90</td>\n",
       "      <td>4.98</td>\n",
       "      <td>24.0</td>\n",
       "    </tr>\n",
       "    <tr>\n",
       "      <th>1</th>\n",
       "      <td>0.02731</td>\n",
       "      <td>0.0</td>\n",
       "      <td>7.07</td>\n",
       "      <td>0</td>\n",
       "      <td>0.469</td>\n",
       "      <td>6.421</td>\n",
       "      <td>78.9</td>\n",
       "      <td>4.9671</td>\n",
       "      <td>2</td>\n",
       "      <td>242.0</td>\n",
       "      <td>17.8</td>\n",
       "      <td>396.90</td>\n",
       "      <td>9.14</td>\n",
       "      <td>21.6</td>\n",
       "    </tr>\n",
       "    <tr>\n",
       "      <th>2</th>\n",
       "      <td>0.02729</td>\n",
       "      <td>0.0</td>\n",
       "      <td>7.07</td>\n",
       "      <td>0</td>\n",
       "      <td>0.469</td>\n",
       "      <td>7.185</td>\n",
       "      <td>61.1</td>\n",
       "      <td>4.9671</td>\n",
       "      <td>2</td>\n",
       "      <td>242.0</td>\n",
       "      <td>17.8</td>\n",
       "      <td>392.83</td>\n",
       "      <td>4.03</td>\n",
       "      <td>34.7</td>\n",
       "    </tr>\n",
       "    <tr>\n",
       "      <th>3</th>\n",
       "      <td>0.03237</td>\n",
       "      <td>0.0</td>\n",
       "      <td>2.18</td>\n",
       "      <td>0</td>\n",
       "      <td>0.458</td>\n",
       "      <td>6.998</td>\n",
       "      <td>45.8</td>\n",
       "      <td>6.0622</td>\n",
       "      <td>3</td>\n",
       "      <td>222.0</td>\n",
       "      <td>18.7</td>\n",
       "      <td>394.63</td>\n",
       "      <td>2.94</td>\n",
       "      <td>33.4</td>\n",
       "    </tr>\n",
       "    <tr>\n",
       "      <th>4</th>\n",
       "      <td>0.06905</td>\n",
       "      <td>0.0</td>\n",
       "      <td>2.18</td>\n",
       "      <td>0</td>\n",
       "      <td>0.458</td>\n",
       "      <td>7.147</td>\n",
       "      <td>54.2</td>\n",
       "      <td>6.0622</td>\n",
       "      <td>3</td>\n",
       "      <td>222.0</td>\n",
       "      <td>18.7</td>\n",
       "      <td>396.90</td>\n",
       "      <td>5.33</td>\n",
       "      <td>36.2</td>\n",
       "    </tr>\n",
       "  </tbody>\n",
       "</table>\n",
       "</div>"
      ],
      "text/plain": [
       "      CRIM    ZN  INDUS  CHAS    NOX     RM   AGE     DIS  RAD    TAX  \\\n",
       "0  0.00632  18.0   2.31     0  0.538  6.575  65.2  4.0900    1  296.0   \n",
       "1  0.02731   0.0   7.07     0  0.469  6.421  78.9  4.9671    2  242.0   \n",
       "2  0.02729   0.0   7.07     0  0.469  7.185  61.1  4.9671    2  242.0   \n",
       "3  0.03237   0.0   2.18     0  0.458  6.998  45.8  6.0622    3  222.0   \n",
       "4  0.06905   0.0   2.18     0  0.458  7.147  54.2  6.0622    3  222.0   \n",
       "\n",
       "   PTRATIO       B  LSTAT  MEDV  \n",
       "0     15.3  396.90   4.98  24.0  \n",
       "1     17.8  396.90   9.14  21.6  \n",
       "2     17.8  392.83   4.03  34.7  \n",
       "3     18.7  394.63   2.94  33.4  \n",
       "4     18.7  396.90   5.33  36.2  "
      ]
     },
     "execution_count": 2,
     "metadata": {},
     "output_type": "execute_result"
    }
   ],
   "source": [
    "column_names = ['CRIM', 'ZN', 'INDUS', 'CHAS', 'NOX', 'RM', 'AGE', 'DIS', 'RAD', 'TAX', 'PTRATIO', 'B', 'LSTAT', 'MEDV']\n",
    "data = pd.read_csv('/kaggle/input/boston-house-prices/housing.csv', header=None, delimiter=r\"\\s+\", names=column_names)\n",
    "data.head()"
   ]
  },
  {
   "cell_type": "markdown",
   "id": "7231dbf2",
   "metadata": {
    "papermill": {
     "duration": 0.005143,
     "end_time": "2024-01-18T09:54:27.095827",
     "exception": false,
     "start_time": "2024-01-18T09:54:27.090684",
     "status": "completed"
    },
    "tags": []
   },
   "source": [
    "#### Feature\n",
    "1. CRIM per capita crime rate by town\n",
    "2. ZN- proportion of residential Land zoned for lots over 25,000 sq.ft.\n",
    "3. INDUS - proportion of non-retail business acres per town.\n",
    "4. CHAS - Charles River dummy variable (1 if tract bounds river; e otherwise)\n",
    "5. NOX - nitric oxides concentration (parts per 10 million)\n",
    "6. RM - average number of rooms per dwelling.\n",
    "7. AGE - proportion of owner-occupied units built prior to 1940\n",
    "8. DIS - weighted distances to five Boston employment centres\n",
    "9. RAD - index of accessibility to radial highways\n",
    "1. TAX - full-value property-tax rate per $10,000\n",
    "11. PTRATIO - pupil-teacher ratio by town\n",
    "12. B - 1000(Bk - 0.63)^2 where Bk is the proportion of blacks by town\n",
    "13. LSTAT - Lower status of the population\n",
    "\n",
    "### target variable\n",
    "1. MEDV - Median value of owner-occupied homes in $1000's"
   ]
  },
  {
   "cell_type": "markdown",
   "id": "5ea300ed",
   "metadata": {
    "papermill": {
     "duration": 0.005324,
     "end_time": "2024-01-18T09:54:27.106637",
     "exception": false,
     "start_time": "2024-01-18T09:54:27.101313",
     "status": "completed"
    },
    "tags": []
   },
   "source": [
    "### Data Preprocessing"
   ]
  },
  {
   "cell_type": "code",
   "execution_count": 3,
   "id": "1440d9b0",
   "metadata": {
    "execution": {
     "iopub.execute_input": "2024-01-18T09:54:27.119032Z",
     "iopub.status.busy": "2024-01-18T09:54:27.118691Z",
     "iopub.status.idle": "2024-01-18T09:54:27.125536Z",
     "shell.execute_reply": "2024-01-18T09:54:27.124301Z"
    },
    "papermill": {
     "duration": 0.015931,
     "end_time": "2024-01-18T09:54:27.127976",
     "exception": false,
     "start_time": "2024-01-18T09:54:27.112045",
     "status": "completed"
    },
    "tags": []
   },
   "outputs": [
    {
     "data": {
      "text/plain": [
       "(506, 14)"
      ]
     },
     "execution_count": 3,
     "metadata": {},
     "output_type": "execute_result"
    }
   ],
   "source": [
    "data.shape"
   ]
  },
  {
   "cell_type": "code",
   "execution_count": 4,
   "id": "0528b1ab",
   "metadata": {
    "execution": {
     "iopub.execute_input": "2024-01-18T09:54:27.141294Z",
     "iopub.status.busy": "2024-01-18T09:54:27.140438Z",
     "iopub.status.idle": "2024-01-18T09:54:27.151772Z",
     "shell.execute_reply": "2024-01-18T09:54:27.149971Z"
    },
    "papermill": {
     "duration": 0.020768,
     "end_time": "2024-01-18T09:54:27.154476",
     "exception": false,
     "start_time": "2024-01-18T09:54:27.133708",
     "status": "completed"
    },
    "tags": []
   },
   "outputs": [
    {
     "data": {
      "text/plain": [
       "CRIM       0\n",
       "ZN         0\n",
       "INDUS      0\n",
       "CHAS       0\n",
       "NOX        0\n",
       "RM         0\n",
       "AGE        0\n",
       "DIS        0\n",
       "RAD        0\n",
       "TAX        0\n",
       "PTRATIO    0\n",
       "B          0\n",
       "LSTAT      0\n",
       "MEDV       0\n",
       "dtype: int64"
      ]
     },
     "execution_count": 4,
     "metadata": {},
     "output_type": "execute_result"
    }
   ],
   "source": [
    "data.isnull().sum()"
   ]
  },
  {
   "cell_type": "markdown",
   "id": "a88b158f",
   "metadata": {
    "papermill": {
     "duration": 0.005684,
     "end_time": "2024-01-18T09:54:27.166192",
     "exception": false,
     "start_time": "2024-01-18T09:54:27.160508",
     "status": "completed"
    },
    "tags": []
   },
   "source": [
    "#### Check for data type"
   ]
  },
  {
   "cell_type": "code",
   "execution_count": 5,
   "id": "3929f746",
   "metadata": {
    "execution": {
     "iopub.execute_input": "2024-01-18T09:54:27.180228Z",
     "iopub.status.busy": "2024-01-18T09:54:27.179662Z",
     "iopub.status.idle": "2024-01-18T09:54:27.187845Z",
     "shell.execute_reply": "2024-01-18T09:54:27.186534Z"
    },
    "papermill": {
     "duration": 0.017966,
     "end_time": "2024-01-18T09:54:27.190459",
     "exception": false,
     "start_time": "2024-01-18T09:54:27.172493",
     "status": "completed"
    },
    "tags": []
   },
   "outputs": [
    {
     "data": {
      "text/plain": [
       "CRIM       float64\n",
       "ZN         float64\n",
       "INDUS      float64\n",
       "CHAS         int64\n",
       "NOX        float64\n",
       "RM         float64\n",
       "AGE        float64\n",
       "DIS        float64\n",
       "RAD          int64\n",
       "TAX        float64\n",
       "PTRATIO    float64\n",
       "B          float64\n",
       "LSTAT      float64\n",
       "MEDV       float64\n",
       "dtype: object"
      ]
     },
     "execution_count": 5,
     "metadata": {},
     "output_type": "execute_result"
    }
   ],
   "source": [
    "data.dtypes"
   ]
  },
  {
   "cell_type": "markdown",
   "id": "e0e297af",
   "metadata": {
    "papermill": {
     "duration": 0.006002,
     "end_time": "2024-01-18T09:54:27.202812",
     "exception": false,
     "start_time": "2024-01-18T09:54:27.196810",
     "status": "completed"
    },
    "tags": []
   },
   "source": [
    "#### Dividing data into Features and target variable"
   ]
  },
  {
   "cell_type": "code",
   "execution_count": 6,
   "id": "5a8d5674",
   "metadata": {
    "execution": {
     "iopub.execute_input": "2024-01-18T09:54:27.216412Z",
     "iopub.status.busy": "2024-01-18T09:54:27.216069Z",
     "iopub.status.idle": "2024-01-18T09:54:27.230851Z",
     "shell.execute_reply": "2024-01-18T09:54:27.229431Z"
    },
    "papermill": {
     "duration": 0.024415,
     "end_time": "2024-01-18T09:54:27.233187",
     "exception": false,
     "start_time": "2024-01-18T09:54:27.208772",
     "status": "completed"
    },
    "tags": []
   },
   "outputs": [
    {
     "name": "stdout",
     "output_type": "stream",
     "text": [
      "<class 'pandas.core.frame.DataFrame'>\n",
      "<class 'pandas.core.series.Series'>\n",
      "(506, 13)\n",
      "(506,)\n"
     ]
    }
   ],
   "source": [
    "x = data.drop(\"MEDV\", axis=1)\n",
    "y = data[\"MEDV\"]\n",
    "print(type(x))\n",
    "print(type(y))\n",
    "print(x.shape)\n",
    "print(y.shape)"
   ]
  },
  {
   "cell_type": "markdown",
   "id": "75d01504",
   "metadata": {
    "papermill": {
     "duration": 0.005653,
     "end_time": "2024-01-18T09:54:27.244966",
     "exception": false,
     "start_time": "2024-01-18T09:54:27.239313",
     "status": "completed"
    },
    "tags": []
   },
   "source": [
    "#### split the data into train and test"
   ]
  },
  {
   "cell_type": "code",
   "execution_count": 7,
   "id": "7456c884",
   "metadata": {
    "execution": {
     "iopub.execute_input": "2024-01-18T09:54:27.259724Z",
     "iopub.status.busy": "2024-01-18T09:54:27.258846Z",
     "iopub.status.idle": "2024-01-18T09:54:28.610263Z",
     "shell.execute_reply": "2024-01-18T09:54:28.608356Z"
    },
    "papermill": {
     "duration": 1.361723,
     "end_time": "2024-01-18T09:54:28.613127",
     "exception": false,
     "start_time": "2024-01-18T09:54:27.251404",
     "status": "completed"
    },
    "tags": []
   },
   "outputs": [],
   "source": [
    "from sklearn.model_selection import train_test_split\n",
    "X_train,X_test,y_train,y_test = train_test_split(x,y,test_size=0.20,random_state=42)"
   ]
  },
  {
   "cell_type": "code",
   "execution_count": 8,
   "id": "25e85367",
   "metadata": {
    "execution": {
     "iopub.execute_input": "2024-01-18T09:54:28.629341Z",
     "iopub.status.busy": "2024-01-18T09:54:28.628848Z",
     "iopub.status.idle": "2024-01-18T09:54:28.635252Z",
     "shell.execute_reply": "2024-01-18T09:54:28.634438Z"
    },
    "papermill": {
     "duration": 0.017862,
     "end_time": "2024-01-18T09:54:28.637334",
     "exception": false,
     "start_time": "2024-01-18T09:54:28.619472",
     "status": "completed"
    },
    "tags": []
   },
   "outputs": [
    {
     "name": "stdout",
     "output_type": "stream",
     "text": [
      "(404, 13)\n",
      "(102, 13)\n",
      "(404,)\n",
      "(102,)\n"
     ]
    }
   ],
   "source": [
    "print(X_train.shape)\n",
    "print(X_test.shape)\n",
    "print(y_train.shape)\n",
    "print(y_test.shape)"
   ]
  },
  {
   "cell_type": "markdown",
   "id": "23885f88",
   "metadata": {
    "papermill": {
     "duration": 0.005791,
     "end_time": "2024-01-18T09:54:28.649410",
     "exception": false,
     "start_time": "2024-01-18T09:54:28.643619",
     "status": "completed"
    },
    "tags": []
   },
   "source": [
    "#### Model Building"
   ]
  },
  {
   "cell_type": "code",
   "execution_count": 9,
   "id": "1a612ec9",
   "metadata": {
    "execution": {
     "iopub.execute_input": "2024-01-18T09:54:28.664090Z",
     "iopub.status.busy": "2024-01-18T09:54:28.663750Z",
     "iopub.status.idle": "2024-01-18T09:54:28.846264Z",
     "shell.execute_reply": "2024-01-18T09:54:28.844751Z"
    },
    "papermill": {
     "duration": 0.193212,
     "end_time": "2024-01-18T09:54:28.848692",
     "exception": false,
     "start_time": "2024-01-18T09:54:28.655480",
     "status": "completed"
    },
    "tags": []
   },
   "outputs": [],
   "source": [
    "from sklearn.linear_model import LinearRegression"
   ]
  },
  {
   "cell_type": "code",
   "execution_count": 10,
   "id": "580dbd23",
   "metadata": {
    "execution": {
     "iopub.execute_input": "2024-01-18T09:54:28.862468Z",
     "iopub.status.busy": "2024-01-18T09:54:28.862142Z",
     "iopub.status.idle": "2024-01-18T09:54:28.899147Z",
     "shell.execute_reply": "2024-01-18T09:54:28.898016Z"
    },
    "papermill": {
     "duration": 0.046884,
     "end_time": "2024-01-18T09:54:28.901635",
     "exception": false,
     "start_time": "2024-01-18T09:54:28.854751",
     "status": "completed"
    },
    "tags": []
   },
   "outputs": [
    {
     "data": {
      "text/html": [
       "<style>#sk-container-id-1 {color: black;background-color: white;}#sk-container-id-1 pre{padding: 0;}#sk-container-id-1 div.sk-toggleable {background-color: white;}#sk-container-id-1 label.sk-toggleable__label {cursor: pointer;display: block;width: 100%;margin-bottom: 0;padding: 0.3em;box-sizing: border-box;text-align: center;}#sk-container-id-1 label.sk-toggleable__label-arrow:before {content: \"▸\";float: left;margin-right: 0.25em;color: #696969;}#sk-container-id-1 label.sk-toggleable__label-arrow:hover:before {color: black;}#sk-container-id-1 div.sk-estimator:hover label.sk-toggleable__label-arrow:before {color: black;}#sk-container-id-1 div.sk-toggleable__content {max-height: 0;max-width: 0;overflow: hidden;text-align: left;background-color: #f0f8ff;}#sk-container-id-1 div.sk-toggleable__content pre {margin: 0.2em;color: black;border-radius: 0.25em;background-color: #f0f8ff;}#sk-container-id-1 input.sk-toggleable__control:checked~div.sk-toggleable__content {max-height: 200px;max-width: 100%;overflow: auto;}#sk-container-id-1 input.sk-toggleable__control:checked~label.sk-toggleable__label-arrow:before {content: \"▾\";}#sk-container-id-1 div.sk-estimator input.sk-toggleable__control:checked~label.sk-toggleable__label {background-color: #d4ebff;}#sk-container-id-1 div.sk-label input.sk-toggleable__control:checked~label.sk-toggleable__label {background-color: #d4ebff;}#sk-container-id-1 input.sk-hidden--visually {border: 0;clip: rect(1px 1px 1px 1px);clip: rect(1px, 1px, 1px, 1px);height: 1px;margin: -1px;overflow: hidden;padding: 0;position: absolute;width: 1px;}#sk-container-id-1 div.sk-estimator {font-family: monospace;background-color: #f0f8ff;border: 1px dotted black;border-radius: 0.25em;box-sizing: border-box;margin-bottom: 0.5em;}#sk-container-id-1 div.sk-estimator:hover {background-color: #d4ebff;}#sk-container-id-1 div.sk-parallel-item::after {content: \"\";width: 100%;border-bottom: 1px solid gray;flex-grow: 1;}#sk-container-id-1 div.sk-label:hover label.sk-toggleable__label {background-color: #d4ebff;}#sk-container-id-1 div.sk-serial::before {content: \"\";position: absolute;border-left: 1px solid gray;box-sizing: border-box;top: 0;bottom: 0;left: 50%;z-index: 0;}#sk-container-id-1 div.sk-serial {display: flex;flex-direction: column;align-items: center;background-color: white;padding-right: 0.2em;padding-left: 0.2em;position: relative;}#sk-container-id-1 div.sk-item {position: relative;z-index: 1;}#sk-container-id-1 div.sk-parallel {display: flex;align-items: stretch;justify-content: center;background-color: white;position: relative;}#sk-container-id-1 div.sk-item::before, #sk-container-id-1 div.sk-parallel-item::before {content: \"\";position: absolute;border-left: 1px solid gray;box-sizing: border-box;top: 0;bottom: 0;left: 50%;z-index: -1;}#sk-container-id-1 div.sk-parallel-item {display: flex;flex-direction: column;z-index: 1;position: relative;background-color: white;}#sk-container-id-1 div.sk-parallel-item:first-child::after {align-self: flex-end;width: 50%;}#sk-container-id-1 div.sk-parallel-item:last-child::after {align-self: flex-start;width: 50%;}#sk-container-id-1 div.sk-parallel-item:only-child::after {width: 0;}#sk-container-id-1 div.sk-dashed-wrapped {border: 1px dashed gray;margin: 0 0.4em 0.5em 0.4em;box-sizing: border-box;padding-bottom: 0.4em;background-color: white;}#sk-container-id-1 div.sk-label label {font-family: monospace;font-weight: bold;display: inline-block;line-height: 1.2em;}#sk-container-id-1 div.sk-label-container {text-align: center;}#sk-container-id-1 div.sk-container {/* jupyter's `normalize.less` sets `[hidden] { display: none; }` but bootstrap.min.css set `[hidden] { display: none !important; }` so we also need the `!important` here to be able to override the default hidden behavior on the sphinx rendered scikit-learn.org. See: https://github.com/scikit-learn/scikit-learn/issues/21755 */display: inline-block !important;position: relative;}#sk-container-id-1 div.sk-text-repr-fallback {display: none;}</style><div id=\"sk-container-id-1\" class=\"sk-top-container\"><div class=\"sk-text-repr-fallback\"><pre>LinearRegression()</pre><b>In a Jupyter environment, please rerun this cell to show the HTML representation or trust the notebook. <br />On GitHub, the HTML representation is unable to render, please try loading this page with nbviewer.org.</b></div><div class=\"sk-container\" hidden><div class=\"sk-item\"><div class=\"sk-estimator sk-toggleable\"><input class=\"sk-toggleable__control sk-hidden--visually\" id=\"sk-estimator-id-1\" type=\"checkbox\" checked><label for=\"sk-estimator-id-1\" class=\"sk-toggleable__label sk-toggleable__label-arrow\">LinearRegression</label><div class=\"sk-toggleable__content\"><pre>LinearRegression()</pre></div></div></div></div></div>"
      ],
      "text/plain": [
       "LinearRegression()"
      ]
     },
     "execution_count": 10,
     "metadata": {},
     "output_type": "execute_result"
    }
   ],
   "source": [
    "m1 = LinearRegression()\n",
    "m1.fit(X_train, y_train)"
   ]
  },
  {
   "cell_type": "markdown",
   "id": "2981b242",
   "metadata": {
    "papermill": {
     "duration": 0.006094,
     "end_time": "2024-01-18T09:54:28.914104",
     "exception": false,
     "start_time": "2024-01-18T09:54:28.908010",
     "status": "completed"
    },
    "tags": []
   },
   "source": [
    "#### Checking for how good model is performing"
   ]
  },
  {
   "cell_type": "code",
   "execution_count": 11,
   "id": "bbd6a80c",
   "metadata": {
    "execution": {
     "iopub.execute_input": "2024-01-18T09:54:28.928300Z",
     "iopub.status.busy": "2024-01-18T09:54:28.927959Z",
     "iopub.status.idle": "2024-01-18T09:54:28.938633Z",
     "shell.execute_reply": "2024-01-18T09:54:28.936990Z"
    },
    "papermill": {
     "duration": 0.020608,
     "end_time": "2024-01-18T09:54:28.941026",
     "exception": false,
     "start_time": "2024-01-18T09:54:28.920418",
     "status": "completed"
    },
    "tags": []
   },
   "outputs": [
    {
     "name": "stdout",
     "output_type": "stream",
     "text": [
      "Train score :  0.7508856358979673\n",
      "Test score :  0.6687594935356326\n"
     ]
    }
   ],
   "source": [
    "print(\"Train score : \",m1.score(X_train,y_train))\n",
    "print(\"Test score : \",m1.score(X_test,y_test))"
   ]
  },
  {
   "cell_type": "markdown",
   "id": "b199648b",
   "metadata": {
    "papermill": {
     "duration": 0.006136,
     "end_time": "2024-01-18T09:54:28.953439",
     "exception": false,
     "start_time": "2024-01-18T09:54:28.947303",
     "status": "completed"
    },
    "tags": []
   },
   "source": [
    "#### Regression Metrics"
   ]
  },
  {
   "cell_type": "code",
   "execution_count": 12,
   "id": "fd3e8f1b",
   "metadata": {
    "execution": {
     "iopub.execute_input": "2024-01-18T09:54:28.967752Z",
     "iopub.status.busy": "2024-01-18T09:54:28.967395Z",
     "iopub.status.idle": "2024-01-18T09:54:28.972361Z",
     "shell.execute_reply": "2024-01-18T09:54:28.971205Z"
    },
    "papermill": {
     "duration": 0.014957,
     "end_time": "2024-01-18T09:54:28.974623",
     "exception": false,
     "start_time": "2024-01-18T09:54:28.959666",
     "status": "completed"
    },
    "tags": []
   },
   "outputs": [],
   "source": [
    "from sklearn.metrics import mean_squared_error,mean_absolute_error,r2_score"
   ]
  },
  {
   "cell_type": "code",
   "execution_count": 13,
   "id": "b9e5af84",
   "metadata": {
    "execution": {
     "iopub.execute_input": "2024-01-18T09:54:28.989774Z",
     "iopub.status.busy": "2024-01-18T09:54:28.989433Z",
     "iopub.status.idle": "2024-01-18T09:54:28.994683Z",
     "shell.execute_reply": "2024-01-18T09:54:28.993690Z"
    },
    "papermill": {
     "duration": 0.015269,
     "end_time": "2024-01-18T09:54:28.996797",
     "exception": false,
     "start_time": "2024-01-18T09:54:28.981528",
     "status": "completed"
    },
    "tags": []
   },
   "outputs": [],
   "source": [
    "def eval_model(ytest,ypred):\n",
    "    mae = mean_absolute_error(ytest,ypred)\n",
    "    mse = mean_squared_error(ytest,ypred)\n",
    "    rmse = np.sqrt(mse)\n",
    "    r2s = r2_score(ytest,ypred)\n",
    "    print(\"MAE : \",mae)\n",
    "    print(\"MSE : \",mse)\n",
    "    print(\"RMSE : \",rmse)\n",
    "    print(\"R2_Score : \",r2s)"
   ]
  },
  {
   "cell_type": "code",
   "execution_count": 14,
   "id": "0b2649e7",
   "metadata": {
    "execution": {
     "iopub.execute_input": "2024-01-18T09:54:29.010648Z",
     "iopub.status.busy": "2024-01-18T09:54:29.010327Z",
     "iopub.status.idle": "2024-01-18T09:54:29.019360Z",
     "shell.execute_reply": "2024-01-18T09:54:29.018397Z"
    },
    "papermill": {
     "duration": 0.018161,
     "end_time": "2024-01-18T09:54:29.021183",
     "exception": false,
     "start_time": "2024-01-18T09:54:29.003022",
     "status": "completed"
    },
    "tags": []
   },
   "outputs": [
    {
     "data": {
      "text/plain": [
       "array([28.99672362, 36.02556534, 14.81694405, 25.03197915, 18.76987992])"
      ]
     },
     "execution_count": 14,
     "metadata": {},
     "output_type": "execute_result"
    }
   ],
   "source": [
    "ypred_m1 = m1.predict(X_test)\n",
    "ypred_m1[:5]"
   ]
  },
  {
   "cell_type": "code",
   "execution_count": 15,
   "id": "2d1f930b",
   "metadata": {
    "execution": {
     "iopub.execute_input": "2024-01-18T09:54:29.036791Z",
     "iopub.status.busy": "2024-01-18T09:54:29.036460Z",
     "iopub.status.idle": "2024-01-18T09:54:29.042946Z",
     "shell.execute_reply": "2024-01-18T09:54:29.041974Z"
    },
    "papermill": {
     "duration": 0.016656,
     "end_time": "2024-01-18T09:54:29.044880",
     "exception": false,
     "start_time": "2024-01-18T09:54:29.028224",
     "status": "completed"
    },
    "tags": []
   },
   "outputs": [
    {
     "name": "stdout",
     "output_type": "stream",
     "text": [
      "MAE :  3.189091965887837\n",
      "MSE :  24.291119474973478\n",
      "RMSE :  4.928602182665332\n",
      "R2_Score :  0.6687594935356326\n"
     ]
    }
   ],
   "source": [
    "eval_model(y_test, ypred_m1)"
   ]
  },
  {
   "cell_type": "markdown",
   "id": "29421b9f",
   "metadata": {
    "papermill": {
     "duration": 0.006153,
     "end_time": "2024-01-18T09:54:29.057583",
     "exception": false,
     "start_time": "2024-01-18T09:54:29.051430",
     "status": "completed"
    },
    "tags": []
   },
   "source": [
    "#### Coefficient and Intercept"
   ]
  },
  {
   "cell_type": "code",
   "execution_count": 16,
   "id": "fbdb39bf",
   "metadata": {
    "execution": {
     "iopub.execute_input": "2024-01-18T09:54:29.072220Z",
     "iopub.status.busy": "2024-01-18T09:54:29.071837Z",
     "iopub.status.idle": "2024-01-18T09:54:29.077397Z",
     "shell.execute_reply": "2024-01-18T09:54:29.076387Z"
    },
    "papermill": {
     "duration": 0.015845,
     "end_time": "2024-01-18T09:54:29.079760",
     "exception": false,
     "start_time": "2024-01-18T09:54:29.063915",
     "status": "completed"
    },
    "tags": []
   },
   "outputs": [
    {
     "data": {
      "text/plain": [
       "array([-1.13055924e-01,  3.01104641e-02,  4.03807204e-02,  2.78443820e+00,\n",
       "       -1.72026334e+01,  4.43883520e+00, -6.29636221e-03, -1.44786537e+00,\n",
       "        2.62429736e-01, -1.06467863e-02, -9.15456240e-01,  1.23513347e-02,\n",
       "       -5.08571424e-01])"
      ]
     },
     "execution_count": 16,
     "metadata": {},
     "output_type": "execute_result"
    }
   ],
   "source": [
    "m1.coef_"
   ]
  },
  {
   "cell_type": "code",
   "execution_count": 17,
   "id": "f910c364",
   "metadata": {
    "execution": {
     "iopub.execute_input": "2024-01-18T09:54:29.094205Z",
     "iopub.status.busy": "2024-01-18T09:54:29.093832Z",
     "iopub.status.idle": "2024-01-18T09:54:29.100158Z",
     "shell.execute_reply": "2024-01-18T09:54:29.098912Z"
    },
    "papermill": {
     "duration": 0.015733,
     "end_time": "2024-01-18T09:54:29.102026",
     "exception": false,
     "start_time": "2024-01-18T09:54:29.086293",
     "status": "completed"
    },
    "tags": []
   },
   "outputs": [
    {
     "data": {
      "text/plain": [
       "30.24675099392366"
      ]
     },
     "execution_count": 17,
     "metadata": {},
     "output_type": "execute_result"
    }
   ],
   "source": [
    "m1.intercept_"
   ]
  },
  {
   "cell_type": "code",
   "execution_count": null,
   "id": "4cfe3d25",
   "metadata": {
    "papermill": {
     "duration": 0.006531,
     "end_time": "2024-01-18T09:54:29.115036",
     "exception": false,
     "start_time": "2024-01-18T09:54:29.108505",
     "status": "completed"
    },
    "tags": []
   },
   "outputs": [],
   "source": []
  }
 ],
 "metadata": {
  "kaggle": {
   "accelerator": "none",
   "dataSources": [
    {
     "datasetId": 1815,
     "sourceId": 3139,
     "sourceType": "datasetVersion"
    }
   ],
   "dockerImageVersionId": 30635,
   "isGpuEnabled": false,
   "isInternetEnabled": true,
   "language": "python",
   "sourceType": "notebook"
  },
  "kernelspec": {
   "display_name": "Python 3",
   "language": "python",
   "name": "python3"
  },
  "language_info": {
   "codemirror_mode": {
    "name": "ipython",
    "version": 3
   },
   "file_extension": ".py",
   "mimetype": "text/x-python",
   "name": "python",
   "nbconvert_exporter": "python",
   "pygments_lexer": "ipython3",
   "version": "3.10.12"
  },
  "papermill": {
   "default_parameters": {},
   "duration": 8.262752,
   "end_time": "2024-01-18T09:54:32.200105",
   "environment_variables": {},
   "exception": null,
   "input_path": "__notebook__.ipynb",
   "output_path": "__notebook__.ipynb",
   "parameters": {},
   "start_time": "2024-01-18T09:54:23.937353",
   "version": "2.4.0"
  }
 },
 "nbformat": 4,
 "nbformat_minor": 5
}
