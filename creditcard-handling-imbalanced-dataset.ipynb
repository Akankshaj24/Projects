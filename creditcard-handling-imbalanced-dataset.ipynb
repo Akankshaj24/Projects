{
 "cells": [
  {
   "cell_type": "code",
   "execution_count": 1,
   "id": "99f794f9",
   "metadata": {
    "_cell_guid": "b1076dfc-b9ad-4769-8c92-a6c4dae69d19",
    "_uuid": "8f2839f25d086af736a60e9eeb907d3b93b6e0e5",
    "execution": {
     "iopub.execute_input": "2023-11-24T17:23:31.948720Z",
     "iopub.status.busy": "2023-11-24T17:23:31.948292Z",
     "iopub.status.idle": "2023-11-24T17:23:32.348065Z",
     "shell.execute_reply": "2023-11-24T17:23:32.346864Z"
    },
    "papermill": {
     "duration": 0.414792,
     "end_time": "2023-11-24T17:23:32.350538",
     "exception": false,
     "start_time": "2023-11-24T17:23:31.935746",
     "status": "completed"
    },
    "tags": []
   },
   "outputs": [
    {
     "name": "stdout",
     "output_type": "stream",
     "text": [
      "/kaggle/input/creditcardcsv/creditcard.csv\n"
     ]
    }
   ],
   "source": [
    "# This Python 3 environment comes with many helpful analytics libraries installed\n",
    "# It is defined by the kaggle/python Docker image: https://github.com/kaggle/docker-python\n",
    "# For example, here's several helpful packages to load\n",
    "\n",
    "import numpy as np # linear algebra\n",
    "import pandas as pd # data processing, CSV file I/O (e.g. pd.read_csv)\n",
    "\n",
    "# Input data files are available in the read-only \"../input/\" directory\n",
    "# For example, running this (by clicking run or pressing Shift+Enter) will list all files under the input directory\n",
    "\n",
    "import os\n",
    "for dirname, _, filenames in os.walk('/kaggle/input'):\n",
    "    for filename in filenames:\n",
    "        print(os.path.join(dirname, filename))\n",
    "\n",
    "# You can write up to 20GB to the current directory (/kaggle/working/) that gets preserved as output when you create a version using \"Save & Run All\" \n",
    "# You can also write temporary files to /kaggle/temp/, but they won't be saved outside of the current session"
   ]
  },
  {
   "cell_type": "code",
   "execution_count": 2,
   "id": "1a35b6ab",
   "metadata": {
    "execution": {
     "iopub.execute_input": "2023-11-24T17:23:32.373522Z",
     "iopub.status.busy": "2023-11-24T17:23:32.373024Z",
     "iopub.status.idle": "2023-11-24T17:23:34.169166Z",
     "shell.execute_reply": "2023-11-24T17:23:34.168023Z"
    },
    "papermill": {
     "duration": 1.811137,
     "end_time": "2023-11-24T17:23:34.172054",
     "exception": false,
     "start_time": "2023-11-24T17:23:32.360917",
     "status": "completed"
    },
    "tags": []
   },
   "outputs": [],
   "source": [
    "import sklearn\n",
    "import scipy\n",
    "import matplotlib.pyplot as plt\n",
    "import seaborn as sns\n",
    "from sklearn.metrics import classification_report, confusion_matrix\n",
    "from sklearn.ensemble import IsolationForest\n",
    "from sklearn.neighbors import LocalOutlierFactor\n",
    "from pylab import rcParams\n",
    "rcParams['figure.figsize'] = 14,8\n",
    "RANDOM_SEED = 42\n",
    "LABELS = ['Normal','Fraud']"
   ]
  },
  {
   "cell_type": "code",
   "execution_count": 3,
   "id": "fcd2267c",
   "metadata": {
    "execution": {
     "iopub.execute_input": "2023-11-24T17:23:34.195475Z",
     "iopub.status.busy": "2023-11-24T17:23:34.195059Z",
     "iopub.status.idle": "2023-11-24T17:23:39.057673Z",
     "shell.execute_reply": "2023-11-24T17:23:39.055808Z"
    },
    "papermill": {
     "duration": 4.877197,
     "end_time": "2023-11-24T17:23:39.060373",
     "exception": false,
     "start_time": "2023-11-24T17:23:34.183176",
     "status": "completed"
    },
    "tags": []
   },
   "outputs": [
    {
     "data": {
      "text/html": [
       "<div>\n",
       "<style scoped>\n",
       "    .dataframe tbody tr th:only-of-type {\n",
       "        vertical-align: middle;\n",
       "    }\n",
       "\n",
       "    .dataframe tbody tr th {\n",
       "        vertical-align: top;\n",
       "    }\n",
       "\n",
       "    .dataframe thead th {\n",
       "        text-align: right;\n",
       "    }\n",
       "</style>\n",
       "<table border=\"1\" class=\"dataframe\">\n",
       "  <thead>\n",
       "    <tr style=\"text-align: right;\">\n",
       "      <th></th>\n",
       "      <th>Time</th>\n",
       "      <th>V1</th>\n",
       "      <th>V2</th>\n",
       "      <th>V3</th>\n",
       "      <th>V4</th>\n",
       "      <th>V5</th>\n",
       "      <th>V6</th>\n",
       "      <th>V7</th>\n",
       "      <th>V8</th>\n",
       "      <th>V9</th>\n",
       "      <th>...</th>\n",
       "      <th>V21</th>\n",
       "      <th>V22</th>\n",
       "      <th>V23</th>\n",
       "      <th>V24</th>\n",
       "      <th>V25</th>\n",
       "      <th>V26</th>\n",
       "      <th>V27</th>\n",
       "      <th>V28</th>\n",
       "      <th>Amount</th>\n",
       "      <th>Class</th>\n",
       "    </tr>\n",
       "  </thead>\n",
       "  <tbody>\n",
       "    <tr>\n",
       "      <th>0</th>\n",
       "      <td>0.0</td>\n",
       "      <td>-1.359807</td>\n",
       "      <td>-0.072781</td>\n",
       "      <td>2.536347</td>\n",
       "      <td>1.378155</td>\n",
       "      <td>-0.338321</td>\n",
       "      <td>0.462388</td>\n",
       "      <td>0.239599</td>\n",
       "      <td>0.098698</td>\n",
       "      <td>0.363787</td>\n",
       "      <td>...</td>\n",
       "      <td>-0.018307</td>\n",
       "      <td>0.277838</td>\n",
       "      <td>-0.110474</td>\n",
       "      <td>0.066928</td>\n",
       "      <td>0.128539</td>\n",
       "      <td>-0.189115</td>\n",
       "      <td>0.133558</td>\n",
       "      <td>-0.021053</td>\n",
       "      <td>149.62</td>\n",
       "      <td>0</td>\n",
       "    </tr>\n",
       "    <tr>\n",
       "      <th>1</th>\n",
       "      <td>0.0</td>\n",
       "      <td>1.191857</td>\n",
       "      <td>0.266151</td>\n",
       "      <td>0.166480</td>\n",
       "      <td>0.448154</td>\n",
       "      <td>0.060018</td>\n",
       "      <td>-0.082361</td>\n",
       "      <td>-0.078803</td>\n",
       "      <td>0.085102</td>\n",
       "      <td>-0.255425</td>\n",
       "      <td>...</td>\n",
       "      <td>-0.225775</td>\n",
       "      <td>-0.638672</td>\n",
       "      <td>0.101288</td>\n",
       "      <td>-0.339846</td>\n",
       "      <td>0.167170</td>\n",
       "      <td>0.125895</td>\n",
       "      <td>-0.008983</td>\n",
       "      <td>0.014724</td>\n",
       "      <td>2.69</td>\n",
       "      <td>0</td>\n",
       "    </tr>\n",
       "    <tr>\n",
       "      <th>2</th>\n",
       "      <td>1.0</td>\n",
       "      <td>-1.358354</td>\n",
       "      <td>-1.340163</td>\n",
       "      <td>1.773209</td>\n",
       "      <td>0.379780</td>\n",
       "      <td>-0.503198</td>\n",
       "      <td>1.800499</td>\n",
       "      <td>0.791461</td>\n",
       "      <td>0.247676</td>\n",
       "      <td>-1.514654</td>\n",
       "      <td>...</td>\n",
       "      <td>0.247998</td>\n",
       "      <td>0.771679</td>\n",
       "      <td>0.909412</td>\n",
       "      <td>-0.689281</td>\n",
       "      <td>-0.327642</td>\n",
       "      <td>-0.139097</td>\n",
       "      <td>-0.055353</td>\n",
       "      <td>-0.059752</td>\n",
       "      <td>378.66</td>\n",
       "      <td>0</td>\n",
       "    </tr>\n",
       "    <tr>\n",
       "      <th>3</th>\n",
       "      <td>1.0</td>\n",
       "      <td>-0.966272</td>\n",
       "      <td>-0.185226</td>\n",
       "      <td>1.792993</td>\n",
       "      <td>-0.863291</td>\n",
       "      <td>-0.010309</td>\n",
       "      <td>1.247203</td>\n",
       "      <td>0.237609</td>\n",
       "      <td>0.377436</td>\n",
       "      <td>-1.387024</td>\n",
       "      <td>...</td>\n",
       "      <td>-0.108300</td>\n",
       "      <td>0.005274</td>\n",
       "      <td>-0.190321</td>\n",
       "      <td>-1.175575</td>\n",
       "      <td>0.647376</td>\n",
       "      <td>-0.221929</td>\n",
       "      <td>0.062723</td>\n",
       "      <td>0.061458</td>\n",
       "      <td>123.50</td>\n",
       "      <td>0</td>\n",
       "    </tr>\n",
       "    <tr>\n",
       "      <th>4</th>\n",
       "      <td>2.0</td>\n",
       "      <td>-1.158233</td>\n",
       "      <td>0.877737</td>\n",
       "      <td>1.548718</td>\n",
       "      <td>0.403034</td>\n",
       "      <td>-0.407193</td>\n",
       "      <td>0.095921</td>\n",
       "      <td>0.592941</td>\n",
       "      <td>-0.270533</td>\n",
       "      <td>0.817739</td>\n",
       "      <td>...</td>\n",
       "      <td>-0.009431</td>\n",
       "      <td>0.798278</td>\n",
       "      <td>-0.137458</td>\n",
       "      <td>0.141267</td>\n",
       "      <td>-0.206010</td>\n",
       "      <td>0.502292</td>\n",
       "      <td>0.219422</td>\n",
       "      <td>0.215153</td>\n",
       "      <td>69.99</td>\n",
       "      <td>0</td>\n",
       "    </tr>\n",
       "  </tbody>\n",
       "</table>\n",
       "<p>5 rows × 31 columns</p>\n",
       "</div>"
      ],
      "text/plain": [
       "   Time        V1        V2        V3        V4        V5        V6        V7  \\\n",
       "0   0.0 -1.359807 -0.072781  2.536347  1.378155 -0.338321  0.462388  0.239599   \n",
       "1   0.0  1.191857  0.266151  0.166480  0.448154  0.060018 -0.082361 -0.078803   \n",
       "2   1.0 -1.358354 -1.340163  1.773209  0.379780 -0.503198  1.800499  0.791461   \n",
       "3   1.0 -0.966272 -0.185226  1.792993 -0.863291 -0.010309  1.247203  0.237609   \n",
       "4   2.0 -1.158233  0.877737  1.548718  0.403034 -0.407193  0.095921  0.592941   \n",
       "\n",
       "         V8        V9  ...       V21       V22       V23       V24       V25  \\\n",
       "0  0.098698  0.363787  ... -0.018307  0.277838 -0.110474  0.066928  0.128539   \n",
       "1  0.085102 -0.255425  ... -0.225775 -0.638672  0.101288 -0.339846  0.167170   \n",
       "2  0.247676 -1.514654  ...  0.247998  0.771679  0.909412 -0.689281 -0.327642   \n",
       "3  0.377436 -1.387024  ... -0.108300  0.005274 -0.190321 -1.175575  0.647376   \n",
       "4 -0.270533  0.817739  ... -0.009431  0.798278 -0.137458  0.141267 -0.206010   \n",
       "\n",
       "        V26       V27       V28  Amount  Class  \n",
       "0 -0.189115  0.133558 -0.021053  149.62      0  \n",
       "1  0.125895 -0.008983  0.014724    2.69      0  \n",
       "2 -0.139097 -0.055353 -0.059752  378.66      0  \n",
       "3 -0.221929  0.062723  0.061458  123.50      0  \n",
       "4  0.502292  0.219422  0.215153   69.99      0  \n",
       "\n",
       "[5 rows x 31 columns]"
      ]
     },
     "execution_count": 3,
     "metadata": {},
     "output_type": "execute_result"
    }
   ],
   "source": [
    "df = pd.read_csv(\"/kaggle/input/creditcardcsv/creditcard.csv\")\n",
    "df.head()"
   ]
  },
  {
   "cell_type": "code",
   "execution_count": 4,
   "id": "adafcbd8",
   "metadata": {
    "execution": {
     "iopub.execute_input": "2023-11-24T17:23:39.084046Z",
     "iopub.status.busy": "2023-11-24T17:23:39.083494Z",
     "iopub.status.idle": "2023-11-24T17:23:39.091837Z",
     "shell.execute_reply": "2023-11-24T17:23:39.090727Z"
    },
    "papermill": {
     "duration": 0.022744,
     "end_time": "2023-11-24T17:23:39.093894",
     "exception": false,
     "start_time": "2023-11-24T17:23:39.071150",
     "status": "completed"
    },
    "tags": []
   },
   "outputs": [
    {
     "data": {
      "text/plain": [
       "(284807, 31)"
      ]
     },
     "execution_count": 4,
     "metadata": {},
     "output_type": "execute_result"
    }
   ],
   "source": [
    "df.shape"
   ]
  },
  {
   "cell_type": "code",
   "execution_count": 5,
   "id": "a055b560",
   "metadata": {
    "execution": {
     "iopub.execute_input": "2023-11-24T17:23:39.117560Z",
     "iopub.status.busy": "2023-11-24T17:23:39.116704Z",
     "iopub.status.idle": "2023-11-24T17:23:39.158006Z",
     "shell.execute_reply": "2023-11-24T17:23:39.156632Z"
    },
    "papermill": {
     "duration": 0.056119,
     "end_time": "2023-11-24T17:23:39.160854",
     "exception": false,
     "start_time": "2023-11-24T17:23:39.104735",
     "status": "completed"
    },
    "tags": []
   },
   "outputs": [
    {
     "name": "stdout",
     "output_type": "stream",
     "text": [
      "<class 'pandas.core.frame.DataFrame'>\n",
      "RangeIndex: 284807 entries, 0 to 284806\n",
      "Data columns (total 31 columns):\n",
      " #   Column  Non-Null Count   Dtype  \n",
      "---  ------  --------------   -----  \n",
      " 0   Time    284807 non-null  float64\n",
      " 1   V1      284807 non-null  float64\n",
      " 2   V2      284807 non-null  float64\n",
      " 3   V3      284807 non-null  float64\n",
      " 4   V4      284807 non-null  float64\n",
      " 5   V5      284807 non-null  float64\n",
      " 6   V6      284807 non-null  float64\n",
      " 7   V7      284807 non-null  float64\n",
      " 8   V8      284807 non-null  float64\n",
      " 9   V9      284807 non-null  float64\n",
      " 10  V10     284807 non-null  float64\n",
      " 11  V11     284807 non-null  float64\n",
      " 12  V12     284807 non-null  float64\n",
      " 13  V13     284807 non-null  float64\n",
      " 14  V14     284807 non-null  float64\n",
      " 15  V15     284807 non-null  float64\n",
      " 16  V16     284807 non-null  float64\n",
      " 17  V17     284807 non-null  float64\n",
      " 18  V18     284807 non-null  float64\n",
      " 19  V19     284807 non-null  float64\n",
      " 20  V20     284807 non-null  float64\n",
      " 21  V21     284807 non-null  float64\n",
      " 22  V22     284807 non-null  float64\n",
      " 23  V23     284807 non-null  float64\n",
      " 24  V24     284807 non-null  float64\n",
      " 25  V25     284807 non-null  float64\n",
      " 26  V26     284807 non-null  float64\n",
      " 27  V27     284807 non-null  float64\n",
      " 28  V28     284807 non-null  float64\n",
      " 29  Amount  284807 non-null  float64\n",
      " 30  Class   284807 non-null  int64  \n",
      "dtypes: float64(30), int64(1)\n",
      "memory usage: 67.4 MB\n"
     ]
    }
   ],
   "source": [
    "df.info()"
   ]
  },
  {
   "cell_type": "code",
   "execution_count": 6,
   "id": "3917210d",
   "metadata": {
    "execution": {
     "iopub.execute_input": "2023-11-24T17:23:39.184852Z",
     "iopub.status.busy": "2023-11-24T17:23:39.184466Z",
     "iopub.status.idle": "2023-11-24T17:23:39.341233Z",
     "shell.execute_reply": "2023-11-24T17:23:39.339785Z"
    },
    "papermill": {
     "duration": 0.171929,
     "end_time": "2023-11-24T17:23:39.343669",
     "exception": false,
     "start_time": "2023-11-24T17:23:39.171740",
     "status": "completed"
    },
    "tags": []
   },
   "outputs": [
    {
     "name": "stdout",
     "output_type": "stream",
     "text": [
      "(284807, 30) (284807,)\n"
     ]
    }
   ],
   "source": [
    "columns = df.columns.tolist()\n",
    "columns = [c for c in columns if c not in [\"Class\"]]\n",
    "target = \"Class\"\n",
    "\n",
    "state = np.random.RandomState(42)\n",
    "\n",
    "X = df[columns]\n",
    "y = df[target]\n",
    "\n",
    "X_outliers = state.uniform(size=(X.shape[0],X.shape[1]))\n",
    "\n",
    "print(X.shape, y.shape)"
   ]
  },
  {
   "cell_type": "markdown",
   "id": "24b4a92d",
   "metadata": {
    "papermill": {
     "duration": 0.01054,
     "end_time": "2023-11-24T17:23:39.365442",
     "exception": false,
     "start_time": "2023-11-24T17:23:39.354902",
     "status": "completed"
    },
    "tags": []
   },
   "source": [
    "# Exploratory Data Analysis"
   ]
  },
  {
   "cell_type": "code",
   "execution_count": 7,
   "id": "e63f8c88",
   "metadata": {
    "execution": {
     "iopub.execute_input": "2023-11-24T17:23:39.388479Z",
     "iopub.status.busy": "2023-11-24T17:23:39.388101Z",
     "iopub.status.idle": "2023-11-24T17:23:39.405194Z",
     "shell.execute_reply": "2023-11-24T17:23:39.404042Z"
    },
    "papermill": {
     "duration": 0.031348,
     "end_time": "2023-11-24T17:23:39.407563",
     "exception": false,
     "start_time": "2023-11-24T17:23:39.376215",
     "status": "completed"
    },
    "tags": []
   },
   "outputs": [
    {
     "data": {
      "text/plain": [
       "False"
      ]
     },
     "execution_count": 7,
     "metadata": {},
     "output_type": "execute_result"
    }
   ],
   "source": [
    "df.isnull().values.any()"
   ]
  },
  {
   "cell_type": "code",
   "execution_count": 8,
   "id": "b38e693d",
   "metadata": {
    "execution": {
     "iopub.execute_input": "2023-11-24T17:23:39.432070Z",
     "iopub.status.busy": "2023-11-24T17:23:39.431262Z",
     "iopub.status.idle": "2023-11-24T17:23:39.771880Z",
     "shell.execute_reply": "2023-11-24T17:23:39.770704Z"
    },
    "papermill": {
     "duration": 0.355268,
     "end_time": "2023-11-24T17:23:39.774286",
     "exception": false,
     "start_time": "2023-11-24T17:23:39.419018",
     "status": "completed"
    },
    "tags": []
   },
   "outputs": [
    {
     "data": {
      "text/plain": [
       "Text(0, 0.5, 'Frequency')"
      ]
     },
     "execution_count": 8,
     "metadata": {},
     "output_type": "execute_result"
    },
    {
     "data": {
      "image/png": "[encoded data removed]",
      "text/plain": [
       "<Figure size 1400x800 with 1 Axes>"
      ]
     },
     "metadata": {},
     "output_type": "display_data"
    }
   ],
   "source": [
    "count_classes = pd.value_counts(df['Class'], sort=True)\n",
    "count_classes.plot(kind='bar', rot =0)\n",
    "\n",
    "plt.title(\"Transaction Class Distribution\")\n",
    "plt.xticks(range(2), LABELS)\n",
    "plt.xlabel(\"Class\")\n",
    "plt.ylabel(\"Frequency\")"
   ]
  },
  {
   "cell_type": "code",
   "execution_count": 9,
   "id": "7a200956",
   "metadata": {
    "execution": {
     "iopub.execute_input": "2023-11-24T17:23:39.799439Z",
     "iopub.status.busy": "2023-11-24T17:23:39.798570Z",
     "iopub.status.idle": "2023-11-24T17:23:39.853328Z",
     "shell.execute_reply": "2023-11-24T17:23:39.852218Z"
    },
    "papermill": {
     "duration": 0.070113,
     "end_time": "2023-11-24T17:23:39.855908",
     "exception": false,
     "start_time": "2023-11-24T17:23:39.785795",
     "status": "completed"
    },
    "tags": []
   },
   "outputs": [],
   "source": [
    "# Get the fraud and normal dataset\n",
    "\n",
    "fraud = df[df['Class']==1]\n",
    "normal = df[df['Class']==0]"
   ]
  },
  {
   "cell_type": "code",
   "execution_count": 10,
   "id": "c61b6ef4",
   "metadata": {
    "execution": {
     "iopub.execute_input": "2023-11-24T17:23:39.881315Z",
     "iopub.status.busy": "2023-11-24T17:23:39.880502Z",
     "iopub.status.idle": "2023-11-24T17:23:39.886939Z",
     "shell.execute_reply": "2023-11-24T17:23:39.885738Z"
    },
    "papermill": {
     "duration": 0.02168,
     "end_time": "2023-11-24T17:23:39.889258",
     "exception": false,
     "start_time": "2023-11-24T17:23:39.867578",
     "status": "completed"
    },
    "tags": []
   },
   "outputs": [
    {
     "name": "stdout",
     "output_type": "stream",
     "text": [
      "(492, 31) (284315, 31)\n"
     ]
    }
   ],
   "source": [
    "print(fraud.shape, normal.shape)"
   ]
  },
  {
   "cell_type": "markdown",
   "id": "be46a29d",
   "metadata": {
    "papermill": {
     "duration": 0.011158,
     "end_time": "2023-11-24T17:23:39.912080",
     "exception": false,
     "start_time": "2023-11-24T17:23:39.900922",
     "status": "completed"
    },
    "tags": []
   },
   "source": [
    "# Under sampling using library nearmiss"
   ]
  },
  {
   "cell_type": "code",
   "execution_count": 11,
   "id": "c321594f",
   "metadata": {
    "execution": {
     "iopub.execute_input": "2023-11-24T17:23:39.999723Z",
     "iopub.status.busy": "2023-11-24T17:23:39.998675Z",
     "iopub.status.idle": "2023-11-24T17:23:40.130970Z",
     "shell.execute_reply": "2023-11-24T17:23:40.130025Z"
    },
    "papermill": {
     "duration": 0.147796,
     "end_time": "2023-11-24T17:23:40.133566",
     "exception": false,
     "start_time": "2023-11-24T17:23:39.985770",
     "status": "completed"
    },
    "tags": []
   },
   "outputs": [],
   "source": [
    "from imblearn.under_sampling import NearMiss"
   ]
  },
  {
   "cell_type": "code",
   "execution_count": 12,
   "id": "bd47569c",
   "metadata": {
    "execution": {
     "iopub.execute_input": "2023-11-24T17:23:40.158805Z",
     "iopub.status.busy": "2023-11-24T17:23:40.158244Z",
     "iopub.status.idle": "2023-11-24T17:23:41.146418Z",
     "shell.execute_reply": "2023-11-24T17:23:41.145504Z"
    },
    "papermill": {
     "duration": 1.003906,
     "end_time": "2023-11-24T17:23:41.149339",
     "exception": false,
     "start_time": "2023-11-24T17:23:40.145433",
     "status": "completed"
    },
    "tags": []
   },
   "outputs": [],
   "source": [
    "nm = NearMiss()\n",
    "X_res, y_res = nm.fit_resample(X, y)"
   ]
  },
  {
   "cell_type": "code",
   "execution_count": 13,
   "id": "8366a4f3",
   "metadata": {
    "execution": {
     "iopub.execute_input": "2023-11-24T17:23:41.175473Z",
     "iopub.status.busy": "2023-11-24T17:23:41.174598Z",
     "iopub.status.idle": "2023-11-24T17:23:41.181407Z",
     "shell.execute_reply": "2023-11-24T17:23:41.180636Z"
    },
    "papermill": {
     "duration": 0.022,
     "end_time": "2023-11-24T17:23:41.183572",
     "exception": false,
     "start_time": "2023-11-24T17:23:41.161572",
     "status": "completed"
    },
    "tags": []
   },
   "outputs": [
    {
     "data": {
      "text/plain": [
       "((984, 30), (984,))"
      ]
     },
     "execution_count": 13,
     "metadata": {},
     "output_type": "execute_result"
    }
   ],
   "source": [
    "X_res.shape, y_res.shape"
   ]
  },
  {
   "cell_type": "code",
   "execution_count": 14,
   "id": "0916573a",
   "metadata": {
    "execution": {
     "iopub.execute_input": "2023-11-24T17:23:41.210998Z",
     "iopub.status.busy": "2023-11-24T17:23:41.210300Z",
     "iopub.status.idle": "2023-11-24T17:23:41.254985Z",
     "shell.execute_reply": "2023-11-24T17:23:41.254208Z"
    },
    "papermill": {
     "duration": 0.061869,
     "end_time": "2023-11-24T17:23:41.257235",
     "exception": false,
     "start_time": "2023-11-24T17:23:41.195366",
     "status": "completed"
    },
    "tags": []
   },
   "outputs": [
    {
     "name": "stdout",
     "output_type": "stream",
     "text": [
      "Original dataset shape : Counter({0: 284315, 1: 492})\n",
      "Resampled dataset shape : Counter({0: 492, 1: 492})\n"
     ]
    }
   ],
   "source": [
    "# Change in dataset after under sampling\n",
    "\n",
    "from collections import Counter\n",
    "print(f\"Original dataset shape : {Counter(y)}\")\n",
    "print(f\"Resampled dataset shape : {Counter(y_res)}\")"
   ]
  },
  {
   "cell_type": "code",
   "execution_count": 15,
   "id": "ff40a27d",
   "metadata": {
    "execution": {
     "iopub.execute_input": "2023-11-24T17:23:41.283571Z",
     "iopub.status.busy": "2023-11-24T17:23:41.282906Z",
     "iopub.status.idle": "2023-11-24T17:23:41.290257Z",
     "shell.execute_reply": "2023-11-24T17:23:41.289092Z"
    },
    "papermill": {
     "duration": 0.023679,
     "end_time": "2023-11-24T17:23:41.292983",
     "exception": false,
     "start_time": "2023-11-24T17:23:41.269304",
     "status": "completed"
    },
    "tags": []
   },
   "outputs": [],
   "source": [
    "from sklearn.model_selection import train_test_split\n",
    "X_train, X_test, y_train, y_test = train_test_split(X_res, y_res, test_size = 0.2)"
   ]
  },
  {
   "cell_type": "code",
   "execution_count": 16,
   "id": "33e88688",
   "metadata": {
    "execution": {
     "iopub.execute_input": "2023-11-24T17:23:41.318395Z",
     "iopub.status.busy": "2023-11-24T17:23:41.317975Z",
     "iopub.status.idle": "2023-11-24T17:23:41.331303Z",
     "shell.execute_reply": "2023-11-24T17:23:41.330268Z"
    },
    "papermill": {
     "duration": 0.028532,
     "end_time": "2023-11-24T17:23:41.333551",
     "exception": false,
     "start_time": "2023-11-24T17:23:41.305019",
     "status": "completed"
    },
    "tags": []
   },
   "outputs": [
    {
     "data": {
      "text/html": [
       "<style>#sk-container-id-1 {color: black;background-color: white;}#sk-container-id-1 pre{padding: 0;}#sk-container-id-1 div.sk-toggleable {background-color: white;}#sk-container-id-1 label.sk-toggleable__label {cursor: pointer;display: block;width: 100%;margin-bottom: 0;padding: 0.3em;box-sizing: border-box;text-align: center;}#sk-container-id-1 label.sk-toggleable__label-arrow:before {content: \"▸\";float: left;margin-right: 0.25em;color: #696969;}#sk-container-id-1 label.sk-toggleable__label-arrow:hover:before {color: black;}#sk-container-id-1 div.sk-estimator:hover label.sk-toggleable__label-arrow:before {color: black;}#sk-container-id-1 div.sk-toggleable__content {max-height: 0;max-width: 0;overflow: hidden;text-align: left;background-color: #f0f8ff;}#sk-container-id-1 div.sk-toggleable__content pre {margin: 0.2em;color: black;border-radius: 0.25em;background-color: #f0f8ff;}#sk-container-id-1 input.sk-toggleable__control:checked~div.sk-toggleable__content {max-height: 200px;max-width: 100%;overflow: auto;}#sk-container-id-1 input.sk-toggleable__control:checked~label.sk-toggleable__label-arrow:before {content: \"▾\";}#sk-container-id-1 div.sk-estimator input.sk-toggleable__control:checked~label.sk-toggleable__label {background-color: #d4ebff;}#sk-container-id-1 div.sk-label input.sk-toggleable__control:checked~label.sk-toggleable__label {background-color: #d4ebff;}#sk-container-id-1 input.sk-hidden--visually {border: 0;clip: rect(1px 1px 1px 1px);clip: rect(1px, 1px, 1px, 1px);height: 1px;margin: -1px;overflow: hidden;padding: 0;position: absolute;width: 1px;}#sk-container-id-1 div.sk-estimator {font-family: monospace;background-color: #f0f8ff;border: 1px dotted black;border-radius: 0.25em;box-sizing: border-box;margin-bottom: 0.5em;}#sk-container-id-1 div.sk-estimator:hover {background-color: #d4ebff;}#sk-container-id-1 div.sk-parallel-item::after {content: \"\";width: 100%;border-bottom: 1px solid gray;flex-grow: 1;}#sk-container-id-1 div.sk-label:hover label.sk-toggleable__label {background-color: #d4ebff;}#sk-container-id-1 div.sk-serial::before {content: \"\";position: absolute;border-left: 1px solid gray;box-sizing: border-box;top: 0;bottom: 0;left: 50%;z-index: 0;}#sk-container-id-1 div.sk-serial {display: flex;flex-direction: column;align-items: center;background-color: white;padding-right: 0.2em;padding-left: 0.2em;position: relative;}#sk-container-id-1 div.sk-item {position: relative;z-index: 1;}#sk-container-id-1 div.sk-parallel {display: flex;align-items: stretch;justify-content: center;background-color: white;position: relative;}#sk-container-id-1 div.sk-item::before, #sk-container-id-1 div.sk-parallel-item::before {content: \"\";position: absolute;border-left: 1px solid gray;box-sizing: border-box;top: 0;bottom: 0;left: 50%;z-index: -1;}#sk-container-id-1 div.sk-parallel-item {display: flex;flex-direction: column;z-index: 1;position: relative;background-color: white;}#sk-container-id-1 div.sk-parallel-item:first-child::after {align-self: flex-end;width: 50%;}#sk-container-id-1 div.sk-parallel-item:last-child::after {align-self: flex-start;width: 50%;}#sk-container-id-1 div.sk-parallel-item:only-child::after {width: 0;}#sk-container-id-1 div.sk-dashed-wrapped {border: 1px dashed gray;margin: 0 0.4em 0.5em 0.4em;box-sizing: border-box;padding-bottom: 0.4em;background-color: white;}#sk-container-id-1 div.sk-label label {font-family: monospace;font-weight: bold;display: inline-block;line-height: 1.2em;}#sk-container-id-1 div.sk-label-container {text-align: center;}#sk-container-id-1 div.sk-container {/* jupyter's `normalize.less` sets `[hidden] { display: none; }` but bootstrap.min.css set `[hidden] { display: none !important; }` so we also need the `!important` here to be able to override the default hidden behavior on the sphinx rendered scikit-learn.org. See: https://github.com/scikit-learn/scikit-learn/issues/21755 */display: inline-block !important;position: relative;}#sk-container-id-1 div.sk-text-repr-fallback {display: none;}</style><div id=\"sk-container-id-1\" class=\"sk-top-container\"><div class=\"sk-text-repr-fallback\"><pre>KNeighborsClassifier()</pre><b>In a Jupyter environment, please rerun this cell to show the HTML representation or trust the notebook. <br />On GitHub, the HTML representation is unable to render, please try loading this page with nbviewer.org.</b></div><div class=\"sk-container\" hidden><div class=\"sk-item\"><div class=\"sk-estimator sk-toggleable\"><input class=\"sk-toggleable__control sk-hidden--visually\" id=\"sk-estimator-id-1\" type=\"checkbox\" checked><label for=\"sk-estimator-id-1\" class=\"sk-toggleable__label sk-toggleable__label-arrow\">KNeighborsClassifier</label><div class=\"sk-toggleable__content\"><pre>KNeighborsClassifier()</pre></div></div></div></div></div>"
      ],
      "text/plain": [
       "KNeighborsClassifier()"
      ]
     },
     "execution_count": 16,
     "metadata": {},
     "output_type": "execute_result"
    }
   ],
   "source": [
    "from sklearn.neighbors import KNeighborsClassifier\n",
    "knn = KNeighborsClassifier(n_neighbors = 5)\n",
    "knn.fit(X_train, y_train)"
   ]
  },
  {
   "cell_type": "code",
   "execution_count": 17,
   "id": "cc857816",
   "metadata": {
    "execution": {
     "iopub.execute_input": "2023-11-24T17:23:41.359794Z",
     "iopub.status.busy": "2023-11-24T17:23:41.359399Z",
     "iopub.status.idle": "2023-11-24T17:23:41.382055Z",
     "shell.execute_reply": "2023-11-24T17:23:41.380941Z"
    },
    "papermill": {
     "duration": 0.03882,
     "end_time": "2023-11-24T17:23:41.384553",
     "exception": false,
     "start_time": "2023-11-24T17:23:41.345733",
     "status": "completed"
    },
    "tags": []
   },
   "outputs": [],
   "source": [
    "pred = knn.predict(X_test)"
   ]
  },
  {
   "cell_type": "code",
   "execution_count": 18,
   "id": "eed4b1f2",
   "metadata": {
    "execution": {
     "iopub.execute_input": "2023-11-24T17:23:41.411160Z",
     "iopub.status.busy": "2023-11-24T17:23:41.410126Z",
     "iopub.status.idle": "2023-11-24T17:23:41.417896Z",
     "shell.execute_reply": "2023-11-24T17:23:41.416561Z"
    },
    "papermill": {
     "duration": 0.023041,
     "end_time": "2023-11-24T17:23:41.419827",
     "exception": false,
     "start_time": "2023-11-24T17:23:41.396786",
     "status": "completed"
    },
    "tags": []
   },
   "outputs": [
    {
     "name": "stdout",
     "output_type": "stream",
     "text": [
      "[[106   0]\n",
      " [ 12  79]]\n"
     ]
    }
   ],
   "source": [
    "print(confusion_matrix(y_test, pred))"
   ]
  },
  {
   "cell_type": "code",
   "execution_count": 19,
   "id": "7b5c364b",
   "metadata": {
    "execution": {
     "iopub.execute_input": "2023-11-24T17:23:41.446340Z",
     "iopub.status.busy": "2023-11-24T17:23:41.445366Z",
     "iopub.status.idle": "2023-11-24T17:23:41.459455Z",
     "shell.execute_reply": "2023-11-24T17:23:41.458654Z"
    },
    "papermill": {
     "duration": 0.029594,
     "end_time": "2023-11-24T17:23:41.461448",
     "exception": false,
     "start_time": "2023-11-24T17:23:41.431854",
     "status": "completed"
    },
    "tags": []
   },
   "outputs": [
    {
     "name": "stdout",
     "output_type": "stream",
     "text": [
      "              precision    recall  f1-score   support\n",
      "\n",
      "           0       0.90      1.00      0.95       106\n",
      "           1       1.00      0.87      0.93        91\n",
      "\n",
      "    accuracy                           0.94       197\n",
      "   macro avg       0.95      0.93      0.94       197\n",
      "weighted avg       0.95      0.94      0.94       197\n",
      "\n"
     ]
    }
   ],
   "source": [
    "print(classification_report(y_test, pred))"
   ]
  },
  {
   "cell_type": "markdown",
   "id": "261e4b4f",
   "metadata": {
    "papermill": {
     "duration": 0.011982,
     "end_time": "2023-11-24T17:23:41.485707",
     "exception": false,
     "start_time": "2023-11-24T17:23:41.473725",
     "status": "completed"
    },
    "tags": []
   },
   "source": [
    "# Over Sampling using SMOTETomek"
   ]
  },
  {
   "cell_type": "code",
   "execution_count": 20,
   "id": "7003e746",
   "metadata": {
    "execution": {
     "iopub.execute_input": "2023-11-24T17:23:41.512903Z",
     "iopub.status.busy": "2023-11-24T17:23:41.512229Z",
     "iopub.status.idle": "2023-11-24T17:23:41.549508Z",
     "shell.execute_reply": "2023-11-24T17:23:41.548684Z"
    },
    "papermill": {
     "duration": 0.053179,
     "end_time": "2023-11-24T17:23:41.551904",
     "exception": false,
     "start_time": "2023-11-24T17:23:41.498725",
     "status": "completed"
    },
    "tags": []
   },
   "outputs": [],
   "source": [
    "# Get the fraud and normal dataset\n",
    "\n",
    "fraud = df[df['Class']==1]\n",
    "normal = df[df['Class']==0]"
   ]
  },
  {
   "cell_type": "code",
   "execution_count": 21,
   "id": "dfe5ead7",
   "metadata": {
    "execution": {
     "iopub.execute_input": "2023-11-24T17:23:41.580799Z",
     "iopub.status.busy": "2023-11-24T17:23:41.580076Z",
     "iopub.status.idle": "2023-11-24T17:23:41.585619Z",
     "shell.execute_reply": "2023-11-24T17:23:41.584404Z"
    },
    "papermill": {
     "duration": 0.023334,
     "end_time": "2023-11-24T17:23:41.587787",
     "exception": false,
     "start_time": "2023-11-24T17:23:41.564453",
     "status": "completed"
    },
    "tags": []
   },
   "outputs": [
    {
     "name": "stdout",
     "output_type": "stream",
     "text": [
      "(492, 31) (284315, 31)\n"
     ]
    }
   ],
   "source": [
    "print(fraud.shape, normal.shape)"
   ]
  },
  {
   "cell_type": "code",
   "execution_count": 22,
   "id": "cb7c1d2c",
   "metadata": {
    "execution": {
     "iopub.execute_input": "2023-11-24T17:23:41.614276Z",
     "iopub.status.busy": "2023-11-24T17:23:41.613853Z",
     "iopub.status.idle": "2023-11-24T17:23:41.618061Z",
     "shell.execute_reply": "2023-11-24T17:23:41.617249Z"
    },
    "papermill": {
     "duration": 0.020002,
     "end_time": "2023-11-24T17:23:41.620209",
     "exception": false,
     "start_time": "2023-11-24T17:23:41.600207",
     "status": "completed"
    },
    "tags": []
   },
   "outputs": [],
   "source": [
    "# from imblearn.combine import SMOTETomek"
   ]
  },
  {
   "cell_type": "code",
   "execution_count": 23,
   "id": "0b7a3025",
   "metadata": {
    "execution": {
     "iopub.execute_input": "2023-11-24T17:23:41.647822Z",
     "iopub.status.busy": "2023-11-24T17:23:41.646952Z",
     "iopub.status.idle": "2023-11-24T17:23:41.651816Z",
     "shell.execute_reply": "2023-11-24T17:23:41.650769Z"
    },
    "papermill": {
     "duration": 0.021622,
     "end_time": "2023-11-24T17:23:41.654325",
     "exception": false,
     "start_time": "2023-11-24T17:23:41.632703",
     "status": "completed"
    },
    "tags": []
   },
   "outputs": [],
   "source": [
    "# smk = SMOTETomek(random_state = 42)"
   ]
  },
  {
   "cell_type": "code",
   "execution_count": 24,
   "id": "7e033a0b",
   "metadata": {
    "execution": {
     "iopub.execute_input": "2023-11-24T17:23:41.680995Z",
     "iopub.status.busy": "2023-11-24T17:23:41.680611Z",
     "iopub.status.idle": "2023-11-24T17:23:41.684699Z",
     "shell.execute_reply": "2023-11-24T17:23:41.683631Z"
    },
    "papermill": {
     "duration": 0.020303,
     "end_time": "2023-11-24T17:23:41.687066",
     "exception": false,
     "start_time": "2023-11-24T17:23:41.666763",
     "status": "completed"
    },
    "tags": []
   },
   "outputs": [],
   "source": [
    "# X_res, y_res = smk.fit_resample(X, y)"
   ]
  },
  {
   "cell_type": "code",
   "execution_count": 25,
   "id": "8af5141f",
   "metadata": {
    "execution": {
     "iopub.execute_input": "2023-11-24T17:23:41.714568Z",
     "iopub.status.busy": "2023-11-24T17:23:41.714194Z",
     "iopub.status.idle": "2023-11-24T17:23:41.718455Z",
     "shell.execute_reply": "2023-11-24T17:23:41.717362Z"
    },
    "papermill": {
     "duration": 0.020599,
     "end_time": "2023-11-24T17:23:41.720603",
     "exception": false,
     "start_time": "2023-11-24T17:23:41.700004",
     "status": "completed"
    },
    "tags": []
   },
   "outputs": [],
   "source": [
    "# X_res.shape, y_res.shape"
   ]
  },
  {
   "cell_type": "code",
   "execution_count": 26,
   "id": "d0568fe5",
   "metadata": {
    "execution": {
     "iopub.execute_input": "2023-11-24T17:23:41.748070Z",
     "iopub.status.busy": "2023-11-24T17:23:41.747667Z",
     "iopub.status.idle": "2023-11-24T17:23:41.751671Z",
     "shell.execute_reply": "2023-11-24T17:23:41.750770Z"
    },
    "papermill": {
     "duration": 0.020581,
     "end_time": "2023-11-24T17:23:41.753576",
     "exception": false,
     "start_time": "2023-11-24T17:23:41.732995",
     "status": "completed"
    },
    "tags": []
   },
   "outputs": [],
   "source": [
    "# from sklearn.model_selection import train_test_split\n",
    "# X_train, X_test, y_train, y_test = train_test_split(X_res, y_res, test_size = 0.2)"
   ]
  },
  {
   "cell_type": "code",
   "execution_count": 27,
   "id": "e6f39b68",
   "metadata": {
    "execution": {
     "iopub.execute_input": "2023-11-24T17:23:41.782685Z",
     "iopub.status.busy": "2023-11-24T17:23:41.781721Z",
     "iopub.status.idle": "2023-11-24T17:23:41.786811Z",
     "shell.execute_reply": "2023-11-24T17:23:41.785670Z"
    },
    "papermill": {
     "duration": 0.0232,
     "end_time": "2023-11-24T17:23:41.789199",
     "exception": false,
     "start_time": "2023-11-24T17:23:41.765999",
     "status": "completed"
    },
    "tags": []
   },
   "outputs": [],
   "source": [
    "# from sklearn.neighbors import KNeighborsClassifier\n",
    "# knn = KNeighborsClassifier(n_neighbors = 5)\n",
    "# knn.fit(X_train, y_train)"
   ]
  },
  {
   "cell_type": "code",
   "execution_count": 28,
   "id": "92237ca1",
   "metadata": {
    "execution": {
     "iopub.execute_input": "2023-11-24T17:23:41.816421Z",
     "iopub.status.busy": "2023-11-24T17:23:41.816046Z",
     "iopub.status.idle": "2023-11-24T17:23:41.820428Z",
     "shell.execute_reply": "2023-11-24T17:23:41.819336Z"
    },
    "papermill": {
     "duration": 0.02091,
     "end_time": "2023-11-24T17:23:41.822581",
     "exception": false,
     "start_time": "2023-11-24T17:23:41.801671",
     "status": "completed"
    },
    "tags": []
   },
   "outputs": [],
   "source": [
    "# pred = knn.predict(X_test)"
   ]
  },
  {
   "cell_type": "code",
   "execution_count": 29,
   "id": "ef3f1065",
   "metadata": {
    "execution": {
     "iopub.execute_input": "2023-11-24T17:23:41.851000Z",
     "iopub.status.busy": "2023-11-24T17:23:41.849714Z",
     "iopub.status.idle": "2023-11-24T17:23:41.855436Z",
     "shell.execute_reply": "2023-11-24T17:23:41.854549Z"
    },
    "papermill": {
     "duration": 0.021637,
     "end_time": "2023-11-24T17:23:41.857730",
     "exception": false,
     "start_time": "2023-11-24T17:23:41.836093",
     "status": "completed"
    },
    "tags": []
   },
   "outputs": [],
   "source": [
    "# print(confusion_matrix(y_test, pred))"
   ]
  },
  {
   "cell_type": "code",
   "execution_count": 30,
   "id": "c8f2b204",
   "metadata": {
    "execution": {
     "iopub.execute_input": "2023-11-24T17:23:41.884824Z",
     "iopub.status.busy": "2023-11-24T17:23:41.883687Z",
     "iopub.status.idle": "2023-11-24T17:23:41.888771Z",
     "shell.execute_reply": "2023-11-24T17:23:41.888039Z"
    },
    "papermill": {
     "duration": 0.0211,
     "end_time": "2023-11-24T17:23:41.891270",
     "exception": false,
     "start_time": "2023-11-24T17:23:41.870170",
     "status": "completed"
    },
    "tags": []
   },
   "outputs": [],
   "source": [
    "# print(classification_report(y_test, pred))"
   ]
  },
  {
   "cell_type": "code",
   "execution_count": 31,
   "id": "5ea824db",
   "metadata": {
    "execution": {
     "iopub.execute_input": "2023-11-24T17:23:41.919593Z",
     "iopub.status.busy": "2023-11-24T17:23:41.918304Z",
     "iopub.status.idle": "2023-11-24T17:23:41.923426Z",
     "shell.execute_reply": "2023-11-24T17:23:41.922617Z"
    },
    "papermill": {
     "duration": 0.021985,
     "end_time": "2023-11-24T17:23:41.925888",
     "exception": false,
     "start_time": "2023-11-24T17:23:41.903903",
     "status": "completed"
    },
    "tags": []
   },
   "outputs": [],
   "source": [
    "# Change in dataset after under sampling\n",
    "\n",
    "# from collections import Counter\n",
    "# print(f\"Original dataset shape : {Counter(y)}\")\n",
    "# print(f\"Resampled dataset shape : {Counter(y_res)}\")"
   ]
  },
  {
   "cell_type": "markdown",
   "id": "29a4b6a6",
   "metadata": {
    "papermill": {
     "duration": 0.01266,
     "end_time": "2023-11-24T17:23:41.951108",
     "exception": false,
     "start_time": "2023-11-24T17:23:41.938448",
     "status": "completed"
    },
    "tags": []
   },
   "source": [
    "# Over Sampling using RandomOverSampler"
   ]
  },
  {
   "cell_type": "code",
   "execution_count": 32,
   "id": "e4bb535d",
   "metadata": {
    "execution": {
     "iopub.execute_input": "2023-11-24T17:23:41.978009Z",
     "iopub.status.busy": "2023-11-24T17:23:41.976985Z",
     "iopub.status.idle": "2023-11-24T17:23:41.981611Z",
     "shell.execute_reply": "2023-11-24T17:23:41.980756Z"
    },
    "papermill": {
     "duration": 0.020592,
     "end_time": "2023-11-24T17:23:41.984024",
     "exception": false,
     "start_time": "2023-11-24T17:23:41.963432",
     "status": "completed"
    },
    "tags": []
   },
   "outputs": [],
   "source": [
    "from imblearn.over_sampling import RandomOverSampler\n",
    "os = RandomOverSampler()"
   ]
  },
  {
   "cell_type": "code",
   "execution_count": 33,
   "id": "ddfc8559",
   "metadata": {
    "execution": {
     "iopub.execute_input": "2023-11-24T17:23:42.010827Z",
     "iopub.status.busy": "2023-11-24T17:23:42.010439Z",
     "iopub.status.idle": "2023-11-24T17:23:42.258041Z",
     "shell.execute_reply": "2023-11-24T17:23:42.256829Z"
    },
    "papermill": {
     "duration": 0.263851,
     "end_time": "2023-11-24T17:23:42.260583",
     "exception": false,
     "start_time": "2023-11-24T17:23:41.996732",
     "status": "completed"
    },
    "tags": []
   },
   "outputs": [],
   "source": [
    "X_train_res, y_train_res = os.fit_resample(X, y)"
   ]
  },
  {
   "cell_type": "code",
   "execution_count": 34,
   "id": "17eb24c3",
   "metadata": {
    "execution": {
     "iopub.execute_input": "2023-11-24T17:23:42.288435Z",
     "iopub.status.busy": "2023-11-24T17:23:42.287425Z",
     "iopub.status.idle": "2023-11-24T17:23:42.294628Z",
     "shell.execute_reply": "2023-11-24T17:23:42.293383Z"
    },
    "papermill": {
     "duration": 0.023718,
     "end_time": "2023-11-24T17:23:42.296935",
     "exception": false,
     "start_time": "2023-11-24T17:23:42.273217",
     "status": "completed"
    },
    "tags": []
   },
   "outputs": [
    {
     "data": {
      "text/plain": [
       "((568630, 30), (568630,))"
      ]
     },
     "execution_count": 34,
     "metadata": {},
     "output_type": "execute_result"
    }
   ],
   "source": [
    "X_train_res.shape, y_train_res.shape"
   ]
  },
  {
   "cell_type": "code",
   "execution_count": 35,
   "id": "fc552f8b",
   "metadata": {
    "execution": {
     "iopub.execute_input": "2023-11-24T17:23:42.324055Z",
     "iopub.status.busy": "2023-11-24T17:23:42.323639Z",
     "iopub.status.idle": "2023-11-24T17:23:42.328533Z",
     "shell.execute_reply": "2023-11-24T17:23:42.327525Z"
    },
    "papermill": {
     "duration": 0.021143,
     "end_time": "2023-11-24T17:23:42.330674",
     "exception": false,
     "start_time": "2023-11-24T17:23:42.309531",
     "status": "completed"
    },
    "tags": []
   },
   "outputs": [],
   "source": [
    "os_us = RandomOverSampler()"
   ]
  },
  {
   "cell_type": "code",
   "execution_count": 36,
   "id": "1bf46bb6",
   "metadata": {
    "execution": {
     "iopub.execute_input": "2023-11-24T17:23:42.358102Z",
     "iopub.status.busy": "2023-11-24T17:23:42.357646Z",
     "iopub.status.idle": "2023-11-24T17:23:42.618668Z",
     "shell.execute_reply": "2023-11-24T17:23:42.617518Z"
    },
    "papermill": {
     "duration": 0.277717,
     "end_time": "2023-11-24T17:23:42.621311",
     "exception": false,
     "start_time": "2023-11-24T17:23:42.343594",
     "status": "completed"
    },
    "tags": []
   },
   "outputs": [],
   "source": [
    "X_train_res1, y_train_res1 = os_us.fit_resample(X, y)"
   ]
  },
  {
   "cell_type": "code",
   "execution_count": 37,
   "id": "d9763315",
   "metadata": {
    "execution": {
     "iopub.execute_input": "2023-11-24T17:23:42.649044Z",
     "iopub.status.busy": "2023-11-24T17:23:42.647822Z",
     "iopub.status.idle": "2023-11-24T17:23:42.656408Z",
     "shell.execute_reply": "2023-11-24T17:23:42.655276Z"
    },
    "papermill": {
     "duration": 0.024715,
     "end_time": "2023-11-24T17:23:42.658578",
     "exception": false,
     "start_time": "2023-11-24T17:23:42.633863",
     "status": "completed"
    },
    "tags": []
   },
   "outputs": [
    {
     "data": {
      "text/plain": [
       "((568630, 30), (568630,))"
      ]
     },
     "execution_count": 37,
     "metadata": {},
     "output_type": "execute_result"
    }
   ],
   "source": [
    "X_train_res1.shape, y_train_res1.shape"
   ]
  },
  {
   "cell_type": "code",
   "execution_count": 38,
   "id": "d6981669",
   "metadata": {
    "execution": {
     "iopub.execute_input": "2023-11-24T17:23:42.686162Z",
     "iopub.status.busy": "2023-11-24T17:23:42.685753Z",
     "iopub.status.idle": "2023-11-24T17:23:42.805349Z",
     "shell.execute_reply": "2023-11-24T17:23:42.804125Z"
    },
    "papermill": {
     "duration": 0.136935,
     "end_time": "2023-11-24T17:23:42.808137",
     "exception": false,
     "start_time": "2023-11-24T17:23:42.671202",
     "status": "completed"
    },
    "tags": []
   },
   "outputs": [
    {
     "name": "stdout",
     "output_type": "stream",
     "text": [
      "Original dataset shape : Counter({0: 284315, 1: 492})\n",
      "Resampled dataset shape : Counter({0: 284315, 1: 284315})\n"
     ]
    }
   ],
   "source": [
    "# Change in dataset after under sampling\n",
    "\n",
    "from collections import Counter\n",
    "print(f\"Original dataset shape : {Counter(y)}\")\n",
    "print(f\"Resampled dataset shape : {Counter(y_train_res1)}\")"
   ]
  },
  {
   "cell_type": "code",
   "execution_count": 39,
   "id": "09e706b0",
   "metadata": {
    "execution": {
     "iopub.execute_input": "2023-11-24T17:23:42.837112Z",
     "iopub.status.busy": "2023-11-24T17:23:42.836721Z",
     "iopub.status.idle": "2023-11-24T17:23:43.262099Z",
     "shell.execute_reply": "2023-11-24T17:23:43.260862Z"
    },
    "papermill": {
     "duration": 0.443072,
     "end_time": "2023-11-24T17:23:43.264585",
     "exception": false,
     "start_time": "2023-11-24T17:23:42.821513",
     "status": "completed"
    },
    "tags": []
   },
   "outputs": [],
   "source": [
    "from sklearn.model_selection import train_test_split\n",
    "X_train, X_test, y_train, y_test = train_test_split(X_train_res1, y_train_res1, test_size = 0.2)"
   ]
  },
  {
   "cell_type": "code",
   "execution_count": 40,
   "id": "e398c3ae",
   "metadata": {
    "execution": {
     "iopub.execute_input": "2023-11-24T17:23:43.291819Z",
     "iopub.status.busy": "2023-11-24T17:23:43.291435Z",
     "iopub.status.idle": "2023-11-24T17:23:43.461406Z",
     "shell.execute_reply": "2023-11-24T17:23:43.460246Z"
    },
    "papermill": {
     "duration": 0.186063,
     "end_time": "2023-11-24T17:23:43.463670",
     "exception": false,
     "start_time": "2023-11-24T17:23:43.277607",
     "status": "completed"
    },
    "tags": []
   },
   "outputs": [
    {
     "data": {
      "text/html": [
       "<style>#sk-container-id-2 {color: black;background-color: white;}#sk-container-id-2 pre{padding: 0;}#sk-container-id-2 div.sk-toggleable {background-color: white;}#sk-container-id-2 label.sk-toggleable__label {cursor: pointer;display: block;width: 100%;margin-bottom: 0;padding: 0.3em;box-sizing: border-box;text-align: center;}#sk-container-id-2 label.sk-toggleable__label-arrow:before {content: \"▸\";float: left;margin-right: 0.25em;color: #696969;}#sk-container-id-2 label.sk-toggleable__label-arrow:hover:before {color: black;}#sk-container-id-2 div.sk-estimator:hover label.sk-toggleable__label-arrow:before {color: black;}#sk-container-id-2 div.sk-toggleable__content {max-height: 0;max-width: 0;overflow: hidden;text-align: left;background-color: #f0f8ff;}#sk-container-id-2 div.sk-toggleable__content pre {margin: 0.2em;color: black;border-radius: 0.25em;background-color: #f0f8ff;}#sk-container-id-2 input.sk-toggleable__control:checked~div.sk-toggleable__content {max-height: 200px;max-width: 100%;overflow: auto;}#sk-container-id-2 input.sk-toggleable__control:checked~label.sk-toggleable__label-arrow:before {content: \"▾\";}#sk-container-id-2 div.sk-estimator input.sk-toggleable__control:checked~label.sk-toggleable__label {background-color: #d4ebff;}#sk-container-id-2 div.sk-label input.sk-toggleable__control:checked~label.sk-toggleable__label {background-color: #d4ebff;}#sk-container-id-2 input.sk-hidden--visually {border: 0;clip: rect(1px 1px 1px 1px);clip: rect(1px, 1px, 1px, 1px);height: 1px;margin: -1px;overflow: hidden;padding: 0;position: absolute;width: 1px;}#sk-container-id-2 div.sk-estimator {font-family: monospace;background-color: #f0f8ff;border: 1px dotted black;border-radius: 0.25em;box-sizing: border-box;margin-bottom: 0.5em;}#sk-container-id-2 div.sk-estimator:hover {background-color: #d4ebff;}#sk-container-id-2 div.sk-parallel-item::after {content: \"\";width: 100%;border-bottom: 1px solid gray;flex-grow: 1;}#sk-container-id-2 div.sk-label:hover label.sk-toggleable__label {background-color: #d4ebff;}#sk-container-id-2 div.sk-serial::before {content: \"\";position: absolute;border-left: 1px solid gray;box-sizing: border-box;top: 0;bottom: 0;left: 50%;z-index: 0;}#sk-container-id-2 div.sk-serial {display: flex;flex-direction: column;align-items: center;background-color: white;padding-right: 0.2em;padding-left: 0.2em;position: relative;}#sk-container-id-2 div.sk-item {position: relative;z-index: 1;}#sk-container-id-2 div.sk-parallel {display: flex;align-items: stretch;justify-content: center;background-color: white;position: relative;}#sk-container-id-2 div.sk-item::before, #sk-container-id-2 div.sk-parallel-item::before {content: \"\";position: absolute;border-left: 1px solid gray;box-sizing: border-box;top: 0;bottom: 0;left: 50%;z-index: -1;}#sk-container-id-2 div.sk-parallel-item {display: flex;flex-direction: column;z-index: 1;position: relative;background-color: white;}#sk-container-id-2 div.sk-parallel-item:first-child::after {align-self: flex-end;width: 50%;}#sk-container-id-2 div.sk-parallel-item:last-child::after {align-self: flex-start;width: 50%;}#sk-container-id-2 div.sk-parallel-item:only-child::after {width: 0;}#sk-container-id-2 div.sk-dashed-wrapped {border: 1px dashed gray;margin: 0 0.4em 0.5em 0.4em;box-sizing: border-box;padding-bottom: 0.4em;background-color: white;}#sk-container-id-2 div.sk-label label {font-family: monospace;font-weight: bold;display: inline-block;line-height: 1.2em;}#sk-container-id-2 div.sk-label-container {text-align: center;}#sk-container-id-2 div.sk-container {/* jupyter's `normalize.less` sets `[hidden] { display: none; }` but bootstrap.min.css set `[hidden] { display: none !important; }` so we also need the `!important` here to be able to override the default hidden behavior on the sphinx rendered scikit-learn.org. See: https://github.com/scikit-learn/scikit-learn/issues/21755 */display: inline-block !important;position: relative;}#sk-container-id-2 div.sk-text-repr-fallback {display: none;}</style><div id=\"sk-container-id-2\" class=\"sk-top-container\"><div class=\"sk-text-repr-fallback\"><pre>KNeighborsClassifier()</pre><b>In a Jupyter environment, please rerun this cell to show the HTML representation or trust the notebook. <br />On GitHub, the HTML representation is unable to render, please try loading this page with nbviewer.org.</b></div><div class=\"sk-container\" hidden><div class=\"sk-item\"><div class=\"sk-estimator sk-toggleable\"><input class=\"sk-toggleable__control sk-hidden--visually\" id=\"sk-estimator-id-2\" type=\"checkbox\" checked><label for=\"sk-estimator-id-2\" class=\"sk-toggleable__label sk-toggleable__label-arrow\">KNeighborsClassifier</label><div class=\"sk-toggleable__content\"><pre>KNeighborsClassifier()</pre></div></div></div></div></div>"
      ],
      "text/plain": [
       "KNeighborsClassifier()"
      ]
     },
     "execution_count": 40,
     "metadata": {},
     "output_type": "execute_result"
    }
   ],
   "source": [
    "from sklearn.neighbors import KNeighborsClassifier\n",
    "knn = KNeighborsClassifier(n_neighbors = 5)\n",
    "knn.fit(X_train, y_train)"
   ]
  },
  {
   "cell_type": "code",
   "execution_count": 41,
   "id": "55d63b33",
   "metadata": {
    "execution": {
     "iopub.execute_input": "2023-11-24T17:23:43.490844Z",
     "iopub.status.busy": "2023-11-24T17:23:43.490453Z",
     "iopub.status.idle": "2023-11-24T17:25:58.511551Z",
     "shell.execute_reply": "2023-11-24T17:25:58.510242Z"
    },
    "papermill": {
     "duration": 135.038173,
     "end_time": "2023-11-24T17:25:58.514654",
     "exception": false,
     "start_time": "2023-11-24T17:23:43.476481",
     "status": "completed"
    },
    "tags": []
   },
   "outputs": [],
   "source": [
    "pred = knn.predict(X_test)"
   ]
  },
  {
   "cell_type": "code",
   "execution_count": 42,
   "id": "4251c1b4",
   "metadata": {
    "execution": {
     "iopub.execute_input": "2023-11-24T17:25:58.542550Z",
     "iopub.status.busy": "2023-11-24T17:25:58.542160Z",
     "iopub.status.idle": "2023-11-24T17:25:58.570064Z",
     "shell.execute_reply": "2023-11-24T17:25:58.568682Z"
    },
    "papermill": {
     "duration": 0.044668,
     "end_time": "2023-11-24T17:25:58.572502",
     "exception": false,
     "start_time": "2023-11-24T17:25:58.527834",
     "status": "completed"
    },
    "tags": []
   },
   "outputs": [
    {
     "name": "stdout",
     "output_type": "stream",
     "text": [
      "[[56609   109]\n",
      " [    0 57008]]\n"
     ]
    }
   ],
   "source": [
    "print(confusion_matrix(y_test, pred))"
   ]
  },
  {
   "cell_type": "code",
   "execution_count": 43,
   "id": "6cd2616d",
   "metadata": {
    "execution": {
     "iopub.execute_input": "2023-11-24T17:25:58.599973Z",
     "iopub.status.busy": "2023-11-24T17:25:58.599581Z",
     "iopub.status.idle": "2023-11-24T17:25:58.825345Z",
     "shell.execute_reply": "2023-11-24T17:25:58.824096Z"
    },
    "papermill": {
     "duration": 0.242392,
     "end_time": "2023-11-24T17:25:58.827794",
     "exception": false,
     "start_time": "2023-11-24T17:25:58.585402",
     "status": "completed"
    },
    "tags": []
   },
   "outputs": [
    {
     "name": "stdout",
     "output_type": "stream",
     "text": [
      "              precision    recall  f1-score   support\n",
      "\n",
      "           0       1.00      1.00      1.00     56718\n",
      "           1       1.00      1.00      1.00     57008\n",
      "\n",
      "    accuracy                           1.00    113726\n",
      "   macro avg       1.00      1.00      1.00    113726\n",
      "weighted avg       1.00      1.00      1.00    113726\n",
      "\n"
     ]
    }
   ],
   "source": [
    "print(classification_report(y_test, pred))"
   ]
  },
  {
   "cell_type": "code",
   "execution_count": null,
   "id": "787ba04f",
   "metadata": {
    "papermill": {
     "duration": 0.01302,
     "end_time": "2023-11-24T17:25:58.854488",
     "exception": false,
     "start_time": "2023-11-24T17:25:58.841468",
     "status": "completed"
    },
    "tags": []
   },
   "outputs": [],
   "source": []
  }
 ],
 "metadata": {
  "kaggle": {
   "accelerator": "none",
   "dataSources": [
    {
     "datasetId": 973805,
     "sourceId": 1646864,
     "sourceType": "datasetVersion"
    }
   ],
   "dockerImageVersionId": 30587,
   "isGpuEnabled": false,
   "isInternetEnabled": true,
   "language": "python",
   "sourceType": "notebook"
  },
  "kernelspec": {
   "display_name": "Python 3",
   "language": "python",
   "name": "python3"
  },
  "language_info": {
   "codemirror_mode": {
    "name": "ipython",
    "version": 3
   },
   "file_extension": ".py",
   "mimetype": "text/x-python",
   "name": "python",
   "nbconvert_exporter": "python",
   "pygments_lexer": "ipython3",
   "version": "3.10.12"
  },
  "papermill": {
   "default_parameters": {},
   "duration": 150.739297,
   "end_time": "2023-11-24T17:25:59.589053",
   "environment_variables": {},
   "exception": null,
   "input_path": "__notebook__.ipynb",
   "output_path": "__notebook__.ipynb",
   "parameters": {},
   "start_time": "2023-11-24T17:23:28.849756",
   "version": "2.4.0"
  }
 },
 "nbformat": 4,
 "nbformat_minor": 5
}
